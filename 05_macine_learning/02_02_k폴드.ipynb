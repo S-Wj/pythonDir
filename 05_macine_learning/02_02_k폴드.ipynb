{
 "cells": [
  {
   "cell_type": "markdown",
   "id": "2457e031-d1e6-49a2-a6ec-9fc786163c05",
   "metadata": {},
   "source": [
    "## 교차검증\n",
    "검증 데이터를 교차로 지정하여 더 다양한 형태로 평가해서 예측 정확도를 검증하고 학습하는 과정.\n",
    "- 다만 너무 학습한 데이터에만 최적화 되어 과적합에 취약 할 수 있음.\n",
    "\n",
    "#### K폴드 교차검증"
   ]
  },
  {
   "cell_type": "code",
   "execution_count": 1,
   "id": "26a72fb0-b32e-4e4d-9b46-45d1f4764aff",
   "metadata": {},
   "outputs": [],
   "source": [
    "from sklearn.tree import DecisionTreeClassifier\n",
    "from sklearn.datasets import load_iris\n",
    "from sklearn.metrics import accuracy_score\n",
    "from sklearn.model_selection import KFold\n",
    "import numpy as np\n",
    "from sklearn.model_selection import StratifiedKFold"
   ]
  },
  {
   "cell_type": "code",
   "execution_count": 2,
   "id": "36ce19d9-0a8f-4073-9a3a-63cfe76b8b18",
   "metadata": {},
   "outputs": [],
   "source": [
    "iris = load_iris()\n",
    "dt_clf = DecisionTreeClassifier(random_state=156)\n",
    "kfold = KFold(n_splits=5,shuffle=True)"
   ]
  },
  {
   "cell_type": "code",
   "execution_count": 3,
   "id": "29397da4-adc7-4db2-85e3-6e073e94f9a4",
   "metadata": {},
   "outputs": [
    {
     "name": "stdout",
     "output_type": "stream",
     "text": [
      "1 1.0\n",
      "[0 0 0 0 0 0 0 1 1 1 1 1 1 1 1 1 1 1 2 2 2 2 2 2 2 2 2 2 2 2]\n",
      "2 0.9333333333333333\n",
      "[0 0 0 0 0 0 0 0 0 0 0 1 1 1 1 1 1 1 1 1 1 2 2 2 2 2 2 2 2 2]\n",
      "3 0.9666666666666667\n",
      "[0 0 0 0 0 0 0 0 0 0 0 0 0 1 1 1 1 1 1 1 1 2 2 2 2 2 2 2 2 2]\n",
      "4 0.9\n",
      "[0 0 0 0 0 0 0 0 1 1 1 1 1 1 1 1 1 1 1 1 1 2 2 2 2 2 2 2 2 2]\n",
      "5 0.9333333333333333\n",
      "[0 0 0 0 0 0 0 0 0 0 0 1 1 1 1 1 1 1 1 2 2 2 2 2 2 2 2 2 2 2]\n"
     ]
    }
   ],
   "source": [
    "cv_accuracy = []\n",
    "n_iter = 0\n",
    "\n",
    "# 데이터 건수 150개\n",
    "for train_index,test_index in kfold.split(iris.data):\n",
    "    # print(train_index)\n",
    "    # print(test_index)\n",
    "    X_train,X_test = iris.data[train_index],iris.data[test_index]\n",
    "    y_train,y_test = iris.target[train_index],iris.target[test_index]\n",
    "    # 학습\n",
    "    dt_clf.fit(X_train,y_train)\n",
    "    pred = dt_clf.predict(X_test)\n",
    "    n_iter += 1\n",
    "    accuracy = accuracy_score(y_test,pred)\n",
    "    cv_accuracy.append(accuracy)\n",
    "    print(n_iter,accuracy)\n",
    "    print(y_test)"
   ]
  },
  {
   "cell_type": "code",
   "execution_count": 4,
   "id": "624b1d8f-1cb5-44e6-8326-b6a505824697",
   "metadata": {
    "tags": []
   },
   "outputs": [
    {
     "data": {
      "text/plain": [
       "0.9467"
      ]
     },
     "execution_count": 4,
     "metadata": {},
     "output_type": "execute_result"
    }
   ],
   "source": [
    "# 각 회차별로 나온걸 넘파이에 라운드 함.\n",
    "np.round(np.mean(cv_accuracy),4)"
   ]
  },
  {
   "cell_type": "code",
   "execution_count": 5,
   "id": "0b977a7f-751f-4bdd-aabc-75c55bad0177",
   "metadata": {},
   "outputs": [],
   "source": [
    "# 레이블 값 (타겟 값이) 얼마나 있고 몇 개 있는지 확인하기 - value.count"
   ]
  },
  {
   "cell_type": "code",
   "execution_count": 6,
   "id": "de8b3748-af6e-479a-9bec-9ffd89f3fe72",
   "metadata": {},
   "outputs": [
    {
     "data": {
      "text/plain": [
       "array([0, 0, 0, 0, 0, 0, 0, 0, 0, 0, 0, 0, 0, 0, 0, 0, 0, 0, 0, 0, 0, 0,\n",
       "       0, 0, 0, 0, 0, 0, 0, 0, 0, 0, 0, 0, 0, 0, 0, 0, 0, 0, 0, 0, 0, 0,\n",
       "       0, 0, 0, 0, 0, 0, 1, 1, 1, 1, 1, 1, 1, 1, 1, 1, 1, 1, 1, 1, 1, 1,\n",
       "       1, 1, 1, 1, 1, 1, 1, 1, 1, 1, 1, 1, 1, 1, 1, 1, 1, 1, 1, 1, 1, 1,\n",
       "       1, 1, 1, 1, 1, 1, 1, 1, 1, 1, 1, 1, 2, 2, 2, 2, 2, 2, 2, 2, 2, 2,\n",
       "       2, 2, 2, 2, 2, 2, 2, 2, 2, 2, 2, 2, 2, 2, 2, 2, 2, 2, 2, 2, 2, 2,\n",
       "       2, 2, 2, 2, 2, 2, 2, 2, 2, 2, 2, 2, 2, 2, 2, 2, 2, 2])"
      ]
     },
     "execution_count": 6,
     "metadata": {},
     "output_type": "execute_result"
    }
   ],
   "source": [
    "iris.target"
   ]
  },
  {
   "cell_type": "code",
   "execution_count": 7,
   "id": "d7257236-c7b9-4ad8-b250-36692ff0984c",
   "metadata": {},
   "outputs": [],
   "source": [
    "data = load_iris(as_frame=True)"
   ]
  },
  {
   "cell_type": "code",
   "execution_count": 8,
   "id": "fa26b423-7d9a-4d59-91ae-495f5f306d00",
   "metadata": {},
   "outputs": [
    {
     "data": {
      "text/plain": [
       "0    50\n",
       "1    50\n",
       "2    50\n",
       "Name: target, dtype: int64"
      ]
     },
     "execution_count": 8,
     "metadata": {},
     "output_type": "execute_result"
    }
   ],
   "source": [
    "data.target.value_counts()"
   ]
  },
  {
   "cell_type": "code",
   "execution_count": 9,
   "id": "46dd4c23-681b-46fd-9370-73cf2fbc95ce",
   "metadata": {},
   "outputs": [
    {
     "name": "stdout",
     "output_type": "stream",
     "text": [
      "1 0.94\n",
      "[0 0 0 0 0 0 0 0 0 0 0 0 0 0 0 1 1 1 1 1 1 1 1 1 1 1 1 1 1 1 1 1 1 1 1 2 2\n",
      " 2 2 2 2 2 2 2 2 2 2 2 2 2]\n",
      "2 0.92\n",
      "[0 0 0 0 0 0 0 0 0 0 0 0 0 0 0 0 0 0 0 0 0 0 1 1 1 1 1 1 1 1 1 1 1 2 2 2 2\n",
      " 2 2 2 2 2 2 2 2 2 2 2 2 2]\n",
      "3 0.96\n",
      "[0 0 0 0 0 0 0 0 0 0 0 0 0 1 1 1 1 1 1 1 1 1 1 1 1 1 1 1 1 1 1 1 2 2 2 2 2\n",
      " 2 2 2 2 2 2 2 2 2 2 2 2 2]\n"
     ]
    }
   ],
   "source": [
    "kfold = KFold(n_splits=3,shuffle=True)\n",
    "cv_accuracy = []\n",
    "n_iter = 0\n",
    "\n",
    "# 데이터 건수 150개\n",
    "for train_index,test_index in kfold.split(iris.data):\n",
    "    # print(train_index)\n",
    "    # print(test_index)\n",
    "    X_train,X_test = iris.data[train_index],iris.data[test_index]\n",
    "    y_train,y_test = iris.target[train_index],iris.target[test_index]\n",
    "    # 학습\n",
    "    dt_clf.fit(X_train,y_train)\n",
    "    pred = dt_clf.predict(X_test)\n",
    "    n_iter += 1\n",
    "    accuracy = accuracy_score(y_test,pred)\n",
    "    cv_accuracy.append(accuracy)\n",
    "    print(n_iter,accuracy)\n",
    "    print(y_test)"
   ]
  },
  {
   "cell_type": "code",
   "execution_count": 10,
   "id": "1aa72980-2eb9-4441-b261-de8bcd2541b1",
   "metadata": {},
   "outputs": [
    {
     "name": "stdout",
     "output_type": "stream",
     "text": [
      "<class 'pandas.core.series.Series'>\n",
      "검증데이터 분포: 0    17\n",
      "1    17\n",
      "2    16\n",
      "Name: target, dtype: int64\n",
      "1 0.98\n",
      "<class 'pandas.core.series.Series'>\n",
      "검증데이터 분포: 0    17\n",
      "2    17\n",
      "1    16\n",
      "Name: target, dtype: int64\n",
      "2 0.94\n",
      "<class 'pandas.core.series.Series'>\n",
      "검증데이터 분포: 1    17\n",
      "2    17\n",
      "0    16\n",
      "Name: target, dtype: int64\n",
      "3 0.98\n"
     ]
    }
   ],
   "source": [
    "kfold = StratifiedKFold(n_splits=3,shuffle=False)\n",
    "cv_accuracy = []\n",
    "n_iter = 0\n",
    "\n",
    "#\n",
    "iris = load_iris(as_frame=True)\n",
    "\n",
    "# 위에는 비율을 안따짐\n",
    "# 여기선 비율을 따지기 때문에 x값과 y값도 넣어줘야함.\n",
    "for train_index,test_index in kfold.split(iris.data, iris.target):\n",
    "    # print(train_index)*\n",
    "    # print(test_index)\n",
    "    X_train,X_test = iris.data.iloc[train_index],iris.data.iloc[test_index]\n",
    "    y_train,y_test = iris.target.iloc[train_index],iris.target.iloc[test_index]\n",
    "\n",
    "    # 비율까지 따져서 잘라준다는 것 확인 \n",
    "    print(type(iris.target))\n",
    "    print('검증데이터 분포:',y_test.value_counts())\n",
    "    \n",
    "    # 학습\n",
    "    dt_clf.fit(X_train,y_train)\n",
    "    pred = dt_clf.predict(X_test)\n",
    "    n_iter += 1\n",
    "    accuracy = accuracy_score(y_test,pred)\n",
    "    cv_accuracy.append(accuracy)\n",
    "    print(n_iter,accuracy)\n",
    "    # print(y_test)"
   ]
  },
  {
   "cell_type": "markdown",
   "id": "f8bbd752-c625-4baf-9690-a6bc62441205",
   "metadata": {},
   "source": [
    "#### 교차검증을 보다 더 간편하게 해주는 사이킷런 API : cross_val_score()\n",
    "대신 모델의 성능만 알 수 있고\n",
    "다른 용도로 사용하기 힘들어서 수치 확인 할 때만 주로 사용함."
   ]
  },
  {
   "cell_type": "code",
   "execution_count": 11,
   "id": "de21006e-13dd-4cbe-847b-27b42fb7effe",
   "metadata": {},
   "outputs": [],
   "source": [
    "from sklearn.model_selection import cross_val_score"
   ]
  },
  {
   "cell_type": "code",
   "execution_count": 12,
   "id": "ea5da620-519c-4058-8822-45a45950e09b",
   "metadata": {},
   "outputs": [
    {
     "data": {
      "text/plain": [
       "array([0.98, 0.94, 0.98])"
      ]
     },
     "execution_count": 12,
     "metadata": {},
     "output_type": "execute_result"
    }
   ],
   "source": [
    "dt_clf = DecisionTreeClassifier(random_state=156)\n",
    "iris = load_iris()\n",
    "# cv 파라미터처럼 사람이 직접 넣어주어야 하는 파라미터를 하이퍼 파라미터 라고 한다.\n",
    "cross_val_score(dt_clf,iris.data,iris.target,cv=3)"
   ]
  },
  {
   "cell_type": "markdown",
   "id": "ddd33850-b101-4e3f-a48b-a6c032477ba0",
   "metadata": {
    "tags": []
   },
   "source": [
    "- 하이퍼 파라미터\n",
    ": 아래에서 처럼 cv 파라미터처럼 사람이 직접 넣어주어야 하는 파라미터를 하이퍼 파라미터 라고 한다.\n",
    " 머신러닝 보다 딥러닝에서 이 영향을 덜 받는다.\n",
    "\n",
    "cross_val_score(dt_clf,iris.data,iris.target,cv=3)"
   ]
  },
  {
   "cell_type": "code",
   "execution_count": 18,
   "id": "e4318624-aa01-4425-abee-4b28ec730aef",
   "metadata": {},
   "outputs": [],
   "source": [
    "# 파라미터 값 사전 지정\n",
    "grid_param = {\n",
    "    'max_depth':[1,2,3],\n",
    "    'min_samples_split':[2,3] \n",
    "    # 6번에 걸쳐서 작업함\n",
    "}"
   ]
  },
  {
   "cell_type": "code",
   "execution_count": 19,
   "id": "6bb0dc8c-c78c-4552-b13d-a53f138d3dd4",
   "metadata": {},
   "outputs": [],
   "source": [
    "from sklearn.model_selection import GridSearchCV\n",
    "from sklearn.model_selection import train_test_split\n",
    "# from sklearn.datasets import load_iris\n",
    "import pandas as pd"
   ]
  },
  {
   "cell_type": "code",
   "execution_count": 20,
   "id": "fb72926c-846e-47a7-8df6-1eeb37ebe0cd",
   "metadata": {},
   "outputs": [],
   "source": [
    "iris = load_iris()\n",
    "# 데이터 분리\n",
    "X_train,X_test,y_train,y_test = train_test_split(iris.data,iris.target,test_size=0.2,random_state=121)"
   ]
  },
  {
   "cell_type": "code",
   "execution_count": 30,
   "id": "23c6ddbf-a5a9-4e88-9174-0bc00a4b40ac",
   "metadata": {},
   "outputs": [],
   "source": [
    "dtree = DecisionTreeClassifier()\n",
    "# 파라미터 분리 되면서 작업된 6번의 작업과 교차검증(cv=3) 까지하면 총 18번의 학습을 해본다.\n",
    "grid_dtree = GridSearchCV(dtree,grid_param,cv=3,refit=True)"
   ]
  },
  {
   "cell_type": "code",
   "execution_count": 32,
   "id": "5c2e6ccc-0801-49da-9cc7-d42cf3e4510a",
   "metadata": {},
   "outputs": [
    {
     "data": {
      "text/plain": [
       "GridSearchCV(cv=3, estimator=DecisionTreeClassifier(),\n",
       "             param_grid={'max_depth': [1, 2, 3], 'min_samples_split': [2, 3]})"
      ]
     },
     "execution_count": 32,
     "metadata": {},
     "output_type": "execute_result"
    }
   ],
   "source": [
    "grid_dtree.fit(X_train,y_train)"
   ]
  },
  {
   "cell_type": "code",
   "execution_count": 33,
   "id": "cf7d8580-6d82-492c-b900-c9caad14631a",
   "metadata": {
    "tags": []
   },
   "outputs": [
    {
     "data": {
      "text/plain": [
       "array([1, 2, 1, 0, 0, 1, 1, 1, 1, 2, 2, 1, 1, 0, 0, 2, 1, 0, 2, 0, 2, 2,\n",
       "       1, 1, 1, 1, 0, 0, 2, 2])"
      ]
     },
     "execution_count": 33,
     "metadata": {},
     "output_type": "execute_result"
    }
   ],
   "source": [
    "grid_dtree.predict(X_test)"
   ]
  },
  {
   "cell_type": "code",
   "execution_count": 35,
   "id": "27507526-1e0f-4260-bec1-3e3c36ad2846",
   "metadata": {
    "tags": []
   },
   "outputs": [],
   "source": [
    "df = pd.DataFrame(grid_dtree.cv_results_)"
   ]
  },
  {
   "cell_type": "code",
   "execution_count": 36,
   "id": "73124a8c-b276-4c5b-9b5b-2e9da9790b95",
   "metadata": {
    "tags": []
   },
   "outputs": [
    {
     "data": {
      "text/plain": [
       "Index(['mean_fit_time', 'std_fit_time', 'mean_score_time', 'std_score_time',\n",
       "       'param_max_depth', 'param_min_samples_split', 'params',\n",
       "       'split0_test_score', 'split1_test_score', 'split2_test_score',\n",
       "       'mean_test_score', 'std_test_score', 'rank_test_score'],\n",
       "      dtype='object')"
      ]
     },
     "execution_count": 36,
     "metadata": {},
     "output_type": "execute_result"
    }
   ],
   "source": [
    "df.columns"
   ]
  },
  {
   "cell_type": "code",
   "execution_count": 42,
   "id": "a070789c-d717-412c-b1d6-8439e502ab7a",
   "metadata": {},
   "outputs": [
    {
     "data": {
      "text/html": [
       "<div>\n",
       "<style scoped>\n",
       "    .dataframe tbody tr th:only-of-type {\n",
       "        vertical-align: middle;\n",
       "    }\n",
       "\n",
       "    .dataframe tbody tr th {\n",
       "        vertical-align: top;\n",
       "    }\n",
       "\n",
       "    .dataframe thead th {\n",
       "        text-align: right;\n",
       "    }\n",
       "</style>\n",
       "<table border=\"1\" class=\"dataframe\">\n",
       "  <thead>\n",
       "    <tr style=\"text-align: right;\">\n",
       "      <th></th>\n",
       "      <th>mean_fit_time</th>\n",
       "      <th>std_fit_time</th>\n",
       "      <th>mean_score_time</th>\n",
       "      <th>std_score_time</th>\n",
       "      <th>param_max_depth</th>\n",
       "      <th>param_min_samples_split</th>\n",
       "      <th>params</th>\n",
       "      <th>split0_test_score</th>\n",
       "      <th>split1_test_score</th>\n",
       "      <th>split2_test_score</th>\n",
       "      <th>mean_test_score</th>\n",
       "      <th>std_test_score</th>\n",
       "      <th>rank_test_score</th>\n",
       "    </tr>\n",
       "  </thead>\n",
       "  <tbody>\n",
       "    <tr>\n",
       "      <th>0</th>\n",
       "      <td>0.001315</td>\n",
       "      <td>0.000439</td>\n",
       "      <td>0.000548</td>\n",
       "      <td>0.000412</td>\n",
       "      <td>1</td>\n",
       "      <td>2</td>\n",
       "      <td>{'max_depth': 1, 'min_samples_split': 2}</td>\n",
       "      <td>0.700</td>\n",
       "      <td>0.7</td>\n",
       "      <td>0.70</td>\n",
       "      <td>0.700000</td>\n",
       "      <td>1.110223e-16</td>\n",
       "      <td>5</td>\n",
       "    </tr>\n",
       "    <tr>\n",
       "      <th>1</th>\n",
       "      <td>0.001067</td>\n",
       "      <td>0.000040</td>\n",
       "      <td>0.000499</td>\n",
       "      <td>0.000406</td>\n",
       "      <td>1</td>\n",
       "      <td>3</td>\n",
       "      <td>{'max_depth': 1, 'min_samples_split': 3}</td>\n",
       "      <td>0.700</td>\n",
       "      <td>0.7</td>\n",
       "      <td>0.70</td>\n",
       "      <td>0.700000</td>\n",
       "      <td>1.110223e-16</td>\n",
       "      <td>5</td>\n",
       "    </tr>\n",
       "    <tr>\n",
       "      <th>2</th>\n",
       "      <td>0.001024</td>\n",
       "      <td>0.000037</td>\n",
       "      <td>0.000340</td>\n",
       "      <td>0.000481</td>\n",
       "      <td>2</td>\n",
       "      <td>2</td>\n",
       "      <td>{'max_depth': 2, 'min_samples_split': 2}</td>\n",
       "      <td>0.925</td>\n",
       "      <td>1.0</td>\n",
       "      <td>0.95</td>\n",
       "      <td>0.958333</td>\n",
       "      <td>3.118048e-02</td>\n",
       "      <td>3</td>\n",
       "    </tr>\n",
       "    <tr>\n",
       "      <th>3</th>\n",
       "      <td>0.001399</td>\n",
       "      <td>0.000451</td>\n",
       "      <td>0.000334</td>\n",
       "      <td>0.000473</td>\n",
       "      <td>2</td>\n",
       "      <td>3</td>\n",
       "      <td>{'max_depth': 2, 'min_samples_split': 3}</td>\n",
       "      <td>0.925</td>\n",
       "      <td>1.0</td>\n",
       "      <td>0.95</td>\n",
       "      <td>0.958333</td>\n",
       "      <td>3.118048e-02</td>\n",
       "      <td>3</td>\n",
       "    </tr>\n",
       "    <tr>\n",
       "      <th>4</th>\n",
       "      <td>0.001321</td>\n",
       "      <td>0.000456</td>\n",
       "      <td>0.000662</td>\n",
       "      <td>0.000468</td>\n",
       "      <td>3</td>\n",
       "      <td>2</td>\n",
       "      <td>{'max_depth': 3, 'min_samples_split': 2}</td>\n",
       "      <td>0.975</td>\n",
       "      <td>1.0</td>\n",
       "      <td>0.95</td>\n",
       "      <td>0.975000</td>\n",
       "      <td>2.041241e-02</td>\n",
       "      <td>1</td>\n",
       "    </tr>\n",
       "    <tr>\n",
       "      <th>5</th>\n",
       "      <td>0.000805</td>\n",
       "      <td>0.000219</td>\n",
       "      <td>0.001056</td>\n",
       "      <td>0.000087</td>\n",
       "      <td>3</td>\n",
       "      <td>3</td>\n",
       "      <td>{'max_depth': 3, 'min_samples_split': 3}</td>\n",
       "      <td>0.975</td>\n",
       "      <td>1.0</td>\n",
       "      <td>0.95</td>\n",
       "      <td>0.975000</td>\n",
       "      <td>2.041241e-02</td>\n",
       "      <td>1</td>\n",
       "    </tr>\n",
       "  </tbody>\n",
       "</table>\n",
       "</div>"
      ],
      "text/plain": [
       "   mean_fit_time  std_fit_time  mean_score_time  std_score_time  \\\n",
       "0       0.001315      0.000439         0.000548        0.000412   \n",
       "1       0.001067      0.000040         0.000499        0.000406   \n",
       "2       0.001024      0.000037         0.000340        0.000481   \n",
       "3       0.001399      0.000451         0.000334        0.000473   \n",
       "4       0.001321      0.000456         0.000662        0.000468   \n",
       "5       0.000805      0.000219         0.001056        0.000087   \n",
       "\n",
       "  param_max_depth param_min_samples_split  \\\n",
       "0               1                       2   \n",
       "1               1                       3   \n",
       "2               2                       2   \n",
       "3               2                       3   \n",
       "4               3                       2   \n",
       "5               3                       3   \n",
       "\n",
       "                                     params  split0_test_score  \\\n",
       "0  {'max_depth': 1, 'min_samples_split': 2}              0.700   \n",
       "1  {'max_depth': 1, 'min_samples_split': 3}              0.700   \n",
       "2  {'max_depth': 2, 'min_samples_split': 2}              0.925   \n",
       "3  {'max_depth': 2, 'min_samples_split': 3}              0.925   \n",
       "4  {'max_depth': 3, 'min_samples_split': 2}              0.975   \n",
       "5  {'max_depth': 3, 'min_samples_split': 3}              0.975   \n",
       "\n",
       "   split1_test_score  split2_test_score  mean_test_score  std_test_score  \\\n",
       "0                0.7               0.70         0.700000    1.110223e-16   \n",
       "1                0.7               0.70         0.700000    1.110223e-16   \n",
       "2                1.0               0.95         0.958333    3.118048e-02   \n",
       "3                1.0               0.95         0.958333    3.118048e-02   \n",
       "4                1.0               0.95         0.975000    2.041241e-02   \n",
       "5                1.0               0.95         0.975000    2.041241e-02   \n",
       "\n",
       "   rank_test_score  \n",
       "0                5  \n",
       "1                5  \n",
       "2                3  \n",
       "3                3  \n",
       "4                1  \n",
       "5                1  "
      ]
     },
     "execution_count": 42,
     "metadata": {},
     "output_type": "execute_result"
    }
   ],
   "source": [
    "df[['mean_fit_time', 'std_fit_time', 'mean_score_time', 'std_score_time',\n",
    "       'param_max_depth', 'param_min_samples_split', 'params',\n",
    "       'split0_test_score', 'split1_test_score', 'split2_test_score',\n",
    "       'mean_test_score', 'std_test_score', 'rank_test_score']]"
   ]
  },
  {
   "cell_type": "code",
   "execution_count": 43,
   "id": "76e96121-fe11-4d4c-b290-a139cfd8d569",
   "metadata": {
    "tags": []
   },
   "outputs": [
    {
     "data": {
      "text/plain": [
       "{'max_depth': 3, 'min_samples_split': 2}"
      ]
     },
     "execution_count": 43,
     "metadata": {},
     "output_type": "execute_result"
    }
   ],
   "source": [
    "grid_dtree.best_params_"
   ]
  },
  {
   "cell_type": "code",
   "execution_count": 44,
   "id": "b58040c6-bb7d-4c4b-ae38-d05f8a210900",
   "metadata": {
    "tags": []
   },
   "outputs": [
    {
     "data": {
      "text/plain": [
       "0.975"
      ]
     },
     "execution_count": 44,
     "metadata": {},
     "output_type": "execute_result"
    }
   ],
   "source": [
    "grid_dtree.best_score_"
   ]
  },
  {
   "cell_type": "code",
   "execution_count": 46,
   "id": "d34e38a3-0d29-481e-883e-1561625fde0b",
   "metadata": {},
   "outputs": [],
   "source": [
    "pred = grid_dtree.best_estimator_.predict(X_test)"
   ]
  },
  {
   "cell_type": "code",
   "execution_count": 47,
   "id": "3f844467-2e9a-4ad8-8198-907b39086757",
   "metadata": {},
   "outputs": [
    {
     "data": {
      "text/plain": [
       "0.9666666666666667"
      ]
     },
     "execution_count": 47,
     "metadata": {},
     "output_type": "execute_result"
    }
   ],
   "source": [
    "accuracy_score(y_test,pred)"
   ]
  },
  {
   "cell_type": "code",
   "execution_count": 48,
   "id": "759adf4d-5047-45a7-8343-45e0abb9406e",
   "metadata": {},
   "outputs": [],
   "source": [
    "# 검증용 데이터로하니까 강사님은 100퍼가 나옴 랜덤 스테이트가 각자 다르기 때문에 다 다른게 맞음."
   ]
  }
 ],
 "metadata": {
  "kernelspec": {
   "display_name": "Python 3 (ipykernel)",
   "language": "python",
   "name": "python3"
  },
  "language_info": {
   "codemirror_mode": {
    "name": "ipython",
    "version": 3
   },
   "file_extension": ".py",
   "mimetype": "text/x-python",
   "name": "python",
   "nbconvert_exporter": "python",
   "pygments_lexer": "ipython3",
   "version": "3.9.13"
  }
 },
 "nbformat": 4,
 "nbformat_minor": 5
}
