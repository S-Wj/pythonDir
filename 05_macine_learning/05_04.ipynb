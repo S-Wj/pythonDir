{
 "cells": [
  {
   "cell_type": "code",
   "execution_count": 1,
   "id": "dd77778f-dfc5-4f66-a5bc-7462579dca7f",
   "metadata": {},
   "outputs": [],
   "source": [
    "import pandas as pd\n",
    "import numpy as np\n",
    "import seaborn as sns\n",
    "import matplotlib.pyplot as plt\n",
    "import warnings\n",
    "warnings.filterwarnings('ignore')"
   ]
  },
  {
   "cell_type": "code",
   "execution_count": 2,
   "id": "716e67c0-3304-4946-a9cb-df5913371097",
   "metadata": {},
   "outputs": [],
   "source": [
    "df = pd.read_csv('houseprice.csv')"
   ]
  },
  {
   "cell_type": "code",
   "execution_count": 3,
   "id": "0b9a149f-7833-4dac-8fdc-29540fa7d0d0",
   "metadata": {},
   "outputs": [
    {
     "data": {
      "text/html": [
       "<div>\n",
       "<style scoped>\n",
       "    .dataframe tbody tr th:only-of-type {\n",
       "        vertical-align: middle;\n",
       "    }\n",
       "\n",
       "    .dataframe tbody tr th {\n",
       "        vertical-align: top;\n",
       "    }\n",
       "\n",
       "    .dataframe thead th {\n",
       "        text-align: right;\n",
       "    }\n",
       "</style>\n",
       "<table border=\"1\" class=\"dataframe\">\n",
       "  <thead>\n",
       "    <tr style=\"text-align: right;\">\n",
       "      <th></th>\n",
       "      <th>Id</th>\n",
       "      <th>MSSubClass</th>\n",
       "      <th>MSZoning</th>\n",
       "      <th>LotFrontage</th>\n",
       "      <th>LotArea</th>\n",
       "      <th>Street</th>\n",
       "      <th>Alley</th>\n",
       "      <th>LotShape</th>\n",
       "      <th>LandContour</th>\n",
       "      <th>Utilities</th>\n",
       "      <th>...</th>\n",
       "      <th>PoolArea</th>\n",
       "      <th>PoolQC</th>\n",
       "      <th>Fence</th>\n",
       "      <th>MiscFeature</th>\n",
       "      <th>MiscVal</th>\n",
       "      <th>MoSold</th>\n",
       "      <th>YrSold</th>\n",
       "      <th>SaleType</th>\n",
       "      <th>SaleCondition</th>\n",
       "      <th>SalePrice</th>\n",
       "    </tr>\n",
       "  </thead>\n",
       "  <tbody>\n",
       "    <tr>\n",
       "      <th>0</th>\n",
       "      <td>1</td>\n",
       "      <td>60</td>\n",
       "      <td>RL</td>\n",
       "      <td>65.0</td>\n",
       "      <td>8450</td>\n",
       "      <td>Pave</td>\n",
       "      <td>NaN</td>\n",
       "      <td>Reg</td>\n",
       "      <td>Lvl</td>\n",
       "      <td>AllPub</td>\n",
       "      <td>...</td>\n",
       "      <td>0</td>\n",
       "      <td>NaN</td>\n",
       "      <td>NaN</td>\n",
       "      <td>NaN</td>\n",
       "      <td>0</td>\n",
       "      <td>2</td>\n",
       "      <td>2008</td>\n",
       "      <td>WD</td>\n",
       "      <td>Normal</td>\n",
       "      <td>208500</td>\n",
       "    </tr>\n",
       "    <tr>\n",
       "      <th>1</th>\n",
       "      <td>2</td>\n",
       "      <td>20</td>\n",
       "      <td>RL</td>\n",
       "      <td>80.0</td>\n",
       "      <td>9600</td>\n",
       "      <td>Pave</td>\n",
       "      <td>NaN</td>\n",
       "      <td>Reg</td>\n",
       "      <td>Lvl</td>\n",
       "      <td>AllPub</td>\n",
       "      <td>...</td>\n",
       "      <td>0</td>\n",
       "      <td>NaN</td>\n",
       "      <td>NaN</td>\n",
       "      <td>NaN</td>\n",
       "      <td>0</td>\n",
       "      <td>5</td>\n",
       "      <td>2007</td>\n",
       "      <td>WD</td>\n",
       "      <td>Normal</td>\n",
       "      <td>181500</td>\n",
       "    </tr>\n",
       "  </tbody>\n",
       "</table>\n",
       "<p>2 rows × 81 columns</p>\n",
       "</div>"
      ],
      "text/plain": [
       "   Id  MSSubClass MSZoning  LotFrontage  LotArea Street Alley LotShape  \\\n",
       "0   1          60       RL         65.0     8450   Pave   NaN      Reg   \n",
       "1   2          20       RL         80.0     9600   Pave   NaN      Reg   \n",
       "\n",
       "  LandContour Utilities  ... PoolArea PoolQC Fence MiscFeature MiscVal MoSold  \\\n",
       "0         Lvl    AllPub  ...        0    NaN   NaN         NaN       0      2   \n",
       "1         Lvl    AllPub  ...        0    NaN   NaN         NaN       0      5   \n",
       "\n",
       "  YrSold  SaleType  SaleCondition  SalePrice  \n",
       "0   2008        WD         Normal     208500  \n",
       "1   2007        WD         Normal     181500  \n",
       "\n",
       "[2 rows x 81 columns]"
      ]
     },
     "execution_count": 3,
     "metadata": {},
     "output_type": "execute_result"
    }
   ],
   "source": [
    "df.head(2)"
   ]
  },
  {
   "cell_type": "code",
   "execution_count": 4,
   "id": "8c935442-6a24-4de3-a195-84a329c3683b",
   "metadata": {},
   "outputs": [
    {
     "name": "stdout",
     "output_type": "stream",
     "text": [
      "<class 'pandas.core.frame.DataFrame'>\n",
      "RangeIndex: 1460 entries, 0 to 1459\n",
      "Data columns (total 81 columns):\n",
      " #   Column         Non-Null Count  Dtype  \n",
      "---  ------         --------------  -----  \n",
      " 0   Id             1460 non-null   int64  \n",
      " 1   MSSubClass     1460 non-null   int64  \n",
      " 2   MSZoning       1460 non-null   object \n",
      " 3   LotFrontage    1201 non-null   float64\n",
      " 4   LotArea        1460 non-null   int64  \n",
      " 5   Street         1460 non-null   object \n",
      " 6   Alley          91 non-null     object \n",
      " 7   LotShape       1460 non-null   object \n",
      " 8   LandContour    1460 non-null   object \n",
      " 9   Utilities      1460 non-null   object \n",
      " 10  LotConfig      1460 non-null   object \n",
      " 11  LandSlope      1460 non-null   object \n",
      " 12  Neighborhood   1460 non-null   object \n",
      " 13  Condition1     1460 non-null   object \n",
      " 14  Condition2     1460 non-null   object \n",
      " 15  BldgType       1460 non-null   object \n",
      " 16  HouseStyle     1460 non-null   object \n",
      " 17  OverallQual    1460 non-null   int64  \n",
      " 18  OverallCond    1460 non-null   int64  \n",
      " 19  YearBuilt      1460 non-null   int64  \n",
      " 20  YearRemodAdd   1460 non-null   int64  \n",
      " 21  RoofStyle      1460 non-null   object \n",
      " 22  RoofMatl       1460 non-null   object \n",
      " 23  Exterior1st    1460 non-null   object \n",
      " 24  Exterior2nd    1460 non-null   object \n",
      " 25  MasVnrType     1452 non-null   object \n",
      " 26  MasVnrArea     1452 non-null   float64\n",
      " 27  ExterQual      1460 non-null   object \n",
      " 28  ExterCond      1460 non-null   object \n",
      " 29  Foundation     1460 non-null   object \n",
      " 30  BsmtQual       1423 non-null   object \n",
      " 31  BsmtCond       1423 non-null   object \n",
      " 32  BsmtExposure   1422 non-null   object \n",
      " 33  BsmtFinType1   1423 non-null   object \n",
      " 34  BsmtFinSF1     1460 non-null   int64  \n",
      " 35  BsmtFinType2   1422 non-null   object \n",
      " 36  BsmtFinSF2     1460 non-null   int64  \n",
      " 37  BsmtUnfSF      1460 non-null   int64  \n",
      " 38  TotalBsmtSF    1460 non-null   int64  \n",
      " 39  Heating        1460 non-null   object \n",
      " 40  HeatingQC      1460 non-null   object \n",
      " 41  CentralAir     1460 non-null   object \n",
      " 42  Electrical     1459 non-null   object \n",
      " 43  1stFlrSF       1460 non-null   int64  \n",
      " 44  2ndFlrSF       1460 non-null   int64  \n",
      " 45  LowQualFinSF   1460 non-null   int64  \n",
      " 46  GrLivArea      1460 non-null   int64  \n",
      " 47  BsmtFullBath   1460 non-null   int64  \n",
      " 48  BsmtHalfBath   1460 non-null   int64  \n",
      " 49  FullBath       1460 non-null   int64  \n",
      " 50  HalfBath       1460 non-null   int64  \n",
      " 51  BedroomAbvGr   1460 non-null   int64  \n",
      " 52  KitchenAbvGr   1460 non-null   int64  \n",
      " 53  KitchenQual    1460 non-null   object \n",
      " 54  TotRmsAbvGrd   1460 non-null   int64  \n",
      " 55  Functional     1460 non-null   object \n",
      " 56  Fireplaces     1460 non-null   int64  \n",
      " 57  FireplaceQu    770 non-null    object \n",
      " 58  GarageType     1379 non-null   object \n",
      " 59  GarageYrBlt    1379 non-null   float64\n",
      " 60  GarageFinish   1379 non-null   object \n",
      " 61  GarageCars     1460 non-null   int64  \n",
      " 62  GarageArea     1460 non-null   int64  \n",
      " 63  GarageQual     1379 non-null   object \n",
      " 64  GarageCond     1379 non-null   object \n",
      " 65  PavedDrive     1460 non-null   object \n",
      " 66  WoodDeckSF     1460 non-null   int64  \n",
      " 67  OpenPorchSF    1460 non-null   int64  \n",
      " 68  EnclosedPorch  1460 non-null   int64  \n",
      " 69  3SsnPorch      1460 non-null   int64  \n",
      " 70  ScreenPorch    1460 non-null   int64  \n",
      " 71  PoolArea       1460 non-null   int64  \n",
      " 72  PoolQC         7 non-null      object \n",
      " 73  Fence          281 non-null    object \n",
      " 74  MiscFeature    54 non-null     object \n",
      " 75  MiscVal        1460 non-null   int64  \n",
      " 76  MoSold         1460 non-null   int64  \n",
      " 77  YrSold         1460 non-null   int64  \n",
      " 78  SaleType       1460 non-null   object \n",
      " 79  SaleCondition  1460 non-null   object \n",
      " 80  SalePrice      1460 non-null   int64  \n",
      "dtypes: float64(3), int64(35), object(43)\n",
      "memory usage: 924.0+ KB\n"
     ]
    }
   ],
   "source": [
    "df.info()"
   ]
  },
  {
   "cell_type": "code",
   "execution_count": 5,
   "id": "0e5116b9-5cc9-40ae-a765-a194bed12844",
   "metadata": {},
   "outputs": [],
   "source": [
    "# 널 값이 0보다 큰 것만 보는 과정\n",
    "isnull_series = df.isnull().sum()"
   ]
  },
  {
   "cell_type": "code",
   "execution_count": 6,
   "id": "2891dab8-6e83-4e0c-b1ca-a0dc8b306281",
   "metadata": {},
   "outputs": [
    {
     "data": {
      "text/plain": [
       "PoolQC          1453\n",
       "MiscFeature     1406\n",
       "Alley           1369\n",
       "Fence           1179\n",
       "FireplaceQu      690\n",
       "LotFrontage      259\n",
       "GarageType        81\n",
       "GarageYrBlt       81\n",
       "GarageFinish      81\n",
       "GarageQual        81\n",
       "GarageCond        81\n",
       "BsmtExposure      38\n",
       "BsmtFinType2      38\n",
       "BsmtFinType1      37\n",
       "BsmtCond          37\n",
       "BsmtQual          37\n",
       "MasVnrArea         8\n",
       "MasVnrType         8\n",
       "Electrical         1\n",
       "dtype: int64"
      ]
     },
     "execution_count": 6,
     "metadata": {},
     "output_type": "execute_result"
    }
   ],
   "source": [
    "isnull_series[isnull_series>0].sort_values(ascending=False)"
   ]
  },
  {
   "cell_type": "code",
   "execution_count": 7,
   "id": "faaf4acf-9df8-40f6-bcd7-34b338abf538",
   "metadata": {},
   "outputs": [
    {
     "data": {
      "text/plain": [
       "<AxesSubplot:xlabel='SalePrice', ylabel='Count'>"
      ]
     },
     "execution_count": 7,
     "metadata": {},
     "output_type": "execute_result"
    },
    {
     "data": {
      "image/png": "[encoded data removed]",
      "text/plain": [
       "<Figure size 640x480 with 1 Axes>"
      ]
     },
     "metadata": {},
     "output_type": "display_data"
    }
   ],
   "source": [
    "plt.xticks(rotation=45)\n",
    "# 10개의 구간에서 타겟 값의 분포도가 정규 분포인지 확인\n",
    "# 타겟 값이 \n",
    "sns.histplot(df['SalePrice'],kde=True)"
   ]
  },
  {
   "cell_type": "code",
   "execution_count": 8,
   "id": "67ddf867-c183-45b4-b15c-3d39b7fd74c6",
   "metadata": {},
   "outputs": [
    {
     "data": {
      "text/plain": [
       "<AxesSubplot:xlabel='SalePrice', ylabel='Count'>"
      ]
     },
     "execution_count": 8,
     "metadata": {},
     "output_type": "execute_result"
    },
    {
     "data": {
      "image/png": "[encoded data removed]",
      "text/plain": [
       "<Figure size 640x480 with 1 Axes>"
      ]
     },
     "metadata": {},
     "output_type": "display_data"
    }
   ],
   "source": [
    "# 로그처리하여 정규 분포가 아닌 결과값을 정규 분포 형태로 변환해준다. \n",
    "# 넘파이의 logIp()를 이용해 로그 변환 결과값을 기반으로 학습\n",
    "log_saleprice = np.log1p(df['SalePrice'])\n",
    "sns.histplot(log_saleprice,kde=True)"
   ]
  },
  {
   "cell_type": "code",
   "execution_count": 9,
   "id": "988b2e72-61e6-44f3-ad6d-54625213ea4d",
   "metadata": {},
   "outputs": [],
   "source": [
    "# 앞에서 5개 제거"
   ]
  },
  {
   "cell_type": "code",
   "execution_count": 12,
   "id": "015c3d09-1b67-45b2-8c3f-e02b9c6fd713",
   "metadata": {},
   "outputs": [],
   "source": [
    "original_saleprice = df['SalePrice']\n",
    "df['SalePrice'] = np.log1p(df['SalePrice'])\n",
    "df.drop(columns=['PoolQC','MiscFeature','Alley','Fence','FireplaceQu','Id'],inplace=True)"
   ]
  },
  {
   "cell_type": "code",
   "execution_count": null,
   "id": "4417ab5c-aa9c-49d3-bb89-45f7cb37fd2b",
   "metadata": {},
   "outputs": [],
   "source": [
    "df.fillna(df.mean(),inplace=True)"
   ]
  },
  {
   "cell_type": "code",
   "execution_count": null,
   "id": "52ec0be1-d8ee-456c-ac93-f61deb0adf6b",
   "metadata": {},
   "outputs": [],
   "source": [
    "null_colum_count = df.isnull().sum()[df.isnull]"
   ]
  },
  {
   "cell_type": "code",
   "execution_count": null,
   "id": "5f74a851-59d1-4267-b9b6-891bc97ee6c3",
   "metadata": {},
   "outputs": [],
   "source": [
    "df.shape"
   ]
  },
  {
   "cell_type": "code",
   "execution_count": null,
   "id": "99b6dc51-21f2-4215-b032-de4db03ca7d5",
   "metadata": {
    "tags": []
   },
   "outputs": [],
   "source": [
    "df_ohe = pd.get_dummies(df)"
   ]
  },
  {
   "cell_type": "code",
   "execution_count": null,
   "id": "c56aaaa6-0a53-447b-82fc-a7d4bc753c0b",
   "metadata": {},
   "outputs": [],
   "source": [
    "df_ohe.shape"
   ]
  },
  {
   "cell_type": "code",
   "execution_count": null,
   "id": "6bc40afa-c040-4749-8bf3-dbf956f44433",
   "metadata": {},
   "outputs": [],
   "source": [
    "def get_rmse(model):\n",
    "    from sklearn.metrics import mean_squared_error\n",
    "    import numpy as np\n",
    "    pred = model.predict(X_test)\n",
    "    mse = mean_squared_error(y_test,pred)\n",
    "    rmse = np.sqrt(mse)\n",
    "    print(model.__class__.__name__, '로그 변환된 RMSE:', np.round(rmse, 3))\n",
    "    return rmse\n",
    "\n",
    "def get_rmse(models):\n",
    "    rmses = []\n",
    "    for model in models:\n",
    "        rmse = get_rmse(model)\n",
    "        rmses.append(rmse)\n",
    "    return rmses"
   ]
  },
  {
   "cell_type": "code",
   "execution_count": null,
   "id": "146e7de2-1b6b-460a-a9a7-8d5efd1c7379",
   "metadata": {},
   "outputs": [],
   "source": [
    "from sklearn.linear_model import LinearRegression, Ridge, Lasso\n",
    "# 회귀 계수는 누적 되면 과적합 됐을 때 모델 정확도는 높아지는데 오히려\n",
    "# 실제 데이터로 예측 해봤을 때 안좋은 모델이 될 수도 있다. \n",
    "# 그래서 위의 임포트 들로 과적합을 막기휘한 제한을 준다.\n",
    "from sklearn.model_selection import train_test_split"
   ]
  },
  {
   "cell_type": "code",
   "execution_count": null,
   "id": "1b2c64b4-9dc9-4561-a8ad-d447a6300e5b",
   "metadata": {
    "tags": []
   },
   "outputs": [],
   "source": [
    "# 로그처리가 된 df를 각각 변수에 넣어주고\n",
    "y = df_ohe['SalePrice']\n",
    "x = df_ohe.drop(columns=['SalePrice'])"
   ]
  },
  {
   "cell_type": "code",
   "execution_count": null,
   "id": "fd5a0d8d-7f2b-4b30-aa69-bc03dc723c5c",
   "metadata": {
    "tags": []
   },
   "outputs": [],
   "source": [
    "X_train,X_test,y_train,y_test = train_test_split(X,y,test_size=0.2,random_state=156)"
   ]
  },
  {
   "cell_type": "code",
   "execution_count": null,
   "id": "77d0ba9d-5dc0-440c-8a65-83c4adcab210",
   "metadata": {},
   "outputs": [],
   "source": [
    "lr_reg = LinearRegression()\n",
    "lr_reg.fit(X_train,y_train)"
   ]
  },
  {
   "cell_type": "code",
   "execution_count": null,
   "id": "c3c5a6a1-42de-4c30-89eb-5aa282bdd357",
   "metadata": {},
   "outputs": [],
   "source": [
    "ridge_reg = Ridge()\n",
    "ridge_reg.fit(X_train,y_train)"
   ]
  },
  {
   "cell_type": "code",
   "execution_count": null,
   "id": "8ed520ba-65f4-4b81-b8f9-90fe23501358",
   "metadata": {},
   "outputs": [],
   "source": [
    "lasso_reg = Lasso()\n",
    "lasso_reg.fit(X_train,y_train)"
   ]
  },
  {
   "cell_type": "code",
   "execution_count": null,
   "id": "ff3d3822-7641-42b7-a45f-313ae2900fe8",
   "metadata": {},
   "outputs": [],
   "source": []
  },
  {
   "cell_type": "code",
   "execution_count": null,
   "id": "07dad8bc-5431-4546-9cbd-1038f4bbe67c",
   "metadata": {},
   "outputs": [],
   "source": [
    "np.expm1(0.13189576579154494)"
   ]
  },
  {
   "cell_type": "code",
   "execution_count": null,
   "id": "ccb39244-4046-4726-a44c-87bfb0cf7ac0",
   "metadata": {},
   "outputs": [],
   "source": [
    "def get_top_botton_coef(model,n=10):\n",
    "    coef = pd.Series(model.coef_,index=X.columns)\n",
    "    coef_high = coef.sort_values(ascending=False).head(n)\n",
    "    coef_low = coef.sort_values(ascending=False).tail(n)\n",
    "    return coef_high,coef_low"
   ]
  },
  {
   "cell_type": "code",
   "execution_count": null,
   "id": "5b82f2a5-d940-4467-8df8-416042cf567f",
   "metadata": {},
   "outputs": [],
   "source": [
    "get_top_botton_coef(lr_reg,3)"
   ]
  },
  {
   "cell_type": "code",
   "execution_count": null,
   "id": "7637ac95-d2c6-4126-8451-d4130ea03b79",
   "metadata": {},
   "outputs": [],
   "source": [
    "def visualize_coefficient(models):\n",
    "    fig,axs = plt.subplots(figsize=(24,10),nrows=1,ncols=3)\n",
    "    fig.tight_layout()\n",
    "    for i_num,model in enumerate(models):\n",
    "        # 상위 몇개 하위 몇개 가져옴\n",
    "        coef_high,coef_low = get_top_botton_coef(model)\n",
    "        # 하나로 붙어서 나오게 만듬\n",
    "        coef_concat = pd.concat([coef_high,coef_low])\n",
    "        # 이걸 호출할 때 0, 1, 2 호출 된다.\n",
    "        axs[i_num].set_title(model.__class__.__name__+ 'Coefficient',size=25)\n",
    "        # pad 값을 기준으로 앞 뒤 들여쓰기 조정 \n",
    "        axs[i_num].tick_params(axis='y', direction='in', pad=-120)\n",
    "        for label in (axs[i_num].get_xticklables()+axs[i_num].get_yticklabels()):\n",
    "            label.set_fontsize(22)\n",
    "        sns.barplot(x=coef_concat.values, y=coef_concat.index, ax=axs[i_num])\n",
    "\n",
    "visualize_coefficient(models)\n",
    "model = [lr_reg, ridge_reg, lasso_reg]"
   ]
  },
  {
   "cell_type": "code",
   "execution_count": null,
   "id": "ac23021c-2a2a-49d0-a570-6e187d5c26ae",
   "metadata": {},
   "outputs": [],
   "source": [
    "# 결과값에서 rasso는 다른 형태 보인다.\n",
    "# p.383 - 교차검증 해봐야함."
   ]
  },
  {
   "cell_type": "code",
   "execution_count": 13,
   "id": "86bf4bef-a5f3-435b-b62f-527b1473638a",
   "metadata": {},
   "outputs": [],
   "source": [
    "from sklearn.model_selection import cross_val_score"
   ]
  },
  {
   "cell_type": "code",
   "execution_count": 14,
   "id": "10f5ce08-9ba5-4415-9f5c-7014fa9ebd37",
   "metadata": {},
   "outputs": [],
   "source": [
    "def get_avg_rmse_cv(models):\n",
    "    for model in models:\n",
    "        rmse_list = np.sqrt(-cross_val_score(model, X_features, y_target,\n",
    "                                             scoring=\"neg_mean_squared_error\", cv=5))\n",
    "        rmse_avg = np.mean(rmse_list)\n",
    "        print('\\n{0} CV RMSE 값 리스트: {1}'.format(model.__class__.__name__, np.round(rmse_list, 3)))\n",
    "        print('{0} CV 평균 RMSE 값: {1}'.format(model.__class__.__name__, np.round(rmse_avg, 3)))"
   ]
  },
  {
   "cell_type": "code",
   "execution_count": 15,
   "id": "f5d3f221-cd87-49b8-a957-0350838f74b9",
   "metadata": {
    "collapsed": true,
    "jupyter": {
     "outputs_hidden": true
    },
    "tags": []
   },
   "outputs": [
    {
     "ename": "NameError",
     "evalue": "name 'models' is not defined",
     "output_type": "error",
     "traceback": [
      "\u001b[1;31m---------------------------------------------------------------------------\u001b[0m",
      "\u001b[1;31mNameError\u001b[0m                                 Traceback (most recent call last)",
      "\u001b[1;32m~\\AppData\\Local\\Temp\\ipykernel_8328\\3314170620.py\u001b[0m in \u001b[0;36m<module>\u001b[1;34m\u001b[0m\n\u001b[1;32m----> 1\u001b[1;33m \u001b[0mget_avg_rmse_cv\u001b[0m\u001b[1;33m(\u001b[0m\u001b[0mmodels\u001b[0m\u001b[1;33m)\u001b[0m\u001b[1;33m\u001b[0m\u001b[1;33m\u001b[0m\u001b[0m\n\u001b[0m",
      "\u001b[1;31mNameError\u001b[0m: name 'models' is not defined"
     ]
    }
   ],
   "source": [
    "get_avg_rmse_cv(models)"
   ]
  },
  {
   "cell_type": "code",
   "execution_count": 16,
   "id": "32809ef1-8064-4bb1-ac69-fdd562b0e41e",
   "metadata": {},
   "outputs": [],
   "source": [
    "from sklearn.model_selection import GridSearchCV"
   ]
  },
  {
   "cell_type": "code",
   "execution_count": null,
   "id": "328b6dbc-1868-4627-b779-7720f10051e1",
   "metadata": {},
   "outputs": [],
   "source": [
    "def print_best_params(model, params):\n",
    "    grid_model = GridSearchCV(model,params,\n",
    "                              # 원본값과의 차이값의 제곱의 합??\n",
    "                             scoring='neg_mean_squared_error', cv=5)\n",
    "    grid_model.fit(X, y)\n",
    "    rmse = np,sqrt(-1*grid_model.best_score_)\n",
    "    print(f'{model.__class__.__name__} 5 cv시 최적 평균 rmse 값:{np.round(rmse,4)}, 최적 alpha값:{grid_model.best_params}')"
   ]
  },
  {
   "cell_type": "code",
   "execution_count": 17,
   "id": "2c6218ee-3881-41cc-a44a-b4455a66da05",
   "metadata": {
    "collapsed": true,
    "jupyter": {
     "outputs_hidden": true
    },
    "tags": []
   },
   "outputs": [
    {
     "ename": "NameError",
     "evalue": "name 'ridge_reg' is not defined",
     "output_type": "error",
     "traceback": [
      "\u001b[1;31m---------------------------------------------------------------------------\u001b[0m",
      "\u001b[1;31mNameError\u001b[0m                                 Traceback (most recent call last)",
      "\u001b[1;32m~\\AppData\\Local\\Temp\\ipykernel_8328\\3826489684.py\u001b[0m in \u001b[0;36m<module>\u001b[1;34m\u001b[0m\n\u001b[0;32m      2\u001b[0m     \u001b[1;34m'alpha'\u001b[0m\u001b[1;33m:\u001b[0m\u001b[1;33m[\u001b[0m\u001b[1;36m0.05\u001b[0m\u001b[1;33m,\u001b[0m\u001b[1;36m0.1\u001b[0m\u001b[1;33m,\u001b[0m\u001b[1;36m1\u001b[0m\u001b[1;33m,\u001b[0m\u001b[1;36m5\u001b[0m\u001b[1;33m,\u001b[0m\u001b[1;36m8\u001b[0m\u001b[1;33m,\u001b[0m\u001b[1;36m10\u001b[0m\u001b[1;33m,\u001b[0m\u001b[1;36m12\u001b[0m\u001b[1;33m,\u001b[0m\u001b[1;36m15\u001b[0m\u001b[1;33m,\u001b[0m\u001b[1;36m20\u001b[0m\u001b[1;33m]\u001b[0m\u001b[1;33m\u001b[0m\u001b[1;33m\u001b[0m\u001b[0m\n\u001b[0;32m      3\u001b[0m }\n\u001b[1;32m----> 4\u001b[1;33m \u001b[0mprint_best_params\u001b[0m\u001b[1;33m(\u001b[0m\u001b[0mridge_reg\u001b[0m\u001b[1;33m,\u001b[0m\u001b[0mridge_param\u001b[0m\u001b[1;33m)\u001b[0m\u001b[1;33m\u001b[0m\u001b[1;33m\u001b[0m\u001b[0m\n\u001b[0m",
      "\u001b[1;31mNameError\u001b[0m: name 'ridge_reg' is not defined"
     ]
    }
   ],
   "source": [
    "print_best_params = {\n",
    "    'alpha':[0.05,0.1,1,5,8,10,12,15,20]\n",
    "}\n",
    "print_best_params(ridge_reg,ridge_param)"
   ]
  },
  {
   "cell_type": "code",
   "execution_count": null,
   "id": "1bd1483e-235a-4662-ad0a-2c856c67e057",
   "metadata": {},
   "outputs": [],
   "source": [
    "lasso_params = {\n",
    "    'alpha':[0.05, 0.1, 1, 5, 8, 10, 12, 15, 20]\n",
    "}\n",
    "print_best_params(lasso_reg, lasso_param)"
   ]
  },
  {
   "cell_type": "code",
   "execution_count": null,
   "id": "69cf681b-1519-48bf-901a-a3f01508406e",
   "metadata": {},
   "outputs": [],
   "source": [
    "r_reg = LinearRegression()\n",
    "lr_reg.fit(X_train,y_train)"
   ]
  },
  {
   "cell_type": "code",
   "execution_count": null,
   "id": "9e1a84b8-d683-44f2-9dd8-951439a6b855",
   "metadata": {},
   "outputs": [],
   "source": [
    "ridge_reg = Ridge()\n",
    "ridge_reg.fit(X_train,y_train)"
   ]
  },
  {
   "cell_type": "code",
   "execution_count": null,
   "id": "9915cfb2-4e95-4d7a-b313-74cb3a910061",
   "metadata": {},
   "outputs": [],
   "source": [
    "lasso_reg = Lasso()\n",
    "lasso_reg.fit(X_train,y_train)"
   ]
  },
  {
   "cell_type": "code",
   "execution_count": null,
   "id": "ec8aec4e-cbd5-4c02-9b17-921d28d6cf6b",
   "metadata": {},
   "outputs": [],
   "source": [
    "models=[lr_reg,ridge_reg,lasso_reg]\n",
    "get_rmses(models)\n",
    "\n",
    "visualize_coefficient(models)"
   ]
  },
  {
   "cell_type": "code",
   "execution_count": null,
   "id": "45393c5e-dded-4d00-8ab0-2846d3b67f9b",
   "metadata": {},
   "outputs": [],
   "source": []
  },
  {
   "cell_type": "code",
   "execution_count": null,
   "id": "4998c9b0-ba6e-4647-a67a-7712a361878f",
   "metadata": {},
   "outputs": [],
   "source": []
  },
  {
   "cell_type": "code",
   "execution_count": null,
   "id": "fb512edc-3ce0-484a-8d07-72cf2764fe6b",
   "metadata": {},
   "outputs": [],
   "source": []
  },
  {
   "cell_type": "code",
   "execution_count": null,
   "id": "df6bae68-7892-4ec9-a36b-55d6b3fa624f",
   "metadata": {},
   "outputs": [],
   "source": []
  },
  {
   "cell_type": "code",
   "execution_count": null,
   "id": "b45414fb-c257-4af5-97bc-6bc0f9a4b274",
   "metadata": {},
   "outputs": [],
   "source": []
  },
  {
   "cell_type": "code",
   "execution_count": null,
   "id": "b1b1e7c4-c781-4076-b003-4f903fa53f95",
   "metadata": {},
   "outputs": [],
   "source": []
  },
  {
   "cell_type": "code",
   "execution_count": null,
   "id": "195c55ef-e501-48e4-b126-7ed4bde6bb70",
   "metadata": {},
   "outputs": [],
   "source": []
  }
 ],
 "metadata": {
  "kernelspec": {
   "display_name": "Python 3 (ipykernel)",
   "language": "python",
   "name": "python3"
  },
  "language_info": {
   "codemirror_mode": {
    "name": "ipython",
    "version": 3
   },
   "file_extension": ".py",
   "mimetype": "text/x-python",
   "name": "python",
   "nbconvert_exporter": "python",
   "pygments_lexer": "ipython3",
   "version": "3.9.13"
  }
 },
 "nbformat": 4,
 "nbformat_minor": 5
}
