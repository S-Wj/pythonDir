{
 "cells": [
  {
   "cell_type": "markdown",
   "id": "d9528e6d-6a45-4764-99e9-a688d050a7ee",
   "metadata": {},
   "source": [
    "# 데이터 전처리\n",
    "ML 알고리즘에선 \n",
    "- 결손값(NaN, Null) 을 허용하지 않는다.\n",
    "- 문자형 데이터형은 사용하지 않는다. 따라서 숫자형 데이터로 인코딩해서 활용해야한다.\n",
    "- 주민번호나 단순 아이디 문자열 처럼 식벽자 피처는 단순 데이터 로우 식별에 사용되므로 삭제하는게 좋다.\n",
    "\n",
    "## 데이터 인코딩\n",
    "\n",
    "### 레이블 인코딩\n",
    "전체 데이터에서 유니크 값을 뽑아 낸 다음. 일련번호를 붙혀서 딕셔너리를 만든 후 수치화(인코딩 작업) 한다.\n",
    "실제 적으론 리스트를 만든다.\n",
    "\n",
    "- 인코딩으로 변환하여 ML 모델을 구성할 때 우리는 단순히 숫자값으로 데이터를 구분하기 위해 레이블 인코딩을 사용했지만, \n",
    "잘못되면 중요도의 점수가 매겨져 가중치가 생겨면 ML 모델에 성능을 떨어뜨릴 수 있다.\n",
    "이런 문제점을 해결해줄 방법이 원-핫 인코딩\n",
    "\n",
    "### 원-핫 인코딩\n",
    "고유값의 개수만큼의 컬럼 형으로 데이터를 인코딩 해주어 분류하는 방법.\n",
    "\n",
    "- 이것도 컬럼이 너무 많아 질 수 있어서 문제가 있다."
   ]
  },
  {
   "cell_type": "code",
   "execution_count": 1,
   "id": "a882c13c-4e25-424f-8734-31b3ec299c89",
   "metadata": {},
   "outputs": [],
   "source": [
    "# 인코딩 모듈 활성화\n",
    "from sklearn.preprocessing import LabelEncoder"
   ]
  },
  {
   "cell_type": "code",
   "execution_count": 38,
   "id": "1a6f5704-1668-4c99-bec0-edee8f0acd3a",
   "metadata": {},
   "outputs": [],
   "source": [
    "items=['TV','냉장고','전자레인지','컴퓨터','선풍기','선풍기','믹서','믹서']\n",
    "# `fit` 은 데이터를 학습할 모델 부분 지정하는 것.\n",
    "# 이걸로 먼저 학습할 표본 데이터를 전체 저장해줘야 함.\n",
    "# 새로운 들어올 데이터는 이 학습된 데이터에 맞춰서 transform 될 예정. (목표 딕셔너리 지정)\n",
    "\n",
    "# `transform` 은 인코딩 변환해줄 데이터 숫자로 변경 해주는 명령.\n",
    "encoder = LabelEncoder()\n",
    "# 목록 생성\n",
    "encoder.fit(items)\n",
    "labels = encoder.transform(items)"
   ]
  },
  {
   "cell_type": "code",
   "execution_count": 3,
   "id": "87ce067c-b117-4131-a909-f9df5199b6a3",
   "metadata": {},
   "outputs": [
    {
     "data": {
      "text/plain": [
       "array([0, 1, 4, 5, 3, 3, 2, 2])"
      ]
     },
     "execution_count": 3,
     "metadata": {},
     "output_type": "execute_result"
    }
   ],
   "source": [
    "labels"
   ]
  },
  {
   "cell_type": "code",
   "execution_count": 4,
   "id": "ffaaf0bd-e2d4-41d0-a90c-4692f5944543",
   "metadata": {},
   "outputs": [
    {
     "data": {
      "text/plain": [
       "array([1])"
      ]
     },
     "execution_count": 4,
     "metadata": {},
     "output_type": "execute_result"
    }
   ],
   "source": [
    "# 냉장고 인코딩 값 보여줌\n",
    "encoder.transform(['냉장고'])"
   ]
  },
  {
   "cell_type": "code",
   "execution_count": 5,
   "id": "62f62193-fdc2-4fea-bb04-9ed6cad813eb",
   "metadata": {},
   "outputs": [
    {
     "data": {
      "text/plain": [
       "array(['TV', '냉장고', '믹서', '선풍기', '전자레인지', '컴퓨터'], dtype='<U5')"
      ]
     },
     "execution_count": 5,
     "metadata": {},
     "output_type": "execute_result"
    }
   ],
   "source": [
    "# 사전에 학습할 정보 확인해줌\n",
    "encoder.classes_"
   ]
  },
  {
   "cell_type": "code",
   "execution_count": 6,
   "id": "24ed98f6-fd7e-46f4-8189-38ccbc672777",
   "metadata": {},
   "outputs": [
    {
     "data": {
      "text/plain": [
       "array(['냉장고'], dtype='<U5')"
      ]
     },
     "execution_count": 6,
     "metadata": {},
     "output_type": "execute_result"
    }
   ],
   "source": [
    "# 1번이 이 사전에서 뭘 의미하는지 알려줌.\n",
    "encoder.inverse_transform([1])"
   ]
  },
  {
   "cell_type": "code",
   "execution_count": 7,
   "id": "17e3172b-c108-4261-b2ff-6cbc04bd1a39",
   "metadata": {},
   "outputs": [
    {
     "data": {
      "text/plain": [
       "array(['TV', '냉장고', '전자레인지', '컴퓨터', '선풍기', '선풍기', '믹서', '믹서'], dtype='<U5')"
      ]
     },
     "execution_count": 7,
     "metadata": {},
     "output_type": "execute_result"
    }
   ],
   "source": [
    "# 인코딩 된 데이터들 인콛딩 전의 데이터로 원상 복구(변경)해줌.\n",
    "# 사전 데이터 일일이 조회하기 힘들 때 사용?\n",
    "# 그래서 원본 데이터나 인코딩 데이터를 따로 저장해서 둘이 같이 보면서 작업하는게 좋음.\n",
    "encoder.inverse_transform(labels)"
   ]
  },
  {
   "cell_type": "code",
   "execution_count": 8,
   "id": "f007bc1d-e416-4926-9999-86735f00cbec",
   "metadata": {},
   "outputs": [],
   "source": [
    "from sklearn.preprocessing import OneHotEncoder\n",
    "import numpy as np"
   ]
  },
  {
   "cell_type": "code",
   "execution_count": 9,
   "id": "79eb61fb-aeca-47d4-9f35-969dfb5d8d4e",
   "metadata": {},
   "outputs": [],
   "source": [
    "items\n",
    "# items=['TV','냉장고','전자레인지','컴퓨터','선풍기','선풍기','믹서','믹서'] 가 이런 모양이니까 `items_l`와 같은 모양으로 바꿔야 \n",
    "# 한 행에 한 데이터가 들어가져서 모양 바꿔줘야됨\n",
    "# 원-핫 인코딩 \n",
    "# array.reshape(-1, 1) 해야줘야 함.\n",
    "# 먼저 넘파이 어레이 형태로 변환 후 reshape\n",
    "items_t = np.array(items).reshape(-1, 1)\n",
    "items_t\n",
    "items_l = [['TV'],\n",
    "       ['냉장고'],\n",
    "       ['전자레인지'],\n",
    "       ['컴퓨터'],\n",
    "       ['선풍기'],\n",
    "       ['선풍기'],\n",
    "       ['믹서'],\n",
    "       ['믹서']]"
   ]
  },
  {
   "cell_type": "code",
   "execution_count": 10,
   "id": "72a17519-c9dc-4ca0-a431-7cf9f1442af4",
   "metadata": {},
   "outputs": [
    {
     "data": {
      "text/plain": [
       "array([[1., 0., 0., 0., 0., 0.],\n",
       "       [0., 1., 0., 0., 0., 0.],\n",
       "       [0., 0., 0., 0., 1., 0.],\n",
       "       [0., 0., 0., 0., 0., 1.],\n",
       "       [0., 0., 0., 1., 0., 0.],\n",
       "       [0., 0., 0., 1., 0., 0.],\n",
       "       [0., 0., 1., 0., 0., 0.],\n",
       "       [0., 0., 1., 0., 0., 0.]])"
      ]
     },
     "execution_count": 10,
     "metadata": {},
     "output_type": "execute_result"
    }
   ],
   "source": [
    "# 원-핫 인코더 생성\n",
    "oh_encoder = OneHotEncoder()\n",
    "oh_encoder.fit(items_t)\n",
    "result = oh_encoder.transform(items_t)\n",
    "result.toarray()"
   ]
  },
  {
   "cell_type": "code",
   "execution_count": 11,
   "id": "9ab2ec9f-abb8-4dbe-91c3-077a5728f341",
   "metadata": {},
   "outputs": [
    {
     "data": {
      "text/plain": [
       "[array(['TV', '냉장고', '믹서', '선풍기', '전자레인지', '컴퓨터'], dtype='<U5')]"
      ]
     },
     "execution_count": 11,
     "metadata": {},
     "output_type": "execute_result"
    }
   ],
   "source": [
    "# 카테고리 값들 조회\n",
    "oh_encoder.categories_"
   ]
  },
  {
   "cell_type": "code",
   "execution_count": 12,
   "id": "ed1471b3-2a8b-45e3-8703-40b3a4639739",
   "metadata": {},
   "outputs": [
    {
     "data": {
      "text/plain": [
       "array([['TV']], dtype='<U5')"
      ]
     },
     "execution_count": 12,
     "metadata": {},
     "output_type": "execute_result"
    }
   ],
   "source": [
    "# 데이터 투입해서 해당 데이터의 칼럼 값 확인\n",
    "oh_encoder.inverse_transform([[1., 0., 0., 0., 0., 0.]])"
   ]
  },
  {
   "cell_type": "code",
   "execution_count": 13,
   "id": "e1ea0aea-1806-43be-b38d-9296362dbe6d",
   "metadata": {},
   "outputs": [
    {
     "data": {
      "text/plain": [
       "array([[0., 1., 0., 0., 0., 0.]])"
      ]
     },
     "execution_count": 13,
     "metadata": {},
     "output_type": "execute_result"
    }
   ],
   "source": [
    "oh_encoder.transform([['냉장고']]).toarray()"
   ]
  },
  {
   "cell_type": "code",
   "execution_count": 14,
   "id": "ff1ada4e-3c00-4b06-9c6e-974ca251038c",
   "metadata": {},
   "outputs": [],
   "source": [
    "import pandas as pd"
   ]
  },
  {
   "cell_type": "code",
   "execution_count": 15,
   "id": "6cdb2482-6470-4ab2-8214-226f482e9d33",
   "metadata": {},
   "outputs": [],
   "source": [
    "# df 하나 생성\n",
    "df = pd.DataFrame({'item':['TV', '냉장고', '전자레인지', '컴퓨터', '선풍기', '선풍기', '믹서', '믹서']})"
   ]
  },
  {
   "cell_type": "code",
   "execution_count": 16,
   "id": "c0cfb1cb-81aa-4e7e-a11d-5a0c67ab6300",
   "metadata": {},
   "outputs": [
    {
     "data": {
      "text/html": [
       "<div>\n",
       "<style scoped>\n",
       "    .dataframe tbody tr th:only-of-type {\n",
       "        vertical-align: middle;\n",
       "    }\n",
       "\n",
       "    .dataframe tbody tr th {\n",
       "        vertical-align: top;\n",
       "    }\n",
       "\n",
       "    .dataframe thead th {\n",
       "        text-align: right;\n",
       "    }\n",
       "</style>\n",
       "<table border=\"1\" class=\"dataframe\">\n",
       "  <thead>\n",
       "    <tr style=\"text-align: right;\">\n",
       "      <th></th>\n",
       "      <th>TV</th>\n",
       "      <th>냉장고</th>\n",
       "      <th>믹서</th>\n",
       "      <th>선풍기</th>\n",
       "      <th>전자레인지</th>\n",
       "      <th>컴퓨터</th>\n",
       "    </tr>\n",
       "  </thead>\n",
       "  <tbody>\n",
       "    <tr>\n",
       "      <th>0</th>\n",
       "      <td>1</td>\n",
       "      <td>0</td>\n",
       "      <td>0</td>\n",
       "      <td>0</td>\n",
       "      <td>0</td>\n",
       "      <td>0</td>\n",
       "    </tr>\n",
       "    <tr>\n",
       "      <th>1</th>\n",
       "      <td>0</td>\n",
       "      <td>1</td>\n",
       "      <td>0</td>\n",
       "      <td>0</td>\n",
       "      <td>0</td>\n",
       "      <td>0</td>\n",
       "    </tr>\n",
       "    <tr>\n",
       "      <th>2</th>\n",
       "      <td>0</td>\n",
       "      <td>0</td>\n",
       "      <td>0</td>\n",
       "      <td>0</td>\n",
       "      <td>1</td>\n",
       "      <td>0</td>\n",
       "    </tr>\n",
       "    <tr>\n",
       "      <th>3</th>\n",
       "      <td>0</td>\n",
       "      <td>0</td>\n",
       "      <td>0</td>\n",
       "      <td>0</td>\n",
       "      <td>0</td>\n",
       "      <td>1</td>\n",
       "    </tr>\n",
       "    <tr>\n",
       "      <th>4</th>\n",
       "      <td>0</td>\n",
       "      <td>0</td>\n",
       "      <td>0</td>\n",
       "      <td>1</td>\n",
       "      <td>0</td>\n",
       "      <td>0</td>\n",
       "    </tr>\n",
       "    <tr>\n",
       "      <th>5</th>\n",
       "      <td>0</td>\n",
       "      <td>0</td>\n",
       "      <td>0</td>\n",
       "      <td>1</td>\n",
       "      <td>0</td>\n",
       "      <td>0</td>\n",
       "    </tr>\n",
       "    <tr>\n",
       "      <th>6</th>\n",
       "      <td>0</td>\n",
       "      <td>0</td>\n",
       "      <td>1</td>\n",
       "      <td>0</td>\n",
       "      <td>0</td>\n",
       "      <td>0</td>\n",
       "    </tr>\n",
       "    <tr>\n",
       "      <th>7</th>\n",
       "      <td>0</td>\n",
       "      <td>0</td>\n",
       "      <td>1</td>\n",
       "      <td>0</td>\n",
       "      <td>0</td>\n",
       "      <td>0</td>\n",
       "    </tr>\n",
       "  </tbody>\n",
       "</table>\n",
       "</div>"
      ],
      "text/plain": [
       "   TV  냉장고  믹서  선풍기  전자레인지  컴퓨터\n",
       "0   1    0   0    0      0    0\n",
       "1   0    1   0    0      0    0\n",
       "2   0    0   0    0      1    0\n",
       "3   0    0   0    0      0    1\n",
       "4   0    0   0    1      0    0\n",
       "5   0    0   0    1      0    0\n",
       "6   0    0   1    0      0    0\n",
       "7   0    0   1    0      0    0"
      ]
     },
     "execution_count": 16,
     "metadata": {},
     "output_type": "execute_result"
    }
   ],
   "source": [
    "# `get_dummies` 원-핫 인코딩 더 쉽게 지원하는 API\n",
    "pd.get_dummies(df['item'])"
   ]
  },
  {
   "cell_type": "markdown",
   "id": "217bb2ac-7e70-480b-bdd8-23d17166418c",
   "metadata": {},
   "source": [
    "## 피처 스케일링과 정규화\n",
    "서로 다른 변수 값의 범위를 일정한 수준으로 맞추는 작업\n",
    "\n",
    "### 스케일링\n",
    "\n",
    ">스케일링\n",
    ">> 표준화\n",
    "> 데이터의 피처 각각이 평균이 0, 분산이 1인 가우시안 정규 분포를 가진 값으로 변환하는 것.\n",
    "> (표준편차는 각 측정값과 평균의 차이를 측정하여 해당 자료의 산포도를 나타내는 값)\n",
    ">\n",
    ">> 정규화\n",
    "서로 다른 피처의 크기를 통일하기 위해 크기를 변환해주는 개념이다.\n",
    "\n"
   ]
  },
  {
   "cell_type": "code",
   "execution_count": 17,
   "id": "f60d987d-f36e-41d2-ac98-14e90660f710",
   "metadata": {},
   "outputs": [],
   "source": [
    "from sklearn.datasets import load_iris"
   ]
  },
  {
   "cell_type": "code",
   "execution_count": 18,
   "id": "c80118a2-fc97-4414-b1c6-1eb59e6a0692",
   "metadata": {},
   "outputs": [],
   "source": [
    "iris = load_iris(as_frame= True)"
   ]
  },
  {
   "cell_type": "code",
   "execution_count": 19,
   "id": "8a219fc9-2212-4530-a6b0-388ab300f22b",
   "metadata": {},
   "outputs": [
    {
     "data": {
      "text/plain": [
       "sepal length (cm)    5.843333\n",
       "sepal width (cm)     3.057333\n",
       "petal length (cm)    3.758000\n",
       "petal width (cm)     1.199333\n",
       "dtype: float64"
      ]
     },
     "execution_count": 19,
     "metadata": {},
     "output_type": "execute_result"
    }
   ],
   "source": [
    "# 평균값\n",
    "iris.data.mean()"
   ]
  },
  {
   "cell_type": "code",
   "execution_count": 20,
   "id": "d93a3a12-dc21-4cc0-a2f6-531c2849cf5f",
   "metadata": {},
   "outputs": [
    {
     "data": {
      "text/plain": [
       "sepal length (cm)    0.685694\n",
       "sepal width (cm)     0.189979\n",
       "petal length (cm)    3.116278\n",
       "petal width (cm)     0.581006\n",
       "dtype: float64"
      ]
     },
     "execution_count": 20,
     "metadata": {},
     "output_type": "execute_result"
    }
   ],
   "source": [
    "# 분산 값\n",
    "iris.data.var()"
   ]
  },
  {
   "cell_type": "code",
   "execution_count": 21,
   "id": "01eaeab8-9287-4372-a848-c640a2390756",
   "metadata": {},
   "outputs": [],
   "source": [
    "from sklearn.preprocessing import StandardScaler"
   ]
  },
  {
   "cell_type": "code",
   "execution_count": 22,
   "id": "f759d994-ddc1-42ad-b24d-10d97ab8bc32",
   "metadata": {},
   "outputs": [],
   "source": [
    "scaler = StandardScaler()\n",
    "scaler.fit(iris.data)\n",
    "iris_scaled = scaler.transform(iris.data)"
   ]
  },
  {
   "cell_type": "code",
   "execution_count": 23,
   "id": "9e117b15-4fbc-4ed1-bf48-250b415bf379",
   "metadata": {},
   "outputs": [],
   "source": [
    "iris_df = pd.DataFrame(iris_scaled)"
   ]
  },
  {
   "cell_type": "code",
   "execution_count": 24,
   "id": "ba70a061-38b5-4fbd-b221-0e854f592948",
   "metadata": {},
   "outputs": [
    {
     "data": {
      "text/plain": [
       "0   -0.0\n",
       "1   -0.0\n",
       "2   -0.0\n",
       "3   -0.0\n",
       "dtype: float64"
      ]
     },
     "execution_count": 24,
     "metadata": {},
     "output_type": "execute_result"
    }
   ],
   "source": [
    "# 평균값이 0에 아주 가까워짐\n",
    "iris_df.mean().round(5)"
   ]
  },
  {
   "cell_type": "code",
   "execution_count": 25,
   "id": "899ea51f-2637-42be-b672-4517fe70ae67",
   "metadata": {},
   "outputs": [
    {
     "data": {
      "text/plain": [
       "0    1.006711\n",
       "1    1.006711\n",
       "2    1.006711\n",
       "3    1.006711\n",
       "dtype: float64"
      ]
     },
     "execution_count": 25,
     "metadata": {},
     "output_type": "execute_result"
    }
   ],
   "source": [
    "# 분산값이 1에 가까워짐\n",
    "iris_df.var()"
   ]
  },
  {
   "cell_type": "code",
   "execution_count": 26,
   "id": "6628d651-d958-41a3-8443-b59bce0f1d6e",
   "metadata": {},
   "outputs": [],
   "source": [
    "from sklearn.preprocessing import MinMaxScaler"
   ]
  },
  {
   "cell_type": "code",
   "execution_count": 27,
   "id": "469a5be5-e239-43be-a471-77e35d79183f",
   "metadata": {},
   "outputs": [],
   "source": [
    "# 균등분포면 MinMax 사용.\n",
    "scarler = MinMaxScaler()"
   ]
  },
  {
   "cell_type": "code",
   "execution_count": 28,
   "id": "b56d415f-4471-4734-ade8-b81d2fcab8d3",
   "metadata": {},
   "outputs": [],
   "source": [
    "scarler.fit(iris.data)\n",
    "iris_scaled = scarler.transform(iris.data)"
   ]
  },
  {
   "cell_type": "code",
   "execution_count": 29,
   "id": "3632f926-3d43-4383-8e08-d75f5a2a15e6",
   "metadata": {},
   "outputs": [
    {
     "data": {
      "text/plain": [
       "(0    0.0\n",
       " 1    0.0\n",
       " 2    0.0\n",
       " 3    0.0\n",
       " dtype: float64,\n",
       " sepal length (cm)    4.3\n",
       " sepal width (cm)     2.0\n",
       " petal length (cm)    1.0\n",
       " petal width (cm)     0.1\n",
       " dtype: float64)"
      ]
     },
     "execution_count": 29,
     "metadata": {},
     "output_type": "execute_result"
    }
   ],
   "source": [
    "iris_df = pd.DataFrame(iris_scaled)\n",
    "# 0으로 min값 맞춰짐.\n",
    "\n",
    "iris_df.min(),iris.data.min()"
   ]
  },
  {
   "cell_type": "code",
   "execution_count": 30,
   "id": "a73c8907-4c5c-45ab-95c7-c2352aab9e61",
   "metadata": {},
   "outputs": [
    {
     "data": {
      "text/plain": [
       "(0    1.0\n",
       " 1    1.0\n",
       " 2    1.0\n",
       " 3    1.0\n",
       " dtype: float64,\n",
       " sepal length (cm)    7.9\n",
       " sepal width (cm)     4.4\n",
       " petal length (cm)    6.9\n",
       " petal width (cm)     2.5\n",
       " dtype: float64)"
      ]
     },
     "execution_count": 30,
     "metadata": {},
     "output_type": "execute_result"
    }
   ],
   "source": [
    "# 1로 맥스값 맞춰짐\n",
    "iris_df.max(),iris.data.max()"
   ]
  },
  {
   "cell_type": "code",
   "execution_count": 31,
   "id": "ac8e6a08-2d2e-435b-8cdc-f6be740d162d",
   "metadata": {},
   "outputs": [
    {
     "data": {
      "text/plain": [
       "array([[ 0],\n",
       "       [ 1],\n",
       "       [ 2],\n",
       "       [ 3],\n",
       "       [ 4],\n",
       "       [ 5],\n",
       "       [ 6],\n",
       "       [ 7],\n",
       "       [ 8],\n",
       "       [ 9],\n",
       "       [10]])"
      ]
     },
     "execution_count": 31,
     "metadata": {},
     "output_type": "execute_result"
    }
   ],
   "source": [
    "# 변환 테스트 해보기\n",
    "\n",
    "train_array = np.arange(0,11).reshape(-1,1)\n",
    "train_array"
   ]
  },
  {
   "cell_type": "code",
   "execution_count": 32,
   "id": "b770b29f-882a-48ee-a1af-86ee9600f789",
   "metadata": {},
   "outputs": [
    {
     "data": {
      "text/plain": [
       "array([[0],\n",
       "       [1],\n",
       "       [2],\n",
       "       [3],\n",
       "       [4],\n",
       "       [5]])"
      ]
     },
     "execution_count": 32,
     "metadata": {},
     "output_type": "execute_result"
    }
   ],
   "source": [
    "test_array = np.arange(0,6).reshape(-1,1)\n",
    "test_array"
   ]
  },
  {
   "cell_type": "code",
   "execution_count": 33,
   "id": "be7bbc77-a340-45e5-91bd-76a162b79ecb",
   "metadata": {},
   "outputs": [],
   "source": [
    "scaler = MinMaxScaler()\n",
    "scaler.fit(train_array)\n",
    "train_array = scaler.transform(train_array)"
   ]
  },
  {
   "cell_type": "code",
   "execution_count": 34,
   "id": "467ff4d1-d6a8-480a-a79e-a72317eb36a2",
   "metadata": {},
   "outputs": [
    {
     "data": {
      "text/plain": [
       "array([[0. ],\n",
       "       [0.1],\n",
       "       [0.2],\n",
       "       [0.3],\n",
       "       [0.4],\n",
       "       [0.5],\n",
       "       [0.6],\n",
       "       [0.7],\n",
       "       [0.8],\n",
       "       [0.9],\n",
       "       [1. ]])"
      ]
     },
     "execution_count": 34,
     "metadata": {},
     "output_type": "execute_result"
    }
   ],
   "source": [
    "train_array"
   ]
  },
  {
   "cell_type": "code",
   "execution_count": 35,
   "id": "eb5843eb-8bf6-4bf9-ab33-e9fd427897f4",
   "metadata": {},
   "outputs": [],
   "source": [
    "# 잘못된 예를 시도해보자\n",
    "# fit을 새롭게 하면 안된다!\n",
    "# scaler.fit(test_array) \n",
    "# 위의 식 주석 안하면 데이터 잘못나옴 train_array 결과처럼 0.5까지 나와야함.\n",
    "# array([[0. ],\n",
    "#        [0.1],\n",
    "#        [0.2],\n",
    "#        [0.3],\n",
    "#        [0.4],\n",
    "#        [0.5]])\n",
    "test_array = scaler.transform(test_array)"
   ]
  },
  {
   "cell_type": "code",
   "execution_count": 36,
   "id": "e5945d8d-7194-4ad3-9dea-296e0fd2a3cd",
   "metadata": {},
   "outputs": [
    {
     "data": {
      "text/plain": [
       "array([[0. ],\n",
       "       [0.1],\n",
       "       [0.2],\n",
       "       [0.3],\n",
       "       [0.4],\n",
       "       [0.5]])"
      ]
     },
     "execution_count": 36,
     "metadata": {},
     "output_type": "execute_result"
    }
   ],
   "source": [
    "test_array"
   ]
  },
  {
   "cell_type": "markdown",
   "id": "51f4b904-40d6-4f29-9587-c568392731cc",
   "metadata": {},
   "source": [
    "# 129p. \n",
    "1. 설명 참고\n",
    "2. "
   ]
  },
  {
   "cell_type": "code",
   "execution_count": null,
   "id": "b5eeccfe-200e-437d-896a-77ccf0173240",
   "metadata": {},
   "outputs": [],
   "source": []
  }
 ],
 "metadata": {
  "kernelspec": {
   "display_name": "Python 3 (ipykernel)",
   "language": "python",
   "name": "python3"
  },
  "language_info": {
   "codemirror_mode": {
    "name": "ipython",
    "version": 3
   },
   "file_extension": ".py",
   "mimetype": "text/x-python",
   "name": "python",
   "nbconvert_exporter": "python",
   "pygments_lexer": "ipython3",
   "version": "3.9.13"
  }
 },
 "nbformat": 4,
 "nbformat_minor": 5
}
