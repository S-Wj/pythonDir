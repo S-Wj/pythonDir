{
 "cells": [
  {
   "cell_type": "code",
   "execution_count": 1,
   "id": "1cf1d9b2-5d93-495f-8c97-8ca33efd3b57",
   "metadata": {},
   "outputs": [],
   "source": [
    "# 차원축소 두번째 예제\n",
    "from sklearn.datasets import fetch_openml"
   ]
  },
  {
   "cell_type": "code",
   "execution_count": 2,
   "id": "1dbc4835-59ae-4e46-88b6-358b190ecaa8",
   "metadata": {},
   "outputs": [],
   "source": [
    "# 파일 불러오기\n",
    "mnist = fetch_openml('mnist_784')"
   ]
  },
  {
   "cell_type": "code",
   "execution_count": 3,
   "id": "58cb385d-0885-40dd-adc6-ddc5cdc19d04",
   "metadata": {},
   "outputs": [
    {
     "data": {
      "text/plain": [
       "dict_keys(['data', 'target', 'frame', 'categories', 'feature_names', 'target_names', 'DESCR', 'details', 'url'])"
      ]
     },
     "execution_count": 3,
     "metadata": {},
     "output_type": "execute_result"
    }
   ],
   "source": [
    "mnist.keys()"
   ]
  },
  {
   "cell_type": "code",
   "execution_count": 4,
   "id": "1c8c335f-68d0-4824-93f4-eb56463f7d88",
   "metadata": {},
   "outputs": [
    {
     "data": {
      "text/plain": [
       "(70000, 784)"
      ]
     },
     "execution_count": 4,
     "metadata": {},
     "output_type": "execute_result"
    }
   ],
   "source": [
    "mnist.data.shape"
   ]
  },
  {
   "cell_type": "code",
   "execution_count": 5,
   "id": "035ec8f8-5c40-4a96-8545-d63f970159e0",
   "metadata": {},
   "outputs": [
    {
     "data": {
      "text/plain": [
       "(70000,)"
      ]
     },
     "execution_count": 5,
     "metadata": {},
     "output_type": "execute_result"
    }
   ],
   "source": [
    "mnist.target.shape"
   ]
  },
  {
   "cell_type": "code",
   "execution_count": 6,
   "id": "0901408c-1cca-461b-8228-c6e505470315",
   "metadata": {
    "tags": []
   },
   "outputs": [
    {
     "data": {
      "text/plain": [
       "0        5\n",
       "1        0\n",
       "2        4\n",
       "3        1\n",
       "4        9\n",
       "        ..\n",
       "69995    2\n",
       "69996    3\n",
       "69997    4\n",
       "69998    5\n",
       "69999    6\n",
       "Name: class, Length: 70000, dtype: category\n",
       "Categories (10, object): ['0', '1', '2', '3', ..., '6', '7', '8', '9']"
      ]
     },
     "execution_count": 6,
     "metadata": {},
     "output_type": "execute_result"
    }
   ],
   "source": [
    "mnist.target"
   ]
  },
  {
   "cell_type": "code",
   "execution_count": 7,
   "id": "d3b6618e-ef2b-4dea-a00f-bffb5297610d",
   "metadata": {},
   "outputs": [
    {
     "data": {
      "text/plain": [
       "1    7877\n",
       "7    7293\n",
       "3    7141\n",
       "2    6990\n",
       "9    6958\n",
       "0    6903\n",
       "6    6876\n",
       "8    6825\n",
       "4    6824\n",
       "5    6313\n",
       "Name: class, dtype: int64"
      ]
     },
     "execution_count": 7,
     "metadata": {},
     "output_type": "execute_result"
    }
   ],
   "source": [
    "mnist.target.value_counts()"
   ]
  },
  {
   "cell_type": "code",
   "execution_count": 8,
   "id": "6a1358e1-8ad1-4618-a243-c89b9224468c",
   "metadata": {},
   "outputs": [
    {
     "data": {
      "text/plain": [
       "0.0"
      ]
     },
     "execution_count": 8,
     "metadata": {},
     "output_type": "execute_result"
    }
   ],
   "source": [
    "mnist.data.min().min()"
   ]
  },
  {
   "cell_type": "code",
   "execution_count": 9,
   "id": "219ab492-bb03-4d70-9ab3-2e10b953a1f7",
   "metadata": {},
   "outputs": [
    {
     "data": {
      "text/plain": [
       "255.0"
      ]
     },
     "execution_count": 9,
     "metadata": {},
     "output_type": "execute_result"
    }
   ],
   "source": [
    "mnist.data.max().max()"
   ]
  },
  {
   "cell_type": "code",
   "execution_count": 25,
   "id": "b8e00ec9-0ef8-40fc-9929-cb9c539deec4",
   "metadata": {},
   "outputs": [],
   "source": [
    "from sklearn.ensemble import RandomForestClassifier\n",
    "from sklearn.model_selection import train_test_split\n",
    "from sklearn.metrics import accuracy_score"
   ]
  },
  {
   "cell_type": "code",
   "execution_count": 26,
   "id": "25cc46ec-b7e2-4854-a089-c5f697ff4733",
   "metadata": {},
   "outputs": [],
   "source": [
    "X_train,X_test,y_train,y_test = train_test_split(mnist.data,mnist.target,test_size=0.1)"
   ]
  },
  {
   "cell_type": "code",
   "execution_count": 27,
   "id": "654d2713-7269-4dee-b206-ef530d7e5e8d",
   "metadata": {},
   "outputs": [
    {
     "data": {
      "text/plain": [
       "1    7120\n",
       "7    6553\n",
       "3    6402\n",
       "2    6282\n",
       "9    6239\n",
       "0    6218\n",
       "6    6207\n",
       "8    6149\n",
       "4    6147\n",
       "5    5683\n",
       "Name: class, dtype: int64"
      ]
     },
     "execution_count": 27,
     "metadata": {},
     "output_type": "execute_result"
    }
   ],
   "source": [
    "y_train.value_counts()"
   ]
  },
  {
   "cell_type": "code",
   "execution_count": 28,
   "id": "03431d94-e680-4fe3-95ac-1c9e93bb87b0",
   "metadata": {},
   "outputs": [
    {
     "data": {
      "text/plain": [
       "0.973"
      ]
     },
     "execution_count": 28,
     "metadata": {},
     "output_type": "execute_result"
    }
   ],
   "source": [
    "clf=RandomForestClassifier()\n",
    "clf.fit(X_train,y_train)\n",
    "pred=clf.predict(X_test)\n",
    "accuracy_score(y_test,pred)"
   ]
  },
  {
   "cell_type": "code",
   "execution_count": 29,
   "id": "e35745e3-a2f6-4d79-9ce0-b28865eaedf2",
   "metadata": {},
   "outputs": [],
   "source": [
    "import matplotlib.pyplot as plt\n",
    "import numpy as np"
   ]
  },
  {
   "cell_type": "code",
   "execution_count": 30,
   "id": "cd679fc9-265d-434a-b4d5-732f17928ead",
   "metadata": {},
   "outputs": [],
   "source": [
    "tmp = X_test.iloc[0]"
   ]
  },
  {
   "cell_type": "code",
   "execution_count": 31,
   "id": "cc368981-808a-49f0-95cd-fbde93aaafa1",
   "metadata": {},
   "outputs": [],
   "source": [
    "tmp = np.array(tmp)"
   ]
  },
  {
   "cell_type": "code",
   "execution_count": 32,
   "id": "c8a5f079-faf6-46e3-befe-c11c9a2283b3",
   "metadata": {},
   "outputs": [
    {
     "ename": "AttributeError",
     "evalue": "'numpy.ndarray' object has no attribute 'rashape'",
     "output_type": "error",
     "traceback": [
      "\u001b[1;31m---------------------------------------------------------------------------\u001b[0m",
      "\u001b[1;31mAttributeError\u001b[0m                            Traceback (most recent call last)",
      "\u001b[1;32m~\\AppData\\Local\\Temp\\ipykernel_1192\\4073965072.py\u001b[0m in \u001b[0;36m<module>\u001b[1;34m\u001b[0m\n\u001b[1;32m----> 1\u001b[1;33m \u001b[0mtmp\u001b[0m \u001b[1;33m=\u001b[0m \u001b[0mtmp\u001b[0m\u001b[1;33m.\u001b[0m\u001b[0mrashape\u001b[0m\u001b[1;33m(\u001b[0m\u001b[1;36m28\u001b[0m\u001b[1;33m,\u001b[0m\u001b[1;36m28\u001b[0m\u001b[1;33m)\u001b[0m\u001b[1;33m\u001b[0m\u001b[1;33m\u001b[0m\u001b[0m\n\u001b[0m",
      "\u001b[1;31mAttributeError\u001b[0m: 'numpy.ndarray' object has no attribute 'rashape'"
     ]
    }
   ],
   "source": [
    "tmp = tmp.rashape(28,28)"
   ]
  },
  {
   "cell_type": "code",
   "execution_count": null,
   "id": "7ad588ad-183d-4425-ace8-b4dfc73fab1f",
   "metadata": {},
   "outputs": [],
   "source": [
    "plt.imshow(tmp,cmap='gray')\n",
    "y_test.iloc[100]"
   ]
  },
  {
   "cell_type": "code",
   "execution_count": 33,
   "id": "ca416dd0-6221-44de-8a05-4e66a11ee00c",
   "metadata": {},
   "outputs": [],
   "source": [
    "import glob\n",
    "from PIL import Image"
   ]
  },
  {
   "cell_type": "code",
   "execution_count": 35,
   "id": "d9e8fcab-43c9-4298-a839-66f94ea8e3ae",
   "metadata": {},
   "outputs": [],
   "source": [
    "for path in glob.glob('./img/*.png'):\n",
    "    print(path)\n",
    "    img = Image.open(path).convert('L')\n",
    "    # print(img)\n",
    "    plt.imshow(img,cmap='gray')\n",
    "    img = np.resize(img, (1,784))\n",
    "    # 실수 값으로 학습 데이터와 데이터 타입 맞춰줌.\n",
    "    img = 255.0-(img)\n",
    "    # print(img)\n",
    "    pred = clf.predict(img)\n",
    "    print(pred)\n",
    "    \n",
    "    plt.show"
   ]
  },
  {
   "cell_type": "code",
   "execution_count": null,
   "id": "ebee1920-bdd4-4c57-a7b3-b6cfe09eb01a",
   "metadata": {},
   "outputs": [],
   "source": [
    "# 머신러닝은 특정 픽셀의 데이터를 기준으로 학습을 하기 때문에 \n",
    "# 비정형 데이터의 형태가 같아도 다른 픽셀에 있으면 예측을 정확하게 하지 못한다.\n",
    "\n",
    "# 모델이 학습한 데이터형태와 같은 형태로 추가 학습하거나 테스트용 데이터를 투입해야지 예측이 잘 된다.\n",
    "# 그렇지 않으면 머신러닝 모델이 잘 예측하지 못한다."
   ]
  },
  {
   "cell_type": "code",
   "execution_count": null,
   "id": "b998a069-1bb3-4c94-83f3-0fe23af61b2a",
   "metadata": {},
   "outputs": [],
   "source": []
  }
 ],
 "metadata": {
  "kernelspec": {
   "display_name": "Python 3 (ipykernel)",
   "language": "python",
   "name": "python3"
  },
  "language_info": {
   "codemirror_mode": {
    "name": "ipython",
    "version": 3
   },
   "file_extension": ".py",
   "mimetype": "text/x-python",
   "name": "python",
   "nbconvert_exporter": "python",
   "pygments_lexer": "ipython3",
   "version": "3.9.13"
  }
 },
 "nbformat": 4,
 "nbformat_minor": 5
}
