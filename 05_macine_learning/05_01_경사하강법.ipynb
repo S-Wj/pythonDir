{
 "cells": [
  {
   "cell_type": "markdown",
   "id": "3e6f8b62-e091-4f33-a569-4d0d10ac92c6",
   "metadata": {},
   "source": [
    "# 회귀\n",
    "여러 개의 독립변수와 한 개의 종속변수 간의 상관관계를 모델링하는 기법\n",
    "\n",
    "## 경사하강법"
   ]
  },
  {
   "cell_type": "code",
   "execution_count": 1,
   "id": "47e1121b-4da3-450b-a4da-2e68f5a2e849",
   "metadata": {},
   "outputs": [],
   "source": [
    "import numpy as np\n",
    "import matplotlib.pyplot as plt"
   ]
  },
  {
   "cell_type": "code",
   "execution_count": 2,
   "id": "97c51971-52ef-4980-a34d-ead7db4b79a3",
   "metadata": {},
   "outputs": [],
   "source": [
    "np.random.seed(0)"
   ]
  },
  {
   "cell_type": "code",
   "execution_count": 3,
   "id": "17558085-d31e-44a7-984d-826655f29337",
   "metadata": {},
   "outputs": [
    {
     "data": {
      "text/plain": [
       "array([[1.09762701],\n",
       "       [1.43037873],\n",
       "       [1.20552675],\n",
       "       [1.08976637],\n",
       "       [0.8473096 ],\n",
       "       [1.29178823],\n",
       "       [0.87517442],\n",
       "       [1.783546  ],\n",
       "       [1.92732552],\n",
       "       [0.76688304],\n",
       "       [1.58345008],\n",
       "       [1.05778984],\n",
       "       [1.13608912],\n",
       "       [1.85119328],\n",
       "       [0.14207212],\n",
       "       [0.1742586 ],\n",
       "       [0.04043679],\n",
       "       [1.66523969],\n",
       "       [1.5563135 ],\n",
       "       [1.7400243 ],\n",
       "       [1.95723668],\n",
       "       [1.59831713],\n",
       "       [0.92295872],\n",
       "       [1.56105835],\n",
       "       [0.23654885],\n",
       "       [1.27984204],\n",
       "       [0.28670657],\n",
       "       [1.88933783],\n",
       "       [1.04369664],\n",
       "       [0.82932388],\n",
       "       [0.52911122],\n",
       "       [1.54846738],\n",
       "       [0.91230066],\n",
       "       [1.1368679 ],\n",
       "       [0.0375796 ],\n",
       "       [1.23527099],\n",
       "       [1.22419145],\n",
       "       [1.23386799],\n",
       "       [1.88749616],\n",
       "       [1.3636406 ],\n",
       "       [0.7190158 ],\n",
       "       [0.87406391],\n",
       "       [1.39526239],\n",
       "       [0.12045094],\n",
       "       [1.33353343],\n",
       "       [1.34127574],\n",
       "       [0.42076512],\n",
       "       [0.2578526 ],\n",
       "       [0.6308567 ],\n",
       "       [0.72742154],\n",
       "       [1.14039354],\n",
       "       [0.87720303],\n",
       "       [1.97674768],\n",
       "       [0.20408962],\n",
       "       [0.41775351],\n",
       "       [0.32261904],\n",
       "       [1.30621665],\n",
       "       [0.50658321],\n",
       "       [0.93262155],\n",
       "       [0.48885118],\n",
       "       [0.31793917],\n",
       "       [0.22075028],\n",
       "       [1.31265918],\n",
       "       [0.2763659 ],\n",
       "       [0.39316472],\n",
       "       [0.73745034],\n",
       "       [1.64198646],\n",
       "       [0.19420255],\n",
       "       [1.67588981],\n",
       "       [0.19219682],\n",
       "       [1.95291893],\n",
       "       [0.9373024 ],\n",
       "       [1.95352218],\n",
       "       [1.20969104],\n",
       "       [1.47852716],\n",
       "       [0.07837558],\n",
       "       [0.56561393],\n",
       "       [0.24039312],\n",
       "       [0.5922804 ],\n",
       "       [0.23745544],\n",
       "       [0.63596636],\n",
       "       [0.82852599],\n",
       "       [0.12829499],\n",
       "       [1.38494424],\n",
       "       [1.13320291],\n",
       "       [0.53077898],\n",
       "       [1.04649611],\n",
       "       [0.18788102],\n",
       "       [1.15189299],\n",
       "       [1.8585924 ],\n",
       "       [0.6371379 ],\n",
       "       [1.33482076],\n",
       "       [0.26359572],\n",
       "       [1.43265441],\n",
       "       [0.57881219],\n",
       "       [0.36638272],\n",
       "       [1.17302587],\n",
       "       [0.04021509],\n",
       "       [1.65788006],\n",
       "       [0.00939095]])"
      ]
     },
     "execution_count": 3,
     "metadata": {},
     "output_type": "execute_result"
    }
   ],
   "source": [
    "# `np.random.rand()` : 균일 분포의 정수 난수 1개 생성, 0~1사이의 값 중에서 모두 같은 확률로 한 값이 선택 된다. \n",
    "X = 2 * np.random.rand(100,1)\n",
    "X\n",
    "# 결과 0~2 사이값 나옴"
   ]
  },
  {
   "cell_type": "code",
   "execution_count": 4,
   "id": "c8d2a714-6812-4dde-a9ff-b0fa75ff96fd",
   "metadata": {},
   "outputs": [],
   "source": [
    "y = 6 + 4 * X +  np.random.randn(100,1)"
   ]
  },
  {
   "cell_type": "code",
   "execution_count": 5,
   "id": "5fc005fc-cc23-4154-b10e-abdb79ed4c70",
   "metadata": {},
   "outputs": [
    {
     "data": {
      "text/plain": [
       "<matplotlib.collections.PathCollection at 0x18f862b1c10>"
      ]
     },
     "execution_count": 5,
     "metadata": {},
     "output_type": "execute_result"
    },
    {
     "data": {
      "image/png": "[encoded data removed]",
      "text/plain": [
       "<Figure size 640x480 with 1 Axes>"
      ]
     },
     "metadata": {},
     "output_type": "display_data"
    }
   ],
   "source": [
    "plt.scatter(X,y)"
   ]
  },
  {
   "cell_type": "code",
   "execution_count": 6,
   "id": "bc6305af-70fe-4aa4-91c2-5741f136cd5a",
   "metadata": {},
   "outputs": [],
   "source": [
    "def get_weight_updates(w1,w0,X,y,learnin_rate=0.01):\n",
    "    N = len(y)\n",
    "    # w1과 같은걸 만들어서 넣어줘라?\n",
    "    w1_update = np.zeros_like(w1)\n",
    "    w0_update = np.zeros_like(w0)\n",
    "    y_pred = np.dot(X,w1.T)+w0\n",
    "    diff = y-y_pred\n",
    "    w0_factors = np.ones((N,1))\n",
    "    # 계산해야되는 만큼? 곱해줘야 돼서 learning_rate 곱함.\n",
    "    w1_update = -(2/N)*learnin_rate*(np.dot(X.T,diff))\n",
    "    w0_update = -(2/N)*learnin_rate*(np.dot(w0_factors.T,diff))\n",
    "    return w1_update,w0_update"
   ]
  },
  {
   "cell_type": "code",
   "execution_count": 7,
   "id": "07a06043-703a-4ec3-89ea-6f4bebe13fd4",
   "metadata": {},
   "outputs": [],
   "source": [
    "def gradient_descent_steps(X,y,iters=10000):\n",
    "    # 초기값 0으로 주고\n",
    "    w0 = np.zeros((1,1))\n",
    "    w1 = np.zeros((1,1))\n",
    "    # for문 돌려서\n",
    "    for ind in range(iters):\n",
    "        # 위에 함수 가져옴\n",
    "        w1_update,w0_update = get_weight_updates(w1,w0,X,y)\n",
    "        # 새로운 w1은 기존의 w1에서 빼준다\n",
    "        # 이렇게 조정한다.\n",
    "        w1 = w1 - w1_update\n",
    "        w0 = w0 - w0_update\n",
    "    return w1,w0"
   ]
  },
  {
   "cell_type": "code",
   "execution_count": 8,
   "id": "7bc35b3c-00b9-4b87-bc8b-d8dcc10907e6",
   "metadata": {},
   "outputs": [],
   "source": [
    "def get_cost(y,y_pred):\n",
    "    N = len(y)\n",
    "    cost = np.sum(np.square(y-y_pred))/N\n",
    "    return cost"
   ]
  },
  {
   "cell_type": "code",
   "execution_count": 9,
   "id": "b6a0f156-91b0-497a-8e88-3320a771b2d3",
   "metadata": {},
   "outputs": [],
   "source": [
    "w1,w0 = gradient_descent_steps(X,y,iters=1000)"
   ]
  },
  {
   "cell_type": "code",
   "execution_count": 10,
   "id": "f5f275ee-4fae-434f-a1bb-2ffb7a398227",
   "metadata": {},
   "outputs": [
    {
     "name": "stdout",
     "output_type": "stream",
     "text": [
      "[[4.02181364]] [[6.16203122]]\n"
     ]
    }
   ],
   "source": [
    "print(w1,w0)"
   ]
  },
  {
   "cell_type": "code",
   "execution_count": 11,
   "id": "ad7482d0-39ac-4d5b-a79b-e37b0f2c5693",
   "metadata": {},
   "outputs": [
    {
     "data": {
      "text/plain": [
       "0.9934784315632568"
      ]
     },
     "execution_count": 11,
     "metadata": {},
     "output_type": "execute_result"
    }
   ],
   "source": [
    "y_pred = w1[0,0]*X+w0\n",
    "get_cost(y,y_pred)"
   ]
  },
  {
   "cell_type": "code",
   "execution_count": null,
   "id": "8ff1d2a0-12e7-4e1b-b102-b5298381aef3",
   "metadata": {},
   "outputs": [],
   "source": []
  }
 ],
 "metadata": {
  "kernelspec": {
   "display_name": "Python 3 (ipykernel)",
   "language": "python",
   "name": "python3"
  },
  "language_info": {
   "codemirror_mode": {
    "name": "ipython",
    "version": 3
   },
   "file_extension": ".py",
   "mimetype": "text/x-python",
   "name": "python",
   "nbconvert_exporter": "python",
   "pygments_lexer": "ipython3",
   "version": "3.9.13"
  }
 },
 "nbformat": 4,
 "nbformat_minor": 5
}
