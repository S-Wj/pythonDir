{
 "cells": [
  {
   "cell_type": "code",
   "execution_count": 170,
   "id": "50c73c2f-7ef4-4434-a1ba-b2b3cc044d67",
   "metadata": {},
   "outputs": [
    {
     "name": "stdout",
     "output_type": "stream",
     "text": [
      "1번팀 : ['재훈', '종혁', '기현', '태성']\n",
      "2번팀 : ['준호', '현우', '동근', '원준']\n"
     ]
    }
   ],
   "source": [
    "import random\n",
    "f = list()\n",
    "s = list()\n",
    "j = dict()\n",
    "j['1'] = ['재훈', '준호']\n",
    "j['2'] = ['종혁', '현우'] \n",
    "j['3'] = ['기현', '동근', '태성', '원준']\n",
    "for i in j :\n",
    "    for _ in range(len(j[i])//2) :\n",
    "        a = random.randrange(0,len(j[i]))\n",
    "        f.append(j[i][a])\n",
    "        j[i].remove(j[i][a])\n",
    "    s.extend(j[i])\n",
    "print(f\"1번팀 : {f}\")\n",
    "print(f\"2번팀 : {s}\")"
   ]
  }
 ],
 "metadata": {
  "kernelspec": {
   "display_name": "Python 3 (ipykernel)",
   "language": "python",
   "name": "python3"
  },
  "language_info": {
   "codemirror_mode": {
    "name": "ipython",
    "version": 3
   },
   "file_extension": ".py",
   "mimetype": "text/x-python",
   "name": "python",
   "nbconvert_exporter": "python",
   "pygments_lexer": "ipython3",
   "version": "3.9.13"
  }
 },
 "nbformat": 4,
 "nbformat_minor": 5
}
