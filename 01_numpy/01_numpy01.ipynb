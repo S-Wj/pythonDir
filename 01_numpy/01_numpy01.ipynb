{
 "cells": [
  {
   "cell_type": "code",
   "execution_count": 1,
   "id": "245ba5a1-9c2e-4b06-9aff-fa6df9b11228",
   "metadata": {},
   "outputs": [],
   "source": [
    "# 넘파이 임포트\n",
    "import numpy as np"
   ]
  },
  {
   "cell_type": "code",
   "execution_count": 2,
   "id": "11e46640-2e2b-48a4-8cc2-3321f8c472e1",
   "metadata": {},
   "outputs": [
    {
     "data": {
      "text/plain": [
       "'1.21.5'"
      ]
     },
     "execution_count": 2,
     "metadata": {},
     "output_type": "execute_result"
    }
   ],
   "source": [
    "# 버전 조회\n",
    "np.__version__"
   ]
  },
  {
   "cell_type": "code",
   "execution_count": 3,
   "id": "6caac723-63fa-4239-95ea-c0bb1a630b13",
   "metadata": {},
   "outputs": [
    {
     "data": {
      "text/plain": [
       "array([0, 1, 2, 3, 4, 5])"
      ]
     },
     "execution_count": 3,
     "metadata": {},
     "output_type": "execute_result"
    }
   ],
   "source": [
    "# arange(:차례대로 숫자 생성) 변수 생성\n",
    "a = np.arange(6)\n",
    "a"
   ]
  },
  {
   "cell_type": "code",
   "execution_count": 4,
   "id": "2367788b-7c50-4ea5-8d99-90b1244e72cc",
   "metadata": {},
   "outputs": [
    {
     "data": {
      "text/plain": [
       "array([[0, 1, 2, 3, 4, 5]])"
      ]
     },
     "execution_count": 4,
     "metadata": {},
     "output_type": "execute_result"
    }
   ],
   "source": [
    "# .newaxis 로 새로운 차원에 배열 넣어줌\n",
    "a2 = a[np.newaxis,:]\n",
    "a2"
   ]
  },
  {
   "cell_type": "code",
   "execution_count": 5,
   "id": "2dbd8c67-b2f0-4306-adac-e4d188579779",
   "metadata": {},
   "outputs": [
    {
     "data": {
      "text/plain": [
       "(1, 6)"
      ]
     },
     "execution_count": 5,
     "metadata": {},
     "output_type": "execute_result"
    }
   ],
   "source": [
    "# shape으로 배열의 크기 확인 (몇 행의, 몇 열인지)\n",
    "a2.shape"
   ]
  },
  {
   "cell_type": "code",
   "execution_count": 6,
   "id": "4d484ff1-f611-48f0-8242-583dcdd3895a",
   "metadata": {},
   "outputs": [],
   "source": [
    "# `'1'` 대신 `1.` 넣으면 데이터 타입 float64\n",
    "a = np.array(['1',2,3,4,5,6])"
   ]
  },
  {
   "cell_type": "code",
   "execution_count": 7,
   "id": "38525575-6e1a-4ab8-9d8e-176ca8976464",
   "metadata": {},
   "outputs": [
    {
     "data": {
      "text/plain": [
       "dtype('<U11')"
      ]
     },
     "execution_count": 7,
     "metadata": {},
     "output_type": "execute_result"
    }
   ],
   "source": [
    "# 배열에 데이터 타입 확인\n",
    "a.dtype"
   ]
  },
  {
   "cell_type": "code",
   "execution_count": 8,
   "id": "6f3b170f-3d5b-4c25-9205-a76a0fa44f13",
   "metadata": {},
   "outputs": [
    {
     "data": {
      "text/plain": [
       "1"
      ]
     },
     "execution_count": 8,
     "metadata": {},
     "output_type": "execute_result"
    }
   ],
   "source": [
    "# 배열의 차원이 몇 차원인지 조회\n",
    "a.ndim"
   ]
  },
  {
   "cell_type": "code",
   "execution_count": 9,
   "id": "8544bf73-6d18-45c7-bb4d-c75d67b7b436",
   "metadata": {},
   "outputs": [
    {
     "data": {
      "text/plain": [
       "(6,)"
      ]
     },
     "execution_count": 9,
     "metadata": {},
     "output_type": "execute_result"
    }
   ],
   "source": [
    "a.shape"
   ]
  },
  {
   "cell_type": "code",
   "execution_count": 10,
   "id": "895ff439-e026-45bd-8653-1dd8a5e7baa2",
   "metadata": {},
   "outputs": [],
   "source": [
    "a = np.array([[1,2,3,4], [5,6,7,8], [9,10,11,12]])"
   ]
  },
  {
   "cell_type": "code",
   "execution_count": 11,
   "id": "166ba65c-7623-4994-a1bc-a4d2d4814ea0",
   "metadata": {},
   "outputs": [
    {
     "data": {
      "text/plain": [
       "2"
      ]
     },
     "execution_count": 11,
     "metadata": {},
     "output_type": "execute_result"
    }
   ],
   "source": [
    "a.ndim"
   ]
  },
  {
   "cell_type": "code",
   "execution_count": 12,
   "id": "8c000066-2732-4066-8458-af0e6947bede",
   "metadata": {},
   "outputs": [
    {
     "data": {
      "text/plain": [
       "(3, 4)"
      ]
     },
     "execution_count": 12,
     "metadata": {},
     "output_type": "execute_result"
    }
   ],
   "source": [
    "a.shape"
   ]
  },
  {
   "cell_type": "code",
   "execution_count": 13,
   "id": "fca20a25-f9aa-4031-b5fb-729ef3a6a8b5",
   "metadata": {},
   "outputs": [
    {
     "data": {
      "text/plain": [
       "array([[ 1,  2,  3,  4],\n",
       "       [ 5,  6,  7,  8],\n",
       "       [ 9, 10, 11, 12]])"
      ]
     },
     "execution_count": 13,
     "metadata": {},
     "output_type": "execute_result"
    }
   ],
   "source": [
    "# 어레이 자체를 호출\n",
    "a"
   ]
  },
  {
   "cell_type": "code",
   "execution_count": 14,
   "id": "174460cd-242e-46e9-9f91-f21de238c5cc",
   "metadata": {},
   "outputs": [
    {
     "name": "stdout",
     "output_type": "stream",
     "text": [
      "[[ 1  2  3  4]\n",
      " [ 5  6  7  8]\n",
      " [ 9 10 11 12]]\n"
     ]
    }
   ],
   "source": [
    "# array 내부 내용 출력\n",
    "print(a)"
   ]
  },
  {
   "cell_type": "code",
   "execution_count": 15,
   "id": "f5af7e20-6445-4eaf-8128-028d785ccb4d",
   "metadata": {},
   "outputs": [
    {
     "data": {
      "text/plain": [
       "array([1, 2, 3, 4])"
      ]
     },
     "execution_count": 15,
     "metadata": {},
     "output_type": "execute_result"
    }
   ],
   "source": [
    "# a 어레이의 0번째 인덱스 값\n",
    "a[0]"
   ]
  },
  {
   "cell_type": "code",
   "execution_count": 16,
   "id": "77d1eca1-ae53-4fba-8853-41935875608c",
   "metadata": {},
   "outputs": [
    {
     "data": {
      "text/plain": [
       "4"
      ]
     },
     "execution_count": 16,
     "metadata": {},
     "output_type": "execute_result"
    }
   ],
   "source": [
    "# 1행 4열의 값\n",
    "a[0,3]"
   ]
  },
  {
   "cell_type": "code",
   "execution_count": 17,
   "id": "b82119f0-a523-45a9-997b-8011f155a7c9",
   "metadata": {},
   "outputs": [
    {
     "data": {
      "text/plain": [
       "array([ 4,  8, 12])"
      ]
     },
     "execution_count": 17,
     "metadata": {},
     "output_type": "execute_result"
    }
   ],
   "source": [
    "# 모든 행의 4열값 전부 호출\n",
    "a[:,3]"
   ]
  },
  {
   "cell_type": "code",
   "execution_count": 18,
   "id": "304ed76a-6d9e-4b44-8e95-f587d83b1d72",
   "metadata": {},
   "outputs": [
    {
     "data": {
      "text/plain": [
       "array([[[1, 2],\n",
       "        [3, 4],\n",
       "        [5, 6]],\n",
       "\n",
       "       [[1, 2],\n",
       "        [3, 4],\n",
       "        [5, 6]]])"
      ]
     },
     "execution_count": 18,
     "metadata": {},
     "output_type": "execute_result"
    }
   ],
   "source": [
    "np.array([[[1,2],[3,4],[5,6]],[[1,2],[3,4],[5,6]]])"
   ]
  },
  {
   "cell_type": "code",
   "execution_count": 19,
   "id": "5ab592e9-f492-4cfe-b478-5e4905909ec6",
   "metadata": {},
   "outputs": [
    {
     "data": {
      "text/plain": [
       "array([[0, 0, 0],\n",
       "       [0, 0, 0]], dtype=int8)"
      ]
     },
     "execution_count": 19,
     "metadata": {},
     "output_type": "execute_result"
    }
   ],
   "source": [
    "# int8, 16, 32, 64 다른것들도 있다.\n",
    "# np.zeros 를 사용해서 배열 만들면 내용물 `0`이 들어간 배열 생성해준다.\n",
    "# 0으로 가득찬 array를 생성\n",
    "# zeros는 메모리를 할당받아 0으로 초기화한 뒤에 반환하지만,\n",
    "# empty는 메모리 할당만 받고 초기화 없이 반환한다.\n",
    "np.zeros((2,3),dtype=np.int8)"
   ]
  },
  {
   "cell_type": "code",
   "execution_count": 20,
   "id": "77a625f3-35e5-4013-b6c5-f85a14e152b9",
   "metadata": {},
   "outputs": [
    {
     "data": {
      "text/plain": [
       "array([[1., 1., 1.],\n",
       "       [1., 1., 1.]])"
      ]
     },
     "execution_count": 20,
     "metadata": {},
     "output_type": "execute_result"
    }
   ],
   "source": [
    "# np.ones 를 사용해서 배열 만들면 내용물 `1.`이 들어간 배열 생성해준다.\n",
    "# 1로 가득찬 array를 생성\n",
    "np.ones((2,3))"
   ]
  },
  {
   "cell_type": "code",
   "execution_count": 21,
   "id": "cd34887c-7f5d-4920-91da-3284b4f8f3c8",
   "metadata": {},
   "outputs": [
    {
     "data": {
      "text/plain": [
       "array([[1., 1., 1.],\n",
       "       [1., 1., 1.]])"
      ]
     },
     "execution_count": 21,
     "metadata": {},
     "output_type": "execute_result"
    }
   ],
   "source": [
    "# np.empty 를 사용해서 배열 만들면 내용물 `0.`이 들어간 배열 생성해준다.\n",
    "# empty는 초기화되지 않은 값으로 zeros나 ones와 마찬가지로 배열을 생성해줍니다.\n",
    "# 주의해야 할 것은 메모리도 초기화되지 않기 때문에 예상하지 못한 쓰레기 값이 들어가 있습니다.\n",
    "np.empty((2,3))"
   ]
  },
  {
   "cell_type": "code",
   "execution_count": 22,
   "id": "d2f86bbc-1eee-41c5-9ebe-f9a7453320b1",
   "metadata": {},
   "outputs": [
    {
     "data": {
      "text/plain": [
       "array([0, 1, 2, 3, 4, 5])"
      ]
     },
     "execution_count": 22,
     "metadata": {},
     "output_type": "execute_result"
    }
   ],
   "source": [
    "np.arange(6)"
   ]
  },
  {
   "cell_type": "code",
   "execution_count": 23,
   "id": "a91fb793-ca46-4b7c-ae48-4427479b3c00",
   "metadata": {},
   "outputs": [
    {
     "data": {
      "text/plain": [
       "array([ 0. ,  2.5,  5. ,  7.5, 10. ])"
      ]
     },
     "execution_count": 23,
     "metadata": {},
     "output_type": "execute_result"
    }
   ],
   "source": [
    "# `linspace(0,10,5)` : 0과 10까지의 중간값을 포함한, 총 5개의 데이터 넣은 배열 생성\n",
    "# `linspace( , , )` 구간 시작점, 구간 끝점, 구간 내 숫자 개수 3가지를 순서대로 채워주시면 됩니다.\n",
    "np.linspace(0,10,5)"
   ]
  },
  {
   "cell_type": "code",
   "execution_count": 24,
   "id": "18f1e766-2194-43ee-88cc-1c7a337e0b60",
   "metadata": {},
   "outputs": [],
   "source": [
    "arr = np.array([2, 1, 5, 3, 7, 4, 6, 8])"
   ]
  },
  {
   "cell_type": "code",
   "execution_count": 25,
   "id": "a30dbd0e-e754-4af9-bc5c-1be893e7f165",
   "metadata": {},
   "outputs": [
    {
     "data": {
      "text/plain": [
       "array([8, 7, 6, 5, 4, 3, 2, 1])"
      ]
     },
     "execution_count": 25,
     "metadata": {},
     "output_type": "execute_result"
    }
   ],
   "source": [
    "# sort 문법으로 순서 정렬해줌 인덱스 번호 -1로 음수부터 넣으면 순서 반대로 정렬됨.\n",
    "np.sort(arr)[::-1]"
   ]
  },
  {
   "cell_type": "code",
   "execution_count": 26,
   "id": "f9789588-9a07-4b9f-9dfa-71a3b028086f",
   "metadata": {},
   "outputs": [
    {
     "data": {
      "text/plain": [
       "array([[1, 4],\n",
       "       [3, 1]])"
      ]
     },
     "execution_count": 26,
     "metadata": {},
     "output_type": "execute_result"
    }
   ],
   "source": [
    "a = np.array([[1,4],[3,1]])\n",
    "a"
   ]
  },
  {
   "cell_type": "code",
   "execution_count": 27,
   "id": "956f869e-0043-49e3-8586-494c1efea15b",
   "metadata": {},
   "outputs": [
    {
     "data": {
      "text/plain": [
       "array([[1, 4],\n",
       "       [1, 3]])"
      ]
     },
     "execution_count": 27,
     "metadata": {},
     "output_type": "execute_result"
    }
   ],
   "source": [
    "# 정렬하면 list 안에 데이터 이렇게 만들어줌\n",
    "# axis=1 이면 열 기준으로 정렬해줌 (오른쪽 방향)\n",
    "np.sort(a,axis=1)"
   ]
  },
  {
   "cell_type": "code",
   "execution_count": 28,
   "id": "211dd2a9-cb17-4292-ad81-611c3fa1f80a",
   "metadata": {},
   "outputs": [
    {
     "data": {
      "text/plain": [
       "array([[1, 1],\n",
       "       [3, 4]])"
      ]
     },
     "execution_count": 28,
     "metadata": {},
     "output_type": "execute_result"
    }
   ],
   "source": [
    "# axis=0 이면 행 기준으로 정렬해줌 (아래 방향)\n",
    "np.sort(a,axis=0)"
   ]
  },
  {
   "cell_type": "code",
   "execution_count": 29,
   "id": "e6486df9-7735-41cf-af66-5ed104b1b2ef",
   "metadata": {},
   "outputs": [],
   "source": [
    "x = np.array([3, 1, 2])"
   ]
  },
  {
   "cell_type": "code",
   "execution_count": 30,
   "id": "fe0530f6-4b18-4f67-8142-7007d65b7523",
   "metadata": {},
   "outputs": [
    {
     "data": {
      "text/plain": [
       "array([1, 2, 0], dtype=int64)"
      ]
     },
     "execution_count": 30,
     "metadata": {},
     "output_type": "execute_result"
    }
   ],
   "source": [
    "# 어레이 데이터를 순서 정렬했을 때의 인덱스 값을 알려줌\n",
    "# argsort()는 아래와 같이 정렬되기 전의 인덱스를 리스트 형태로 반환합니다.\n",
    "# 이를 이용해 데이터베이스에서 가져온 서로 다른 테이블의 값을 정렬할 수 있습니다.\n",
    "np.argsort(x)"
   ]
  },
  {
   "cell_type": "code",
   "execution_count": 31,
   "id": "934fd70c-3bff-4440-bb75-c9729e8170fe",
   "metadata": {},
   "outputs": [
    {
     "data": {
      "text/plain": [
       "0"
      ]
     },
     "execution_count": 31,
     "metadata": {},
     "output_type": "execute_result"
    }
   ],
   "source": [
    "# 제일 큰 값의 인덱스를 출력해라\n",
    "# : [2] 인덱스\n",
    "np.argmax(x)"
   ]
  },
  {
   "cell_type": "code",
   "execution_count": 32,
   "id": "c555b28a-0225-4cc1-886c-b2ccaad98ca4",
   "metadata": {},
   "outputs": [],
   "source": [
    "x = np.array([[0, 3], [2, 2]])"
   ]
  },
  {
   "cell_type": "code",
   "execution_count": 33,
   "id": "0a1a5139-c151-4204-8732-fd893c8316b9",
   "metadata": {},
   "outputs": [
    {
     "data": {
      "text/plain": [
       "array([[0, 3],\n",
       "       [2, 2]])"
      ]
     },
     "execution_count": 33,
     "metadata": {},
     "output_type": "execute_result"
    }
   ],
   "source": [
    "x"
   ]
  },
  {
   "cell_type": "code",
   "execution_count": 34,
   "id": "a01962c2-8fc7-4f21-ba96-7433e4c0cc65",
   "metadata": {},
   "outputs": [
    {
     "data": {
      "text/plain": [
       "array([[0, 1],\n",
       "       [0, 1]], dtype=int64)"
      ]
     },
     "execution_count": 34,
     "metadata": {},
     "output_type": "execute_result"
    }
   ],
   "source": [
    "# `argsort` 는 어레이 x를 정렬하는 인덱스의 어레이를 반환\n",
    "# axis=-1 이 기본값임\n",
    "np.argsort(x, axis=-1)"
   ]
  },
  {
   "cell_type": "code",
   "execution_count": 35,
   "id": "d6ced81d-1443-43c9-94a8-6df7184a486f",
   "metadata": {},
   "outputs": [
    {
     "data": {
      "text/plain": [
       "array([[0, 1],\n",
       "       [0, 1]], dtype=int64)"
      ]
     },
     "execution_count": 35,
     "metadata": {},
     "output_type": "execute_result"
    }
   ],
   "source": [
    "np.argsort(x, axis=1)\n",
    "# axis=-1 때와 같음"
   ]
  },
  {
   "cell_type": "code",
   "execution_count": 36,
   "id": "9da9cfc4-70fb-49ee-9da1-609a53d51da3",
   "metadata": {},
   "outputs": [
    {
     "data": {
      "text/plain": [
       "array([[0, 1],\n",
       "       [1, 0]], dtype=int64)"
      ]
     },
     "execution_count": 36,
     "metadata": {},
     "output_type": "execute_result"
    }
   ],
   "source": [
    "np.argsort(x, axis=0)"
   ]
  },
  {
   "cell_type": "code",
   "execution_count": 37,
   "id": "abf3cb57-1197-47f4-85dd-e4547fb8a016",
   "metadata": {},
   "outputs": [],
   "source": [
    "# 3차원 행렬에서는!\n",
    "a = np.array([[[1, 2, 3, 4]]])\n",
    "b = np.array([[[5, 6, 7, 8]]])"
   ]
  },
  {
   "cell_type": "code",
   "execution_count": 38,
   "id": "108b995d-bb05-421b-aed7-dccd788e9ed6",
   "metadata": {},
   "outputs": [
    {
     "data": {
      "text/plain": [
       "array([[[1, 2, 3, 4]],\n",
       "\n",
       "       [[5, 6, 7, 8]]])"
      ]
     },
     "execution_count": 38,
     "metadata": {},
     "output_type": "execute_result"
    }
   ],
   "source": [
    "# concatenate : 합치기\n",
    "# axis=0이 기본값\n",
    "np.concatenate((a,b),axis=0)"
   ]
  },
  {
   "cell_type": "code",
   "execution_count": 39,
   "id": "43bda435-f462-40dc-850f-ef4bdf813bc7",
   "metadata": {},
   "outputs": [
    {
     "data": {
      "text/plain": [
       "array([[[1, 2, 3, 4],\n",
       "        [5, 6, 7, 8]]])"
      ]
     },
     "execution_count": 39,
     "metadata": {},
     "output_type": "execute_result"
    }
   ],
   "source": [
    "np.concatenate((a,b),axis=1)"
   ]
  },
  {
   "cell_type": "code",
   "execution_count": 40,
   "id": "3207a95e-16a8-4d92-b945-e99beb9f1ba5",
   "metadata": {},
   "outputs": [
    {
     "data": {
      "text/plain": [
       "array([[[1, 2, 3, 4, 5, 6, 7, 8]]])"
      ]
     },
     "execution_count": 40,
     "metadata": {},
     "output_type": "execute_result"
    }
   ],
   "source": [
    "np.concatenate((a,b),axis=2)"
   ]
  },
  {
   "cell_type": "code",
   "execution_count": 41,
   "id": "8c63fee5-2c9e-4198-8739-895596138f95",
   "metadata": {},
   "outputs": [
    {
     "data": {
      "text/plain": [
       "3"
      ]
     },
     "execution_count": 41,
     "metadata": {},
     "output_type": "execute_result"
    }
   ],
   "source": [
    "a.ndim"
   ]
  },
  {
   "cell_type": "code",
   "execution_count": 42,
   "id": "9234cfd1-8b8d-4d72-b958-c799305d2749",
   "metadata": {},
   "outputs": [
    {
     "data": {
      "text/plain": [
       "(1, 1, 4)"
      ]
     },
     "execution_count": 42,
     "metadata": {},
     "output_type": "execute_result"
    }
   ],
   "source": [
    "a.shape\n",
    "# 3차원 배열에서 1행, 4열짜리가 하나있음."
   ]
  },
  {
   "cell_type": "code",
   "execution_count": 43,
   "id": "b14efeff-d4fd-445f-baa3-011e6643b525",
   "metadata": {},
   "outputs": [
    {
     "data": {
      "text/plain": [
       "4"
      ]
     },
     "execution_count": 43,
     "metadata": {},
     "output_type": "execute_result"
    }
   ],
   "source": [
    "a.size"
   ]
  },
  {
   "cell_type": "code",
   "execution_count": 44,
   "id": "70b90a99-1d30-46dc-8065-60c05315c8ab",
   "metadata": {},
   "outputs": [
    {
     "name": "stdout",
     "output_type": "stream",
     "text": [
      "[0 1 2 3 4 5]\n"
     ]
    }
   ],
   "source": [
    "a = np.arange(6)\n",
    "print(a)"
   ]
  },
  {
   "cell_type": "code",
   "execution_count": 45,
   "id": "ab69e8f0-de4e-4154-a894-39d494b192ab",
   "metadata": {},
   "outputs": [
    {
     "data": {
      "text/plain": [
       "array([[0, 1],\n",
       "       [2, 3],\n",
       "       [4, 5]])"
      ]
     },
     "execution_count": 45,
     "metadata": {},
     "output_type": "execute_result"
    }
   ],
   "source": [
    "# np.reshape(변경할 배열, 차원) 또는 배열.reshape(차원)으로 사용 할 수 있으며, \n",
    "# 현재의 배열의 차원(1차원,2차원,3차원)을 변경하여 행렬을 반환하거나 하는 경우에 많이 이용되는 함수이다\n",
    "a.reshape(3,2)"
   ]
  },
  {
   "cell_type": "code",
   "execution_count": 46,
   "id": "d9ba164d-9256-4c2f-a5cf-9105af75c565",
   "metadata": {},
   "outputs": [
    {
     "ename": "ValueError",
     "evalue": "cannot reshape array of size 6 into shape (2,2)",
     "output_type": "error",
     "traceback": [
      "\u001b[1;31m---------------------------------------------------------------------------\u001b[0m",
      "\u001b[1;31mValueError\u001b[0m                                Traceback (most recent call last)",
      "\u001b[1;32m~\\AppData\\Local\\Temp\\ipykernel_17032\\3658857580.py\u001b[0m in \u001b[0;36m<module>\u001b[1;34m\u001b[0m\n\u001b[1;32m----> 1\u001b[1;33m \u001b[0ma\u001b[0m\u001b[1;33m.\u001b[0m\u001b[0mreshape\u001b[0m\u001b[1;33m(\u001b[0m\u001b[1;36m2\u001b[0m\u001b[1;33m,\u001b[0m\u001b[1;36m2\u001b[0m\u001b[1;33m)\u001b[0m\u001b[1;33m\u001b[0m\u001b[1;33m\u001b[0m\u001b[0m\n\u001b[0m\u001b[0;32m      2\u001b[0m \u001b[1;31m# 이때는 크기가 안맞게 모양 잡아달라고 해서 오류 나는게 맞음\u001b[0m\u001b[1;33m\u001b[0m\u001b[1;33m\u001b[0m\u001b[0m\n",
      "\u001b[1;31mValueError\u001b[0m: cannot reshape array of size 6 into shape (2,2)"
     ]
    }
   ],
   "source": [
    "a.reshape(2,2)\n",
    "# 이때는 크기가 안맞게 모양 잡아달라고 해서 오류 나는게 맞음"
   ]
  },
  {
   "cell_type": "code",
   "execution_count": 51,
   "id": "9da56f1f-f8fa-442d-a6c3-27e2ca51a19b",
   "metadata": {},
   "outputs": [
    {
     "data": {
      "text/plain": [
       "array([[1, 2, 3],\n",
       "       [4, 5, 6]])"
      ]
     },
     "execution_count": 51,
     "metadata": {},
     "output_type": "execute_result"
    }
   ],
   "source": [
    "# 이 reshape 으로 차원 모양을 바꿔서 활용함\n",
    "# 모양 바꿀 땐 구조에 맞출 크키가 모자라거나 남으면 안된다.\n",
    "np.reshape(a,(2,3))"
   ]
  },
  {
   "cell_type": "code",
   "execution_count": 50,
   "id": "910ed9e0-95f1-4108-8a9c-3b39ae473110",
   "metadata": {},
   "outputs": [],
   "source": [
    "a = np.array([1, 2, 3, 4, 5, 6])"
   ]
  },
  {
   "cell_type": "code",
   "execution_count": null,
   "id": "66a92dc8-aad8-43e4-b3d3-2aa45ffd3ad4",
   "metadata": {},
   "outputs": [],
   "source": [
    "a.shape"
   ]
  },
  {
   "cell_type": "code",
   "execution_count": null,
   "id": "6f8f83b1-b0fd-4dd8-8670-db259fe2467b",
   "metadata": {},
   "outputs": [],
   "source": [
    "# `:` : 처음부터 끝까지 쓰겠단 뜻\n",
    "a2 = a[np.newaxis,:]\n",
    "a2"
   ]
  },
  {
   "cell_type": "code",
   "execution_count": null,
   "id": "e0031de0-7dd1-448e-9ed2-49ee43211c8d",
   "metadata": {},
   "outputs": [],
   "source": [
    "a2.shape"
   ]
  },
  {
   "cell_type": "code",
   "execution_count": null,
   "id": "5fc3893f-7627-4dc4-97a8-6c07f4adb3e1",
   "metadata": {},
   "outputs": [],
   "source": [
    "a3 = a[:,np.newaxis]"
   ]
  },
  {
   "cell_type": "code",
   "execution_count": null,
   "id": "14855a06-43f7-4720-be01-d5c43d15a05b",
   "metadata": {},
   "outputs": [],
   "source": [
    "a3"
   ]
  },
  {
   "cell_type": "code",
   "execution_count": null,
   "id": "07666cdf-393c-4b60-83b2-5b815e9fbf0f",
   "metadata": {},
   "outputs": [],
   "source": [
    "a3.shape"
   ]
  },
  {
   "cell_type": "code",
   "execution_count": null,
   "id": "6f26e9d6-d770-48f5-b032-ad37d9fcbe84",
   "metadata": {},
   "outputs": [],
   "source": [
    "a"
   ]
  },
  {
   "cell_type": "code",
   "execution_count": null,
   "id": "121953e1-b5fb-499c-8887-84857371a686",
   "metadata": {},
   "outputs": [],
   "source": [
    "# 이럴땐 행으로 확장 됨\n",
    "b = np.expand_dims(a,axis=0)"
   ]
  },
  {
   "cell_type": "code",
   "execution_count": null,
   "id": "1de51ac0-7edb-4670-ad1c-213870677d08",
   "metadata": {},
   "outputs": [],
   "source": [
    "b"
   ]
  },
  {
   "cell_type": "code",
   "execution_count": null,
   "id": "5a0839ab-c37e-482d-b667-bff39d28678b",
   "metadata": {},
   "outputs": [],
   "source": [
    "aa = a3.reshape((3,2))\n",
    "aa"
   ]
  },
  {
   "cell_type": "code",
   "execution_count": null,
   "id": "58e8c288-86e9-4224-9725-0aebc62073d3",
   "metadata": {},
   "outputs": [],
   "source": [
    "a4 = np.expand_dims(aa,axis=0)\n",
    "a4.shape"
   ]
  },
  {
   "cell_type": "code",
   "execution_count": null,
   "id": "af4af87b-b977-467b-8615-ecd7e8ced771",
   "metadata": {},
   "outputs": [],
   "source": [
    "a4 = np.expand_dims(aa,axis=1)\n",
    "a4.shape"
   ]
  },
  {
   "cell_type": "code",
   "execution_count": null,
   "id": "b135fa78-3347-49db-a829-713c0e90d14f",
   "metadata": {},
   "outputs": [],
   "source": [
    "a4 = np.expand_dims(aa,axis=2)\n",
    "a4.shape"
   ]
  },
  {
   "cell_type": "code",
   "execution_count": null,
   "id": "e2c8e494-da87-4ad3-9714-75a96cfcf8be",
   "metadata": {},
   "outputs": [],
   "source": [
    "a4 = np.expand_dims(aa,axis=3)\n",
    "a4.shape\n",
    "# 3차원이 최대라서 axis 지정 가능한 범위 초과해서 오류나는게 정상"
   ]
  },
  {
   "cell_type": "code",
   "execution_count": null,
   "id": "97a5f113-5d03-4d37-b249-ba17c2580959",
   "metadata": {},
   "outputs": [],
   "source": [
    "a = np.array([[1 , 2, 3, 4], [5, 6, 7, 8], [9, 10, 11, 12]])"
   ]
  },
  {
   "cell_type": "code",
   "execution_count": null,
   "id": "9f9fa032-2cf0-4455-895c-09b1e448910c",
   "metadata": {},
   "outputs": [],
   "source": [
    "a"
   ]
  },
  {
   "cell_type": "code",
   "execution_count": null,
   "id": "9bd0327b-df55-4672-96b1-e85b17284b9f",
   "metadata": {},
   "outputs": [],
   "source": [
    "a.ndim"
   ]
  },
  {
   "cell_type": "code",
   "execution_count": null,
   "id": "ec1e4f74-f1c4-477b-aa13-f608d67442da",
   "metadata": {},
   "outputs": [],
   "source": [
    "a.shape"
   ]
  },
  {
   "cell_type": "code",
   "execution_count": null,
   "id": "8efd47ab-511a-4914-bbb1-152b3a89e38a",
   "metadata": {},
   "outputs": [],
   "source": [
    "a[a>=5]"
   ]
  },
  {
   "cell_type": "code",
   "execution_count": null,
   "id": "ccdf565b-e8d8-4fad-ade4-eb276a2b578a",
   "metadata": {},
   "outputs": [],
   "source": [
    "a[a%2==0]"
   ]
  },
  {
   "cell_type": "code",
   "execution_count": null,
   "id": "c1490ff2-cc2e-41c0-9a3f-772e10cb372a",
   "metadata": {},
   "outputs": [],
   "source": [
    "# 이렇게 비교연산자를 함께 쓸 때는 괄호로 우선순위 맞춰줘야함.\n",
    "a[(a>2) & (a<11)]"
   ]
  },
  {
   "cell_type": "code",
   "execution_count": null,
   "id": "94d7f16c-99db-4d29-9141-88761a8fe9a6",
   "metadata": {},
   "outputs": [],
   "source": [
    "# or 연산자\n",
    "a[(a>5)|(a==5)]"
   ]
  },
  {
   "cell_type": "code",
   "execution_count": null,
   "id": "c61d514c-80ae-437e-bcad-e3c3f3d4ff1f",
   "metadata": {},
   "outputs": [],
   "source": [
    "# .nonzero 함수는 0이 아닌 요소의 인덱스를 얻을 수 있는 심플한 함수이다\n",
    "# 이 함수를 통해 반환되는 것은 각 축마다 0아 이닌 요소의 인덱스를 1차원 배열이다.\n",
    "# 조건을 넣으면 조건에 맞는 행렬값을 리턴 함\n",
    "b = np.nonzero(a<5)\n",
    "b\n",
    "#  (*여기는 행값 : array([0, 0, 0, 0], dtype=int64), * 여기는 열 값 : array([0, 1, 2, 3], dtype=int64))"
   ]
  },
  {
   "cell_type": "code",
   "execution_count": null,
   "id": "fe77af08-4926-4f6f-b5fd-77c0b128d5c6",
   "metadata": {},
   "outputs": [],
   "source": [
    "# zip() : 두 그룹의 데이터를 서로 엮어주는 파이썬의 내장 함수\n",
    "# 이렇게 list랑 같이 쓴다.\n",
    "list(zip(b[0],b[1]))"
   ]
  },
  {
   "cell_type": "code",
   "execution_count": null,
   "id": "15c9b43f-180e-4328-8a02-9e75cc86c046",
   "metadata": {},
   "outputs": [],
   "source": [
    "a = np.array([1,  2,  3,  4,  5,  6,  7,  8,  9, 10])"
   ]
  },
  {
   "cell_type": "code",
   "execution_count": null,
   "id": "d7227d54-5457-416d-9d1d-c0f807c93030",
   "metadata": {},
   "outputs": [],
   "source": [
    "arr1 = a[3:8]"
   ]
  },
  {
   "cell_type": "code",
   "execution_count": null,
   "id": "94da3c39-d2f4-40ba-b030-e5089150b0d2",
   "metadata": {},
   "outputs": [],
   "source": [
    "a"
   ]
  },
  {
   "cell_type": "code",
   "execution_count": null,
   "id": "031fb2b2-7ead-4f50-9887-998aae2f5b95",
   "metadata": {},
   "outputs": [],
   "source": [
    "arr1\n",
    "# array가 arr1의 인덱스 값을 참고해서 보여주는거임"
   ]
  },
  {
   "cell_type": "code",
   "execution_count": null,
   "id": "bfc05792-b8cb-47a1-b2b3-b8e94ead9a8d",
   "metadata": {},
   "outputs": [],
   "source": [
    "arr1[0]=14\n",
    "#그래서 이렇게 array 에서 인덱스 지정해서 값을 바꾸면"
   ]
  },
  {
   "cell_type": "code",
   "execution_count": null,
   "id": "049df866-a94c-4f47-b05e-bcd458ff3aec",
   "metadata": {},
   "outputs": [],
   "source": [
    "a\n",
    "# a 안에 데이터도 바뀌는 걸 볼 수 있음."
   ]
  },
  {
   "cell_type": "code",
   "execution_count": null,
   "id": "a654ad1d-2605-4f11-9757-076cf43318c4",
   "metadata": {},
   "outputs": [],
   "source": [
    "arr1"
   ]
  },
  {
   "cell_type": "code",
   "execution_count": null,
   "id": "86b0052b-83ee-43ab-bddb-1c8225a49acb",
   "metadata": {},
   "outputs": [],
   "source": [
    "a1 = np.array([[1, 1],\n",
    "               [2, 2]])\n",
    "a2 = np.array([[3, 3],\n",
    "               [4, 4]])"
   ]
  },
  {
   "cell_type": "markdown",
   "id": "36659e40-74c3-4c79-9266-d573ef08ad4c",
   "metadata": {},
   "source": [
    "- np.concatenate 함수를 통해서도 두 개의 배열을 붙일 수 있다.\n",
    "위와 같이 axis=1로 concatenate을 할 경우 열을 추가하는 동작을 하고,\n",
    "axis=0으로 concatenate을 할 경우 행을 추가하게 된다.\n",
    "hstack/vstack과 동일하게\n",
    "여기서도 마찬가지로 추가할 때의 row/col의 개수가 맞아야지 추가할 수 있다.\n",
    "\n",
    "- hstack은 horizontal stack의 약자로 두 개의 배열을 좌우로 붙여주는 함수이다.\n",
    "좌우로 붙여야하기 때문에 row의 개수는 동일해야 한다.\n",
    "\n",
    "- vstack은 vertical stack의 약자로 두 개의 배열을 위아래로 붙여주는 함수이다.\n",
    "위아래로 붙여야하기 때문에 col의 개수는 동일해야 한다.\n"
   ]
  },
  {
   "cell_type": "code",
   "execution_count": null,
   "id": "419c9b7b-fbe0-40c0-aafe-5324aad0530e",
   "metadata": {},
   "outputs": [],
   "source": [
    "np.concatenate((a1,a2),axis=0)"
   ]
  },
  {
   "cell_type": "code",
   "execution_count": null,
   "id": "3cfcf520-7f90-404b-b470-4f003eace24b",
   "metadata": {},
   "outputs": [],
   "source": [
    "np.concatenate((a1,a2),axis=1)"
   ]
  },
  {
   "cell_type": "code",
   "execution_count": null,
   "id": "c028c5da-9393-4bdf-a911-ed5ca6287868",
   "metadata": {},
   "outputs": [],
   "source": [
    "np.vstack((a1,a2))"
   ]
  },
  {
   "cell_type": "code",
   "execution_count": null,
   "id": "1bce9a59-00d3-4204-8974-db177c69e8e0",
   "metadata": {},
   "outputs": [],
   "source": [
    "np.hstack((a1,a2))\n",
    "# [3,2] 배열 추가해서 여기선 오류나는게 정상"
   ]
  },
  {
   "cell_type": "code",
   "execution_count": null,
   "id": "96d4ad53-e61b-43d1-aec3-69cd0e53499f",
   "metadata": {},
   "outputs": [],
   "source": [
    "x = np.arange(1, 25).reshape(2, 12)\n",
    "x"
   ]
  },
  {
   "cell_type": "markdown",
   "id": "c10305d5-e178-48dc-9fd6-a9d3bcf14360",
   "metadata": {},
   "source": [
    "- np.split(ary, indices_or_sections, axis=0)\n",
    "\"ary\" : 넘파이 객체로 쪼갤 배열입니다.\n",
    "\n",
    "\"indices_or_sections\" : 만약 이 인수가 정수형 N이라면 쪼개지는 배열이 N개의 동일한 값을 가집니다. 만약, 나누는 것이 불가능하다면 오류가 발생합니다. 만약, 이 인수가 정렬된 1차원 배열이라면 배열의 요소값을 기준으로 값을 나눕니다.\n",
    "\n",
    "\"axis\" : 나눌 방향을 의미합니다.\n",
    "\n",
    "indices_or_sections에 배열로 넣을 때는 어떤 인덱스를 기준으로 쪼갤것인지를 생각하시면 됩니다.\n",
    "따라서 `np.hsplit(x, (3, 4))`는 3번, 4번 인덱스에서 끊어서 각각 배열 만들어줌.\n",
    "\n",
    "- np.hsplit(ary, indices_or_sections)\n",
    " 이 함수는 split 함수를 axis=1 방향으로 쪼개는 것\n",
    " \n",
    "- np.vsplit(ary, indices_or_sections)\n",
    " 이 함수는 split 함수를 axis=0 방향으로 쪼개는 것\n",
    " \n",
    "- np.dsplit(ary, indices_or_sections)\n",
    " 이 함수는 다른 함수들과는 다르게 3차원 이상의 배열이 반드시 들어가야합니다. 즉, axis=2 방향으로 쪼개는 함수"
   ]
  },
  {
   "cell_type": "code",
   "execution_count": null,
   "id": "d0152664-7815-4dea-87f2-646ce094563f",
   "metadata": {},
   "outputs": [],
   "source": [
    "np.hsplit(x, 3)"
   ]
  },
  {
   "cell_type": "code",
   "execution_count": null,
   "id": "a2d05bac-fe4a-402b-b9fb-fe0e93189423",
   "metadata": {},
   "outputs": [],
   "source": [
    "np.hsplit(x, (3, 4))"
   ]
  },
  {
   "cell_type": "code",
   "execution_count": null,
   "id": "6aff06cf-d133-48f1-8d36-c02122a18748",
   "metadata": {},
   "outputs": [],
   "source": [
    "a = np.array([[1, 2, 3, 4], [5, 6, 7, 8], [9, 10, 11, 12]])"
   ]
  },
  {
   "cell_type": "code",
   "execution_count": null,
   "id": "9c7491ee-af4c-4df2-bca5-cfb29f66499b",
   "metadata": {},
   "outputs": [],
   "source": [
    "b1 = a[0, :]\n",
    "b1\n",
    "\n",
    "b1[0] = 99\n",
    "b1\n",
    "\n",
    "a"
   ]
  },
  {
   "cell_type": "code",
   "execution_count": null,
   "id": "cb1a7b4d-4ba5-437d-ae07-860bdc707234",
   "metadata": {},
   "outputs": [],
   "source": [
    "b2 = a.copy()"
   ]
  },
  {
   "cell_type": "code",
   "execution_count": null,
   "id": "1081ba56-cce5-4112-94ef-5305431cf9fe",
   "metadata": {},
   "outputs": [],
   "source": [
    "b2[0] = 55\n",
    "b2\n",
    "a"
   ]
  },
  {
   "cell_type": "code",
   "execution_count": null,
   "id": "7d241f57-3ebc-46f4-a6cf-202debd6cf25",
   "metadata": {},
   "outputs": [],
   "source": [
    "data = np.array([1, 2])\n",
    "ones = np.ones(2, dtype=int)"
   ]
  },
  {
   "cell_type": "code",
   "execution_count": null,
   "id": "7baba0f7-037a-4fb8-8192-5ba2b3e8da2c",
   "metadata": {},
   "outputs": [],
   "source": [
    "data"
   ]
  },
  {
   "cell_type": "code",
   "execution_count": null,
   "id": "9fae21bc-e227-4b27-96a2-88c05c844a74",
   "metadata": {},
   "outputs": [],
   "source": [
    "ones"
   ]
  },
  {
   "cell_type": "code",
   "execution_count": null,
   "id": "9cf1b4d1-2911-4b62-834c-a9ec0f38efbc",
   "metadata": {},
   "outputs": [],
   "source": [
    "data + ones"
   ]
  },
  {
   "cell_type": "code",
   "execution_count": null,
   "id": "18619f1c-9827-4718-9944-1d051bdb4a96",
   "metadata": {},
   "outputs": [],
   "source": [
    "# 이렇게 넘파이에서 배열 계산식 활용하면\n",
    "# 쓸데 없는 for문 안만들어도 돼서 시간 절약 많이 된다.\n",
    "# 그냥 바로 사칙연산 바로 하면 된다."
   ]
  },
  {
   "cell_type": "code",
   "execution_count": null,
   "id": "eba3cc20-5a99-4fd8-8820-26a49eaaab03",
   "metadata": {},
   "outputs": [],
   "source": [
    "a = np.array([1, 2, 3, 4])"
   ]
  },
  {
   "cell_type": "code",
   "execution_count": null,
   "id": "7c81b441-d55d-4577-960c-4a49d72f3f43",
   "metadata": {},
   "outputs": [],
   "source": [
    "a.sum()"
   ]
  },
  {
   "cell_type": "code",
   "execution_count": null,
   "id": "010990e1-5083-41ed-ab94-77b1e4f337a4",
   "metadata": {},
   "outputs": [],
   "source": [
    "b = np.array([[1, 1], [2, 2]])"
   ]
  },
  {
   "cell_type": "code",
   "execution_count": null,
   "id": "c0230321-ac61-4d91-a7bb-c138e870f761",
   "metadata": {},
   "outputs": [],
   "source": [
    "b.sum()"
   ]
  },
  {
   "cell_type": "code",
   "execution_count": null,
   "id": "1aadf376-7a1e-4cbe-8d84-fc38b1e4d288",
   "metadata": {},
   "outputs": [],
   "source": [
    "# 그냥 더하니까 위에와 같이 전체 값 합산 됐음\n",
    "# 아래처럼 축을 정하면"
   ]
  },
  {
   "cell_type": "code",
   "execution_count": null,
   "id": "f248a6b2-dd91-4841-9f62-d8bf7cd98450",
   "metadata": {},
   "outputs": [],
   "source": [
    "b"
   ]
  },
  {
   "cell_type": "code",
   "execution_count": null,
   "id": "a285a998-ab2c-41e2-811e-a44178dc77b1",
   "metadata": {},
   "outputs": [],
   "source": [
    "b.sum(0)"
   ]
  },
  {
   "cell_type": "code",
   "execution_count": null,
   "id": "37b6edaf-c579-41e0-8381-1bc685c3d666",
   "metadata": {},
   "outputs": [],
   "source": [
    "b.sum(1)"
   ]
  },
  {
   "cell_type": "code",
   "execution_count": null,
   "id": "e89fcd70-279a-476e-9751-26c944f44a1f",
   "metadata": {},
   "outputs": [],
   "source": [
    "#위에서 처럼 기준으로 지정된 축에 대해서 더해짐"
   ]
  },
  {
   "cell_type": "code",
   "execution_count": null,
   "id": "25ddc23f-2a18-4357-964e-dc7aa14f8950",
   "metadata": {},
   "outputs": [],
   "source": [
    "data = np.array([1.0, 2.0])"
   ]
  },
  {
   "cell_type": "code",
   "execution_count": null,
   "id": "5b41a12c-a777-42d5-9518-4a95a6aef4c2",
   "metadata": {},
   "outputs": [],
   "source": [
    "data"
   ]
  },
  {
   "cell_type": "code",
   "execution_count": null,
   "id": "af669195-f8c3-49b3-82d9-9c60250cb671",
   "metadata": {},
   "outputs": [],
   "source": [
    "# 데이터 값 확장됨.\n",
    "data * 1.6"
   ]
  },
  {
   "cell_type": "code",
   "execution_count": null,
   "id": "6588ddde-4855-4db8-80bc-7b2af57427c4",
   "metadata": {},
   "outputs": [],
   "source": [
    "a = np.array([[ 0.0,  0.0,  0.0],\n",
    "              [10.0, 10.0, 10.0],\n",
    "              [20.0, 20.0, 20.0],\n",
    "              [30.0, 30.0, 30.0]])"
   ]
  },
  {
   "cell_type": "code",
   "execution_count": null,
   "id": "b8731b17-b61e-4927-b6d5-ed9809e35ccd",
   "metadata": {},
   "outputs": [],
   "source": [
    "b = np.array([1.0, 2.0, 3.0])"
   ]
  },
  {
   "cell_type": "code",
   "execution_count": null,
   "id": "229a5be5-d445-494d-ae79-c1d2bc004ebb",
   "metadata": {},
   "outputs": [],
   "source": [
    "a+b"
   ]
  },
  {
   "cell_type": "code",
   "execution_count": null,
   "id": "bf71a9aa-da4e-486f-ab7b-2f256a553b0b",
   "metadata": {},
   "outputs": [],
   "source": [
    "c=np.array([8])"
   ]
  },
  {
   "cell_type": "code",
   "execution_count": null,
   "id": "397447b4-abd1-425b-99ec-6794ab6a3881",
   "metadata": {},
   "outputs": [],
   "source": [
    "a*c"
   ]
  },
  {
   "cell_type": "code",
   "execution_count": null,
   "id": "cf81296f-faaf-4a9f-8180-78ea07c6df88",
   "metadata": {},
   "outputs": [],
   "source": [
    "# 난수 생성\n",
    "# 시드값 고정해서 하면 난수 패턴이 정해져있기 때문에 사실상 고정된 데이터가 나옴\n",
    "rng = np.random.default_rng(1)"
   ]
  },
  {
   "cell_type": "code",
   "execution_count": null,
   "id": "7bcaeaed-173a-4271-80f8-c54a56484df1",
   "metadata": {},
   "outputs": [],
   "source": [
    "rng.random(3)"
   ]
  },
  {
   "cell_type": "code",
   "execution_count": null,
   "id": "ed13f777-833d-46b9-be12-c4d1f989be14",
   "metadata": {},
   "outputs": [],
   "source": [
    "# 정수 만들어주는 명령.\n",
    "# : 원래는 1~4 사이의 정수 값을 추출해주는 명령이지만 (endpoint 값 미지정, false일때)\n",
    "# 이렇게 endpoint 값 True로 해서 5까지의 범위도추출할 수도 있다.\n",
    "rng.integers(1,5,endpoint=True)"
   ]
  },
  {
   "cell_type": "code",
   "execution_count": null,
   "id": "d55fcff4-996b-4703-8e40-308014b52d6a",
   "metadata": {},
   "outputs": [],
   "source": [
    "a = np.array([11, 11, 12, 13, 14, 15, 16, 17, 12, 13, 11, 14, 18, 19, 20])"
   ]
  },
  {
   "cell_type": "code",
   "execution_count": null,
   "id": "b1e3dc6a-64fe-4edd-8089-553538a6b8fc",
   "metadata": {},
   "outputs": [],
   "source": [
    "# 고유의 값들만, 고유 값들의 개수를 알아보는 방법.\n",
    "# return_index=True 로 중복되는 값 빼고 고유 값들만 추출\n",
    "# return_inverse=True 로 고유 데이터들이 처음 선언된 인덱스값 추출\n",
    "# return_counts=True 로 고유 데이터들의 총 개수를 알려줌\n",
    "np.unique(a,return_index=True,return_inverse=True,return_counts=True)"
   ]
  },
  {
   "cell_type": "code",
   "execution_count": null,
   "id": "2d86b452-ece3-4c0f-9be1-482b67850da9",
   "metadata": {},
   "outputs": [],
   "source": [
    "data = np.arange(1,7).reshape(2,3)"
   ]
  },
  {
   "cell_type": "code",
   "execution_count": null,
   "id": "59ce22b3-5321-43a5-a4a9-7ac155388d86",
   "metadata": {},
   "outputs": [],
   "source": [
    "data"
   ]
  },
  {
   "cell_type": "code",
   "execution_count": null,
   "id": "17ea370c-0cc1-4bf1-bf92-f85176415a48",
   "metadata": {},
   "outputs": [],
   "source": [
    "# 행과 열의 데이터 위치를 고대로 바꿔줌\n",
    "data.transpose()"
   ]
  },
  {
   "cell_type": "code",
   "execution_count": null,
   "id": "1695bcf5-c9ec-410a-9f0a-7668a6640bcd",
   "metadata": {},
   "outputs": [],
   "source": [
    "data.T"
   ]
  },
  {
   "cell_type": "code",
   "execution_count": null,
   "id": "6530603a-8e43-4706-b0f6-3679354694a2",
   "metadata": {},
   "outputs": [],
   "source": [
    "arr = np.array([1,2,3,4,9,6,7,8])"
   ]
  },
  {
   "cell_type": "code",
   "execution_count": null,
   "id": "21c60bf9-5136-4296-9602-08532d17b155",
   "metadata": {},
   "outputs": [],
   "source": [
    "# 배열 뒤집기 (데이터 값들을 인덱스값 반대순으로 그대로 뒤집어줌)\n",
    "np.flip(arr)"
   ]
  },
  {
   "cell_type": "code",
   "execution_count": null,
   "id": "3b6e061d-4eec-4446-9b8a-62e5d31ce121",
   "metadata": {},
   "outputs": [],
   "source": [
    "arr_2d = np.array([[1, 2, 3, 4], [5, 6, 7, 8], [9, 10, 11, 12]])"
   ]
  },
  {
   "cell_type": "code",
   "execution_count": null,
   "id": "94945abf-363a-42c1-999d-b5b2adbdf38b",
   "metadata": {},
   "outputs": [],
   "source": [
    "arr_2d"
   ]
  },
  {
   "cell_type": "code",
   "execution_count": null,
   "id": "42e37def-bf3c-42b8-ae53-d55c3d54bedc",
   "metadata": {},
   "outputs": [],
   "source": [
    "# axis 차원값 지정해서 뒤집어주는 것도 가능\n",
    "np.flip(arr_2d,axis=1)"
   ]
  },
  {
   "cell_type": "code",
   "execution_count": null,
   "id": "85530a48-e0fe-4fc2-ba5e-0c6e412a3828",
   "metadata": {},
   "outputs": [],
   "source": [
    "x"
   ]
  },
  {
   "cell_type": "code",
   "execution_count": null,
   "id": "d8357f74-25e1-4abf-a1b6-51f369725e01",
   "metadata": {},
   "outputs": [],
   "source": [
    "x = np.array([[1 , 2, 3, 4], [5, 6, 7, 8], [9, 10, 11, 12]])"
   ]
  },
  {
   "cell_type": "code",
   "execution_count": null,
   "id": "7486e6e5-5cc3-49e3-9e59-eb93bd0c0611",
   "metadata": {},
   "outputs": [],
   "source": [
    "x"
   ]
  },
  {
   "cell_type": "code",
   "execution_count": null,
   "id": "70abf2d9-80f2-4292-8fed-aa42814b9234",
   "metadata": {},
   "outputs": [],
   "source": [
    "# 다차원 배열 형태 변경 및 병합\n",
    "\n",
    "# 배열들을 무조건 1차원으로 평평하게 합쳐줌.\n",
    "x.flatten()"
   ]
  },
  {
   "cell_type": "code",
   "execution_count": null,
   "id": "97fdccb9-6600-4f03-8d66-6f1bd0e35b6e",
   "metadata": {},
   "outputs": [],
   "source": [
    "# reshape((1,-1)) : 1행 짜리로, 열 형태는 존재하는 열 개수 그대로 가져온다.(지금은 4열까지 있으니 인덱스 3넣은것과 같다.)\n",
    "# 뒤에 `()[0]` 넣어주면 위에처럼 1차원 배열로 담김\n",
    "x.reshape(x,(1,-1))"
   ]
  },
  {
   "cell_type": "markdown",
   "id": "a3541484-3cc0-41a9-b6e7-e955bd3bc008",
   "metadata": {},
   "source": [
    "- 위와 같이 배열을 병합할때는 병합된 데이터가 원본에 영향을 미치지만\n",
    "- ravel 복사는 얕은 복사이기 때문에 원본 데이터에 변경된 배열 데이터가 반영되지 않는다."
   ]
  },
  {
   "cell_type": "code",
   "execution_count": null,
   "id": "2505b39b-a8f3-4c8a-9d0e-fc2f4d818405",
   "metadata": {},
   "outputs": [],
   "source": [
    "x.reshape??\n",
    "# ?로 물음표 한개만 하거나 이렇게 두개 적어주면 쉬프트+탭 설명서 나온다."
   ]
  },
  {
   "cell_type": "code",
   "execution_count": null,
   "id": "279f2cc4-4ceb-4177-a6e8-691992d49409",
   "metadata": {},
   "outputs": [],
   "source": [
    "def double(a):\n",
    "    '''\n",
    "    함수 사용법\n",
    "    double(arr)\n",
    "    '''\n",
    "    return a*2"
   ]
  },
  {
   "cell_type": "code",
   "execution_count": null,
   "id": "a231e5cd-41df-43ac-90bd-8db76a89d92a",
   "metadata": {},
   "outputs": [],
   "source": [
    "double?"
   ]
  },
  {
   "cell_type": "code",
   "execution_count": null,
   "id": "b5dabf3b-5be3-4767-ba60-9bae14effab2",
   "metadata": {},
   "outputs": [],
   "source": [
    "double??"
   ]
  },
  {
   "cell_type": "code",
   "execution_count": null,
   "id": "2c1615e6-d9a3-43a7-becc-811c38c0edd4",
   "metadata": {},
   "outputs": [],
   "source": [
    "# 이렇게 도움말음 첨부해줘야 협업 할 때 좋다."
   ]
  }
 ],
 "metadata": {
  "kernelspec": {
   "display_name": "Python 3 (ipykernel)",
   "language": "python",
   "name": "python3"
  },
  "language_info": {
   "codemirror_mode": {
    "name": "ipython",
    "version": 3
   },
   "file_extension": ".py",
   "mimetype": "text/x-python",
   "name": "python",
   "nbconvert_exporter": "python",
   "pygments_lexer": "ipython3",
   "version": "3.9.13"
  }
 },
 "nbformat": 4,
 "nbformat_minor": 5
}
