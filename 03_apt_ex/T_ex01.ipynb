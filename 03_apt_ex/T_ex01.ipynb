{
 "cells": [
  {
   "cell_type": "code",
   "execution_count": 1,
   "id": "fbb1de5f-f07e-441b-9f05-31063ded5fda",
   "metadata": {},
   "outputs": [],
   "source": [
    "import pandas as pd"
   ]
  },
  {
   "cell_type": "code",
   "execution_count": 2,
   "id": "35b696a1-04f6-495c-a994-66a8103d6253",
   "metadata": {},
   "outputs": [],
   "source": [
    "first_df = pd.read_csv('전국_평균_분양가격(2013년_9월부터_2015년_8월까지).csv',encoding='cp949')"
   ]
  },
  {
   "cell_type": "code",
   "execution_count": 3,
   "id": "35952ec8-362b-4405-a086-30288a822fd6",
   "metadata": {},
   "outputs": [
    {
     "data": {
      "text/html": [
       "<div>\n",
       "<style scoped>\n",
       "    .dataframe tbody tr th:only-of-type {\n",
       "        vertical-align: middle;\n",
       "    }\n",
       "\n",
       "    .dataframe tbody tr th {\n",
       "        vertical-align: top;\n",
       "    }\n",
       "\n",
       "    .dataframe thead th {\n",
       "        text-align: right;\n",
       "    }\n",
       "</style>\n",
       "<table border=\"1\" class=\"dataframe\">\n",
       "  <thead>\n",
       "    <tr style=\"text-align: right;\">\n",
       "      <th></th>\n",
       "      <th>지역</th>\n",
       "      <th>2013년12월</th>\n",
       "      <th>2014년1월</th>\n",
       "      <th>2014년2월</th>\n",
       "      <th>2014년3월</th>\n",
       "      <th>2014년4월</th>\n",
       "      <th>2014년5월</th>\n",
       "      <th>2014년6월</th>\n",
       "      <th>2014년7월</th>\n",
       "      <th>2014년8월</th>\n",
       "      <th>...</th>\n",
       "      <th>2014년11월</th>\n",
       "      <th>2014년12월</th>\n",
       "      <th>2015년1월</th>\n",
       "      <th>2015년2월</th>\n",
       "      <th>2015년3월</th>\n",
       "      <th>2015년4월</th>\n",
       "      <th>2015년5월</th>\n",
       "      <th>2015년6월</th>\n",
       "      <th>2015년7월</th>\n",
       "      <th>2015년8월</th>\n",
       "    </tr>\n",
       "  </thead>\n",
       "  <tbody>\n",
       "    <tr>\n",
       "      <th>0</th>\n",
       "      <td>서울</td>\n",
       "      <td>18189</td>\n",
       "      <td>17925</td>\n",
       "      <td>17925</td>\n",
       "      <td>18016</td>\n",
       "      <td>18098</td>\n",
       "      <td>19446</td>\n",
       "      <td>18867</td>\n",
       "      <td>18742</td>\n",
       "      <td>19274</td>\n",
       "      <td>...</td>\n",
       "      <td>20242</td>\n",
       "      <td>20269</td>\n",
       "      <td>20670</td>\n",
       "      <td>20670</td>\n",
       "      <td>19415</td>\n",
       "      <td>18842</td>\n",
       "      <td>18367</td>\n",
       "      <td>18374</td>\n",
       "      <td>18152</td>\n",
       "      <td>18443</td>\n",
       "    </tr>\n",
       "    <tr>\n",
       "      <th>1</th>\n",
       "      <td>부산</td>\n",
       "      <td>8111</td>\n",
       "      <td>8111</td>\n",
       "      <td>9078</td>\n",
       "      <td>8965</td>\n",
       "      <td>9402</td>\n",
       "      <td>9501</td>\n",
       "      <td>9453</td>\n",
       "      <td>9457</td>\n",
       "      <td>9411</td>\n",
       "      <td>...</td>\n",
       "      <td>9208</td>\n",
       "      <td>9208</td>\n",
       "      <td>9204</td>\n",
       "      <td>9235</td>\n",
       "      <td>9279</td>\n",
       "      <td>9327</td>\n",
       "      <td>9345</td>\n",
       "      <td>9515</td>\n",
       "      <td>9559</td>\n",
       "      <td>9581</td>\n",
       "    </tr>\n",
       "  </tbody>\n",
       "</table>\n",
       "<p>2 rows × 22 columns</p>\n",
       "</div>"
      ],
      "text/plain": [
       "   지역  2013년12월  2014년1월  2014년2월  2014년3월  2014년4월  2014년5월  2014년6월  \\\n",
       "0  서울     18189    17925    17925    18016    18098    19446    18867   \n",
       "1  부산      8111     8111     9078     8965     9402     9501     9453   \n",
       "\n",
       "   2014년7월  2014년8월  ...  2014년11월  2014년12월  2015년1월  2015년2월  2015년3월  \\\n",
       "0    18742    19274  ...     20242     20269    20670    20670    19415   \n",
       "1     9457     9411  ...      9208      9208     9204     9235     9279   \n",
       "\n",
       "   2015년4월  2015년5월  2015년6월  2015년7월  2015년8월  \n",
       "0    18842    18367    18374    18152    18443  \n",
       "1     9327     9345     9515     9559     9581  \n",
       "\n",
       "[2 rows x 22 columns]"
      ]
     },
     "execution_count": 3,
     "metadata": {},
     "output_type": "execute_result"
    }
   ],
   "source": [
    "first_df.head(2)"
   ]
  },
  {
   "cell_type": "code",
   "execution_count": 4,
   "id": "e41ef740-87fb-4952-a776-2c4a232a5727",
   "metadata": {
    "tags": []
   },
   "outputs": [
    {
     "name": "stdout",
     "output_type": "stream",
     "text": [
      "<class 'pandas.core.frame.DataFrame'>\n",
      "RangeIndex: 17 entries, 0 to 16\n",
      "Data columns (total 22 columns):\n",
      " #   Column    Non-Null Count  Dtype \n",
      "---  ------    --------------  ----- \n",
      " 0   지역        17 non-null     object\n",
      " 1   2013년12월  17 non-null     int64 \n",
      " 2   2014년1월   17 non-null     int64 \n",
      " 3   2014년2월   17 non-null     int64 \n",
      " 4   2014년3월   17 non-null     int64 \n",
      " 5   2014년4월   17 non-null     int64 \n",
      " 6   2014년5월   17 non-null     int64 \n",
      " 7   2014년6월   17 non-null     int64 \n",
      " 8   2014년7월   17 non-null     int64 \n",
      " 9   2014년8월   17 non-null     int64 \n",
      " 10  2014년9월   17 non-null     int64 \n",
      " 11  2014년10월  17 non-null     int64 \n",
      " 12  2014년11월  17 non-null     int64 \n",
      " 13  2014년12월  17 non-null     int64 \n",
      " 14  2015년1월   17 non-null     int64 \n",
      " 15  2015년2월   17 non-null     int64 \n",
      " 16  2015년3월   17 non-null     int64 \n",
      " 17  2015년4월   17 non-null     int64 \n",
      " 18  2015년5월   17 non-null     int64 \n",
      " 19  2015년6월   17 non-null     int64 \n",
      " 20  2015년7월   17 non-null     int64 \n",
      " 21  2015년8월   17 non-null     int64 \n",
      "dtypes: int64(21), object(1)\n",
      "memory usage: 3.0+ KB\n"
     ]
    }
   ],
   "source": [
    "first_df.info()"
   ]
  },
  {
   "cell_type": "code",
   "execution_count": 5,
   "id": "f6445bb6-b4c7-4929-a0af-f5a5becd3775",
   "metadata": {},
   "outputs": [],
   "source": [
    "last_df = pd.read_csv('주택도시보증공사_전국_평균_분양가격(2019년_12월).csv',encoding='cp949')"
   ]
  },
  {
   "cell_type": "code",
   "execution_count": 6,
   "id": "6f1d973e-8755-4daf-9fe2-820342379f02",
   "metadata": {},
   "outputs": [
    {
     "data": {
      "text/html": [
       "<div>\n",
       "<style scoped>\n",
       "    .dataframe tbody tr th:only-of-type {\n",
       "        vertical-align: middle;\n",
       "    }\n",
       "\n",
       "    .dataframe tbody tr th {\n",
       "        vertical-align: top;\n",
       "    }\n",
       "\n",
       "    .dataframe thead th {\n",
       "        text-align: right;\n",
       "    }\n",
       "</style>\n",
       "<table border=\"1\" class=\"dataframe\">\n",
       "  <thead>\n",
       "    <tr style=\"text-align: right;\">\n",
       "      <th></th>\n",
       "      <th>지역명</th>\n",
       "      <th>규모구분</th>\n",
       "      <th>연도</th>\n",
       "      <th>월</th>\n",
       "      <th>분양가격(㎡)</th>\n",
       "    </tr>\n",
       "  </thead>\n",
       "  <tbody>\n",
       "    <tr>\n",
       "      <th>0</th>\n",
       "      <td>서울</td>\n",
       "      <td>전체</td>\n",
       "      <td>2015</td>\n",
       "      <td>10</td>\n",
       "      <td>5841</td>\n",
       "    </tr>\n",
       "    <tr>\n",
       "      <th>1</th>\n",
       "      <td>서울</td>\n",
       "      <td>전용면적 60㎡이하</td>\n",
       "      <td>2015</td>\n",
       "      <td>10</td>\n",
       "      <td>5652</td>\n",
       "    </tr>\n",
       "  </tbody>\n",
       "</table>\n",
       "</div>"
      ],
      "text/plain": [
       "  지역명        규모구분    연도   월 분양가격(㎡)\n",
       "0  서울          전체  2015  10    5841\n",
       "1  서울  전용면적 60㎡이하  2015  10    5652"
      ]
     },
     "execution_count": 6,
     "metadata": {},
     "output_type": "execute_result"
    }
   ],
   "source": [
    "last_df.head(2)"
   ]
  },
  {
   "cell_type": "code",
   "execution_count": 7,
   "id": "105e0ebc-a0c9-44ad-a8b4-f60447bd210a",
   "metadata": {},
   "outputs": [
    {
     "name": "stdout",
     "output_type": "stream",
     "text": [
      "<class 'pandas.core.frame.DataFrame'>\n",
      "RangeIndex: 4335 entries, 0 to 4334\n",
      "Data columns (total 5 columns):\n",
      " #   Column   Non-Null Count  Dtype \n",
      "---  ------   --------------  ----- \n",
      " 0   지역명      4335 non-null   object\n",
      " 1   규모구분     4335 non-null   object\n",
      " 2   연도       4335 non-null   int64 \n",
      " 3   월        4335 non-null   int64 \n",
      " 4   분양가격(㎡)  4058 non-null   object\n",
      "dtypes: int64(2), object(3)\n",
      "memory usage: 169.5+ KB\n"
     ]
    }
   ],
   "source": [
    "last_df.info()"
   ]
  },
  {
   "cell_type": "code",
   "execution_count": 8,
   "id": "d9ee9522-b15f-4edf-93e8-0bfb0ffc1687",
   "metadata": {},
   "outputs": [
    {
     "data": {
      "text/plain": [
       "지역명          0\n",
       "규모구분         0\n",
       "연도           0\n",
       "월            0\n",
       "분양가격(㎡)    277\n",
       "dtype: int64"
      ]
     },
     "execution_count": 8,
     "metadata": {},
     "output_type": "execute_result"
    }
   ],
   "source": [
    "last_df.isna().sum()"
   ]
  },
  {
   "cell_type": "code",
   "execution_count": 9,
   "id": "8595456b-3944-4488-9cf5-c2745368f1ac",
   "metadata": {},
   "outputs": [],
   "source": [
    "last_df['분양가격'] = pd.to_numeric(last_df['분양가격(㎡)'],errors='coerce')"
   ]
  },
  {
   "cell_type": "code",
   "execution_count": 10,
   "id": "77b065a6-47ed-4bd6-9062-b6e42c71173e",
   "metadata": {},
   "outputs": [],
   "source": [
    "from numpy import nan"
   ]
  },
  {
   "cell_type": "code",
   "execution_count": 11,
   "id": "61429d67-1ee8-4497-8445-e5189258d003",
   "metadata": {},
   "outputs": [
    {
     "data": {
      "text/plain": [
       "float"
      ]
     },
     "execution_count": 11,
     "metadata": {},
     "output_type": "execute_result"
    }
   ],
   "source": [
    "type(nan)"
   ]
  },
  {
   "cell_type": "code",
   "execution_count": 12,
   "id": "32a5f0e5-e868-4e04-85dc-5792f649a61f",
   "metadata": {
    "tags": []
   },
   "outputs": [
    {
     "name": "stdout",
     "output_type": "stream",
     "text": [
      "<class 'pandas.core.frame.DataFrame'>\n",
      "RangeIndex: 4335 entries, 0 to 4334\n",
      "Data columns (total 6 columns):\n",
      " #   Column   Non-Null Count  Dtype  \n",
      "---  ------   --------------  -----  \n",
      " 0   지역명      4335 non-null   object \n",
      " 1   규모구분     4335 non-null   object \n",
      " 2   연도       4335 non-null   int64  \n",
      " 3   월        4335 non-null   int64  \n",
      " 4   분양가격(㎡)  4058 non-null   object \n",
      " 5   분양가격     3957 non-null   float64\n",
      "dtypes: float64(1), int64(2), object(3)\n",
      "memory usage: 203.3+ KB\n"
     ]
    }
   ],
   "source": [
    "last_df.info()"
   ]
  },
  {
   "cell_type": "code",
   "execution_count": 13,
   "id": "c3c66a58-2b0e-4f24-b37e-36fffd194ed6",
   "metadata": {},
   "outputs": [],
   "source": [
    "last_df['평당분양가격']=last_df['분양가격']*3.3"
   ]
  },
  {
   "cell_type": "code",
   "execution_count": 14,
   "id": "7fbda70c-17d6-4fb7-a1bf-b6cbd98fb46c",
   "metadata": {},
   "outputs": [
    {
     "data": {
      "text/plain": [
       "count     3957.000000\n",
       "mean     10685.824488\n",
       "std       4172.222780\n",
       "min       6164.400000\n",
       "25%       8055.300000\n",
       "50%       9484.200000\n",
       "75%      11751.300000\n",
       "max      42002.400000\n",
       "Name: 평당분양가격, dtype: float64"
      ]
     },
     "execution_count": 14,
     "metadata": {},
     "output_type": "execute_result"
    }
   ],
   "source": [
    "last_df['평당분양가격'].describe()"
   ]
  },
  {
   "cell_type": "code",
   "execution_count": 15,
   "id": "a22030db-d4a8-4ff4-955f-21975b74cb48",
   "metadata": {
    "tags": []
   },
   "outputs": [
    {
     "data": {
      "text/plain": [
       "array(['전체', '전용면적 60㎡이하', '전용면적 60㎡초과 85㎡이하', '전용면적 85㎡초과 102㎡이하',\n",
       "       '전용면적 102㎡초과'], dtype=object)"
      ]
     },
     "execution_count": 15,
     "metadata": {},
     "output_type": "execute_result"
    }
   ],
   "source": [
    "last_df.규모구분.unique()"
   ]
  },
  {
   "cell_type": "code",
   "execution_count": 16,
   "id": "b01e8019-b23e-451c-a595-9babbbea7f9a",
   "metadata": {},
   "outputs": [],
   "source": [
    "last_df['전용면적'] = last_df.규모구분.str.replace('전용면적','')"
   ]
  },
  {
   "cell_type": "code",
   "execution_count": 17,
   "id": "49152a9c-c1c2-4962-83ae-180c43908d4d",
   "metadata": {},
   "outputs": [],
   "source": [
    "last_df['전용면적'] = last_df['전용면적'].str.replace('초과','~')"
   ]
  },
  {
   "cell_type": "code",
   "execution_count": 18,
   "id": "3c9d5ce0-298e-43d6-99e8-c5681087eb0b",
   "metadata": {},
   "outputs": [],
   "source": [
    "last_df['전용면적'] = last_df['전용면적'].str.replace('이하','')"
   ]
  },
  {
   "cell_type": "code",
   "execution_count": 19,
   "id": "5ab4e2d6-febb-45d5-bcd1-c6c2d24d4871",
   "metadata": {},
   "outputs": [],
   "source": [
    "last_df['전용면적'] = last_df['전용면적'].str.replace(' ','').str.strip()"
   ]
  },
  {
   "cell_type": "code",
   "execution_count": 20,
   "id": "9dbac34b-ccfe-4fe7-a8f1-baab1163f7a2",
   "metadata": {},
   "outputs": [
    {
     "data": {
      "text/plain": [
       "array(['전체', '60㎡', '60㎡~85㎡', '85㎡~102㎡', '102㎡~'], dtype=object)"
      ]
     },
     "execution_count": 20,
     "metadata": {},
     "output_type": "execute_result"
    }
   ],
   "source": [
    "last_df['전용면적'].unique()"
   ]
  },
  {
   "cell_type": "code",
   "execution_count": 21,
   "id": "168017cd-29d4-4dd5-93fa-0bfc8ea67aa8",
   "metadata": {},
   "outputs": [
    {
     "data": {
      "text/plain": [
       "Index(['지역명', '규모구분', '연도', '월', '분양가격(㎡)', '분양가격', '평당분양가격', '전용면적'], dtype='object')"
      ]
     },
     "execution_count": 21,
     "metadata": {},
     "output_type": "execute_result"
    }
   ],
   "source": [
    "last_df.columns"
   ]
  },
  {
   "cell_type": "code",
   "execution_count": 22,
   "id": "9d93a5b7-2ed8-42e2-b055-f9d05f5a3b7f",
   "metadata": {},
   "outputs": [],
   "source": [
    "last_df.drop(columns=['규모구분','분양가격(㎡)'],inplace=True)"
   ]
  },
  {
   "cell_type": "code",
   "execution_count": 23,
   "id": "58c77114-0ac6-4f37-88f4-7336fe9e8789",
   "metadata": {},
   "outputs": [
    {
     "data": {
      "text/plain": [
       "Index(['지역명', '연도', '월', '분양가격', '평당분양가격', '전용면적'], dtype='object')"
      ]
     },
     "execution_count": 23,
     "metadata": {},
     "output_type": "execute_result"
    }
   ],
   "source": [
    "last_df.columns"
   ]
  },
  {
   "cell_type": "code",
   "execution_count": 24,
   "id": "faf51299-6d5b-4173-81c4-4a3fc2155eda",
   "metadata": {
    "tags": []
   },
   "outputs": [
    {
     "data": {
      "text/plain": [
       "<AxesSubplot:ylabel='지역명'>"
      ]
     },
     "execution_count": 24,
     "metadata": {},
     "output_type": "execute_result"
    },
    {
     "data": {
      "image/png": "[encoded data removed]",
      "text/plain": [
       "<Figure size 640x480 with 1 Axes>"
      ]
     },
     "metadata": {},
     "output_type": "display_data"
    }
   ],
   "source": [
    "last_df.groupby(['지역명'])['평당분양가격'].mean().plot(kind='barh')"
   ]
  },
  {
   "cell_type": "code",
   "execution_count": 25,
   "id": "8a6e09c0-8543-47e9-9d65-60920a5784f7",
   "metadata": {
    "tags": []
   },
   "outputs": [
    {
     "data": {
      "text/plain": [
       "전용면적\n",
       "102㎡~       11517.705634\n",
       "60㎡         10375.137421\n",
       "60㎡~85㎡     10271.040071\n",
       "85㎡~102㎡    11097.599573\n",
       "전체          10276.086207\n",
       "Name: 평당분양가격, dtype: float64"
      ]
     },
     "execution_count": 25,
     "metadata": {},
     "output_type": "execute_result"
    }
   ],
   "source": [
    "last_df.groupby(['전용면적'])['평당분양가격'].mean()"
   ]
  },
  {
   "cell_type": "code",
   "execution_count": 26,
   "id": "da9b59a2-492c-4700-a602-352dff42b580",
   "metadata": {},
   "outputs": [],
   "source": [
    "data = last_df.groupby(['전용면적','지역명'])['평당분양가격'].mean().reset_index()"
   ]
  },
  {
   "cell_type": "code",
   "execution_count": 27,
   "id": "85a54ab5-d85a-48ba-9639-7325847c9351",
   "metadata": {
    "tags": []
   },
   "outputs": [
    {
     "data": {
      "text/html": [
       "<div>\n",
       "<style scoped>\n",
       "    .dataframe tbody tr th:only-of-type {\n",
       "        vertical-align: middle;\n",
       "    }\n",
       "\n",
       "    .dataframe tbody tr th {\n",
       "        vertical-align: top;\n",
       "    }\n",
       "\n",
       "    .dataframe thead th {\n",
       "        text-align: right;\n",
       "    }\n",
       "</style>\n",
       "<table border=\"1\" class=\"dataframe\">\n",
       "  <thead>\n",
       "    <tr style=\"text-align: right;\">\n",
       "      <th></th>\n",
       "      <th>전용면적</th>\n",
       "      <th>지역명</th>\n",
       "      <th>평당분양가격</th>\n",
       "    </tr>\n",
       "  </thead>\n",
       "  <tbody>\n",
       "    <tr>\n",
       "      <th>0</th>\n",
       "      <td>102㎡~</td>\n",
       "      <td>강원</td>\n",
       "      <td>8310.0</td>\n",
       "    </tr>\n",
       "    <tr>\n",
       "      <th>1</th>\n",
       "      <td>102㎡~</td>\n",
       "      <td>경기</td>\n",
       "      <td>14770.0</td>\n",
       "    </tr>\n",
       "    <tr>\n",
       "      <th>2</th>\n",
       "      <td>102㎡~</td>\n",
       "      <td>경남</td>\n",
       "      <td>10360.0</td>\n",
       "    </tr>\n",
       "    <tr>\n",
       "      <th>3</th>\n",
       "      <td>102㎡~</td>\n",
       "      <td>경북</td>\n",
       "      <td>9160.0</td>\n",
       "    </tr>\n",
       "    <tr>\n",
       "      <th>4</th>\n",
       "      <td>102㎡~</td>\n",
       "      <td>광주</td>\n",
       "      <td>11040.0</td>\n",
       "    </tr>\n",
       "    <tr>\n",
       "      <th>...</th>\n",
       "      <td>...</td>\n",
       "      <td>...</td>\n",
       "      <td>...</td>\n",
       "    </tr>\n",
       "    <tr>\n",
       "      <th>80</th>\n",
       "      <td>전체</td>\n",
       "      <td>전남</td>\n",
       "      <td>7280.0</td>\n",
       "    </tr>\n",
       "    <tr>\n",
       "      <th>81</th>\n",
       "      <td>전체</td>\n",
       "      <td>전북</td>\n",
       "      <td>7290.0</td>\n",
       "    </tr>\n",
       "    <tr>\n",
       "      <th>82</th>\n",
       "      <td>전체</td>\n",
       "      <td>제주</td>\n",
       "      <td>10780.0</td>\n",
       "    </tr>\n",
       "    <tr>\n",
       "      <th>83</th>\n",
       "      <td>전체</td>\n",
       "      <td>충남</td>\n",
       "      <td>7820.0</td>\n",
       "    </tr>\n",
       "    <tr>\n",
       "      <th>84</th>\n",
       "      <td>전체</td>\n",
       "      <td>충북</td>\n",
       "      <td>7220.0</td>\n",
       "    </tr>\n",
       "  </tbody>\n",
       "</table>\n",
       "<p>85 rows × 3 columns</p>\n",
       "</div>"
      ],
      "text/plain": [
       "     전용면적 지역명   평당분양가격\n",
       "0   102㎡~  강원   8310.0\n",
       "1   102㎡~  경기  14770.0\n",
       "2   102㎡~  경남  10360.0\n",
       "3   102㎡~  경북   9160.0\n",
       "4   102㎡~  광주  11040.0\n",
       "..    ...  ..      ...\n",
       "80     전체  전남   7280.0\n",
       "81     전체  전북   7290.0\n",
       "82     전체  제주  10780.0\n",
       "83     전체  충남   7820.0\n",
       "84     전체  충북   7220.0\n",
       "\n",
       "[85 rows x 3 columns]"
      ]
     },
     "execution_count": 27,
     "metadata": {},
     "output_type": "execute_result"
    }
   ],
   "source": [
    "data.round(-1)"
   ]
  },
  {
   "cell_type": "code",
   "execution_count": 28,
   "id": "c3ce4f38-43a4-4a90-b47e-13301bdaacb4",
   "metadata": {
    "tags": []
   },
   "outputs": [
    {
     "data": {
      "text/html": [
       "<div>\n",
       "<style scoped>\n",
       "    .dataframe tbody tr th:only-of-type {\n",
       "        vertical-align: middle;\n",
       "    }\n",
       "\n",
       "    .dataframe tbody tr th {\n",
       "        vertical-align: top;\n",
       "    }\n",
       "\n",
       "    .dataframe thead th {\n",
       "        text-align: right;\n",
       "    }\n",
       "</style>\n",
       "<table border=\"1\" class=\"dataframe\">\n",
       "  <thead>\n",
       "    <tr style=\"text-align: right;\">\n",
       "      <th></th>\n",
       "      <th>전용면적</th>\n",
       "      <th>지역명</th>\n",
       "      <th>평당분양가격</th>\n",
       "    </tr>\n",
       "  </thead>\n",
       "  <tbody>\n",
       "    <tr>\n",
       "      <th>0</th>\n",
       "      <td>102㎡~</td>\n",
       "      <td>강원</td>\n",
       "      <td>8311.0</td>\n",
       "    </tr>\n",
       "    <tr>\n",
       "      <th>1</th>\n",
       "      <td>102㎡~</td>\n",
       "      <td>경기</td>\n",
       "      <td>14772.0</td>\n",
       "    </tr>\n",
       "    <tr>\n",
       "      <th>2</th>\n",
       "      <td>102㎡~</td>\n",
       "      <td>경남</td>\n",
       "      <td>10358.0</td>\n",
       "    </tr>\n",
       "    <tr>\n",
       "      <th>3</th>\n",
       "      <td>102㎡~</td>\n",
       "      <td>경북</td>\n",
       "      <td>9157.0</td>\n",
       "    </tr>\n",
       "    <tr>\n",
       "      <th>4</th>\n",
       "      <td>102㎡~</td>\n",
       "      <td>광주</td>\n",
       "      <td>11042.0</td>\n",
       "    </tr>\n",
       "    <tr>\n",
       "      <th>...</th>\n",
       "      <td>...</td>\n",
       "      <td>...</td>\n",
       "      <td>...</td>\n",
       "    </tr>\n",
       "    <tr>\n",
       "      <th>80</th>\n",
       "      <td>전체</td>\n",
       "      <td>전남</td>\n",
       "      <td>7284.0</td>\n",
       "    </tr>\n",
       "    <tr>\n",
       "      <th>81</th>\n",
       "      <td>전체</td>\n",
       "      <td>전북</td>\n",
       "      <td>7293.0</td>\n",
       "    </tr>\n",
       "    <tr>\n",
       "      <th>82</th>\n",
       "      <td>전체</td>\n",
       "      <td>제주</td>\n",
       "      <td>10785.0</td>\n",
       "    </tr>\n",
       "    <tr>\n",
       "      <th>83</th>\n",
       "      <td>전체</td>\n",
       "      <td>충남</td>\n",
       "      <td>7815.0</td>\n",
       "    </tr>\n",
       "    <tr>\n",
       "      <th>84</th>\n",
       "      <td>전체</td>\n",
       "      <td>충북</td>\n",
       "      <td>7219.0</td>\n",
       "    </tr>\n",
       "  </tbody>\n",
       "</table>\n",
       "<p>85 rows × 3 columns</p>\n",
       "</div>"
      ],
      "text/plain": [
       "     전용면적 지역명   평당분양가격\n",
       "0   102㎡~  강원   8311.0\n",
       "1   102㎡~  경기  14772.0\n",
       "2   102㎡~  경남  10358.0\n",
       "3   102㎡~  경북   9157.0\n",
       "4   102㎡~  광주  11042.0\n",
       "..    ...  ..      ...\n",
       "80     전체  전남   7284.0\n",
       "81     전체  전북   7293.0\n",
       "82     전체  제주  10785.0\n",
       "83     전체  충남   7815.0\n",
       "84     전체  충북   7219.0\n",
       "\n",
       "[85 rows x 3 columns]"
      ]
     },
     "execution_count": 28,
     "metadata": {},
     "output_type": "execute_result"
    }
   ],
   "source": [
    "pd.pivot_table(last_df,index=['전용면적','지역명'],values=['평당분양가격']).reset_index().round()"
   ]
  },
  {
   "cell_type": "code",
   "execution_count": 29,
   "id": "3eb47144-c06f-4fb1-87e1-f5f6abe71866",
   "metadata": {},
   "outputs": [],
   "source": [
    "data = last_df.groupby(['지역명'])['평당분양가격'].mean()"
   ]
  },
  {
   "cell_type": "code",
   "execution_count": 30,
   "id": "179672d7-7d74-43b2-94c2-6de310e683d9",
   "metadata": {
    "tags": []
   },
   "outputs": [
    {
     "data": {
      "text/plain": [
       "<AxesSubplot:ylabel='지역명'>"
      ]
     },
     "execution_count": 30,
     "metadata": {},
     "output_type": "execute_result"
    },
    {
     "data": {
      "image/png": "[encoded data removed]",
      "text/plain": [
       "<Figure size 640x480 with 1 Axes>"
      ]
     },
     "metadata": {},
     "output_type": "display_data"
    }
   ],
   "source": [
    "data.sort_values(ascending=False).plot(kind='barh')"
   ]
  },
  {
   "cell_type": "code",
   "execution_count": 31,
   "id": "4b722994-22fc-4ac5-84cb-7b43d22071f3",
   "metadata": {},
   "outputs": [
    {
     "data": {
      "text/plain": [
       "<AxesSubplot:xlabel='지역명'>"
      ]
     },
     "execution_count": 31,
     "metadata": {},
     "output_type": "execute_result"
    },
    {
     "data": {
      "image/png": "[encoded data removed]",
      "text/plain": [
       "<Figure size 640x480 with 1 Axes>"
      ]
     },
     "metadata": {},
     "output_type": "display_data"
    }
   ],
   "source": [
    "data.plot()"
   ]
  },
  {
   "cell_type": "code",
   "execution_count": 32,
   "id": "dcf8cf06-fa90-46d8-8b6c-734bf1c24a78",
   "metadata": {},
   "outputs": [],
   "source": [
    "# 전용면적별 분양가격"
   ]
  },
  {
   "cell_type": "code",
   "execution_count": 33,
   "id": "0b8b4497-7315-463c-965b-909388c7c9c7",
   "metadata": {
    "tags": []
   },
   "outputs": [
    {
     "data": {
      "text/plain": [
       "<AxesSubplot:xlabel='전용면적'>"
      ]
     },
     "execution_count": 33,
     "metadata": {},
     "output_type": "execute_result"
    },
    {
     "data": {
      "image/png": "[encoded data removed]",
      "text/plain": [
       "<Figure size 640x480 with 1 Axes>"
      ]
     },
     "metadata": {},
     "output_type": "display_data"
    }
   ],
   "source": [
    "last_df.groupby(['전용면적'])['평당분양가격'].mean().sort_index().plot(kind='bar')"
   ]
  },
  {
   "cell_type": "code",
   "execution_count": 34,
   "id": "51ba5214-fea7-41f3-8ac0-7cd21d4cad53",
   "metadata": {},
   "outputs": [],
   "source": [
    "# 연도별 분양가격"
   ]
  },
  {
   "cell_type": "code",
   "execution_count": 35,
   "id": "b0b8557c-fe74-49fa-8020-e8ca2247f33e",
   "metadata": {},
   "outputs": [
    {
     "data": {
      "text/plain": [
       "Index(['지역명', '연도', '월', '분양가격', '평당분양가격', '전용면적'], dtype='object')"
      ]
     },
     "execution_count": 35,
     "metadata": {},
     "output_type": "execute_result"
    }
   ],
   "source": [
    "last_df.columns"
   ]
  },
  {
   "cell_type": "code",
   "execution_count": 36,
   "id": "843b0295-592e-4b35-9346-1f5cf4f08e2a",
   "metadata": {
    "tags": []
   },
   "outputs": [
    {
     "data": {
      "text/plain": [
       "<AxesSubplot:xlabel='연도'>"
      ]
     },
     "execution_count": 36,
     "metadata": {},
     "output_type": "execute_result"
    },
    {
     "data": {
      "image/png": "[encoded data removed]",
      "text/plain": [
       "<Figure size 640x480 with 1 Axes>"
      ]
     },
     "metadata": {},
     "output_type": "display_data"
    }
   ],
   "source": [
    "last_df.groupby(['연도'])['평당분양가격'].mean().plot(kind='bar')"
   ]
  },
  {
   "cell_type": "code",
   "execution_count": 37,
   "id": "98b7654b-c32f-4045-8714-51c89ae2977a",
   "metadata": {},
   "outputs": [
    {
     "data": {
      "text/plain": [
       "연도\n",
       "2015     9202.735802\n",
       "2016     9683.025000\n",
       "2017    10360.487653\n",
       "2018    10978.938411\n",
       "2019    12188.293092\n",
       "Name: 평당분양가격, dtype: float64"
      ]
     },
     "execution_count": 37,
     "metadata": {},
     "output_type": "execute_result"
    }
   ],
   "source": [
    "data = last_df.groupby(['연도'])['평당분양가격'].mean()\n",
    "data"
   ]
  },
  {
   "cell_type": "code",
   "execution_count": 38,
   "id": "936273fa-dc06-49ab-a42e-5267d00a20cb",
   "metadata": {
    "tags": []
   },
   "outputs": [
    {
     "data": {
      "text/html": [
       "<div>\n",
       "<style scoped>\n",
       "    .dataframe tbody tr th:only-of-type {\n",
       "        vertical-align: middle;\n",
       "    }\n",
       "\n",
       "    .dataframe tbody tr th {\n",
       "        vertical-align: top;\n",
       "    }\n",
       "\n",
       "    .dataframe thead th {\n",
       "        text-align: right;\n",
       "    }\n",
       "</style>\n",
       "<table border=\"1\" class=\"dataframe\">\n",
       "  <thead>\n",
       "    <tr style=\"text-align: right;\">\n",
       "      <th>연도</th>\n",
       "      <th>2015</th>\n",
       "      <th>2016</th>\n",
       "      <th>2017</th>\n",
       "      <th>2018</th>\n",
       "      <th>2019</th>\n",
       "    </tr>\n",
       "    <tr>\n",
       "      <th>월</th>\n",
       "      <th></th>\n",
       "      <th></th>\n",
       "      <th></th>\n",
       "      <th></th>\n",
       "      <th></th>\n",
       "    </tr>\n",
       "  </thead>\n",
       "  <tbody>\n",
       "    <tr>\n",
       "      <th>1</th>\n",
       "      <td>NaN</td>\n",
       "      <td>9334.029630</td>\n",
       "      <td>10095.132143</td>\n",
       "      <td>10719.148000</td>\n",
       "      <td>11535.540789</td>\n",
       "    </tr>\n",
       "    <tr>\n",
       "      <th>2</th>\n",
       "      <td>NaN</td>\n",
       "      <td>9361.440000</td>\n",
       "      <td>10110.885714</td>\n",
       "      <td>10766.668000</td>\n",
       "      <td>11574.793421</td>\n",
       "    </tr>\n",
       "    <tr>\n",
       "      <th>3</th>\n",
       "      <td>NaN</td>\n",
       "      <td>9423.276923</td>\n",
       "      <td>10107.428571</td>\n",
       "      <td>10905.488000</td>\n",
       "      <td>11610.094737</td>\n",
       "    </tr>\n",
       "    <tr>\n",
       "      <th>4</th>\n",
       "      <td>NaN</td>\n",
       "      <td>9601.993902</td>\n",
       "      <td>10217.232143</td>\n",
       "      <td>10920.728571</td>\n",
       "      <td>11777.876000</td>\n",
       "    </tr>\n",
       "    <tr>\n",
       "      <th>5</th>\n",
       "      <td>NaN</td>\n",
       "      <td>9602.396341</td>\n",
       "      <td>10358.819277</td>\n",
       "      <td>11087.485714</td>\n",
       "      <td>11976.394737</td>\n",
       "    </tr>\n",
       "    <tr>\n",
       "      <th>6</th>\n",
       "      <td>NaN</td>\n",
       "      <td>9676.042683</td>\n",
       "      <td>10431.618072</td>\n",
       "      <td>10921.928571</td>\n",
       "      <td>12401.884000</td>\n",
       "    </tr>\n",
       "    <tr>\n",
       "      <th>7</th>\n",
       "      <td>NaN</td>\n",
       "      <td>9700.551220</td>\n",
       "      <td>10549.536585</td>\n",
       "      <td>10868.376316</td>\n",
       "      <td>12424.852000</td>\n",
       "    </tr>\n",
       "    <tr>\n",
       "      <th>8</th>\n",
       "      <td>NaN</td>\n",
       "      <td>9719.023171</td>\n",
       "      <td>10564.869512</td>\n",
       "      <td>10811.147368</td>\n",
       "      <td>12523.896000</td>\n",
       "    </tr>\n",
       "    <tr>\n",
       "      <th>9</th>\n",
       "      <td>NaN</td>\n",
       "      <td>9737.656098</td>\n",
       "      <td>10583.601266</td>\n",
       "      <td>10915.257692</td>\n",
       "      <td>12527.571429</td>\n",
       "    </tr>\n",
       "    <tr>\n",
       "      <th>10</th>\n",
       "      <td>9086.488889</td>\n",
       "      <td>9924.225882</td>\n",
       "      <td>10399.845570</td>\n",
       "      <td>11133.269231</td>\n",
       "      <td>12619.073077</td>\n",
       "    </tr>\n",
       "    <tr>\n",
       "      <th>11</th>\n",
       "      <td>9218.122222</td>\n",
       "      <td>9972.757143</td>\n",
       "      <td>NaN</td>\n",
       "      <td>11224.762025</td>\n",
       "      <td>12647.785714</td>\n",
       "    </tr>\n",
       "    <tr>\n",
       "      <th>12</th>\n",
       "      <td>9303.596296</td>\n",
       "      <td>10092.264286</td>\n",
       "      <td>10597.620000</td>\n",
       "      <td>11453.822368</td>\n",
       "      <td>12622.847368</td>\n",
       "    </tr>\n",
       "  </tbody>\n",
       "</table>\n",
       "</div>"
      ],
      "text/plain": [
       "연도         2015          2016          2017          2018          2019\n",
       "월                                                                      \n",
       "1           NaN   9334.029630  10095.132143  10719.148000  11535.540789\n",
       "2           NaN   9361.440000  10110.885714  10766.668000  11574.793421\n",
       "3           NaN   9423.276923  10107.428571  10905.488000  11610.094737\n",
       "4           NaN   9601.993902  10217.232143  10920.728571  11777.876000\n",
       "5           NaN   9602.396341  10358.819277  11087.485714  11976.394737\n",
       "6           NaN   9676.042683  10431.618072  10921.928571  12401.884000\n",
       "7           NaN   9700.551220  10549.536585  10868.376316  12424.852000\n",
       "8           NaN   9719.023171  10564.869512  10811.147368  12523.896000\n",
       "9           NaN   9737.656098  10583.601266  10915.257692  12527.571429\n",
       "10  9086.488889   9924.225882  10399.845570  11133.269231  12619.073077\n",
       "11  9218.122222   9972.757143           NaN  11224.762025  12647.785714\n",
       "12  9303.596296  10092.264286  10597.620000  11453.822368  12622.847368"
      ]
     },
     "execution_count": 38,
     "metadata": {},
     "output_type": "execute_result"
    }
   ],
   "source": [
    "data = last_df.pivot_table(index='월',columns='연도',values='평당분양가격')\n",
    "data"
   ]
  },
  {
   "cell_type": "code",
   "execution_count": 39,
   "id": "ad37ec46-2713-42aa-8fd0-c0177e894e90",
   "metadata": {
    "tags": []
   },
   "outputs": [
    {
     "data": {
      "text/plain": [
       "<AxesSubplot:>"
      ]
     },
     "execution_count": 39,
     "metadata": {},
     "output_type": "execute_result"
    },
    {
     "data": {
      "image/png": "[encoded data removed]",
      "text/plain": [
       "<Figure size 640x480 with 1 Axes>"
      ]
     },
     "metadata": {},
     "output_type": "display_data"
    }
   ],
   "source": [
    "data.plot(kind='box')"
   ]
  },
  {
   "cell_type": "code",
   "execution_count": 40,
   "id": "287e7d24-9260-49eb-b2fe-d732b333ecc3",
   "metadata": {},
   "outputs": [],
   "source": [
    "import seaborn as sns"
   ]
  },
  {
   "cell_type": "code",
   "execution_count": 41,
   "id": "4fe0cf25-4eb1-4de8-920a-2e1962bb09d1",
   "metadata": {
    "tags": []
   },
   "outputs": [
    {
     "data": {
      "text/plain": [
       "<AxesSubplot:xlabel='연도', ylabel='평당분양가격'>"
      ]
     },
     "execution_count": 41,
     "metadata": {},
     "output_type": "execute_result"
    },
    {
     "data": {
      "image/png": "[encoded data removed]",
      "text/plain": [
       "<Figure size 640x480 with 1 Axes>"
      ]
     },
     "metadata": {},
     "output_type": "display_data"
    }
   ],
   "source": [
    "sns.boxplot(data=last_df,x='연도',y='평당분양가격',hue='전용면적')"
   ]
  },
  {
   "cell_type": "code",
   "execution_count": 42,
   "id": "3026bd92-e892-47cc-898c-ea382e86eb4f",
   "metadata": {
    "tags": []
   },
   "outputs": [
    {
     "data": {
      "text/plain": [
       "<AxesSubplot:xlabel='연도', ylabel='평당분양가격'>"
      ]
     },
     "execution_count": 42,
     "metadata": {},
     "output_type": "execute_result"
    },
    {
     "data": {
      "image/png": "[encoded data removed]",
      "text/plain": [
       "<Figure size 640x480 with 1 Axes>"
      ]
     },
     "metadata": {},
     "output_type": "display_data"
    }
   ],
   "source": [
    "sns.violinplot(data=last_df,x='연도',y='평당분양가격')"
   ]
  },
  {
   "cell_type": "code",
   "execution_count": 43,
   "id": "f4cbaf00-ddb2-4135-96e7-3ba02f24de62",
   "metadata": {
    "tags": []
   },
   "outputs": [
    {
     "data": {
      "text/html": [
       "<div>\n",
       "<style scoped>\n",
       "    .dataframe tbody tr th:only-of-type {\n",
       "        vertical-align: middle;\n",
       "    }\n",
       "\n",
       "    .dataframe tbody tr th {\n",
       "        vertical-align: top;\n",
       "    }\n",
       "\n",
       "    .dataframe thead th {\n",
       "        text-align: right;\n",
       "    }\n",
       "</style>\n",
       "<table border=\"1\" class=\"dataframe\">\n",
       "  <thead>\n",
       "    <tr style=\"text-align: right;\">\n",
       "      <th></th>\n",
       "      <th>지역</th>\n",
       "      <th>2013년12월</th>\n",
       "      <th>2014년1월</th>\n",
       "      <th>2014년2월</th>\n",
       "      <th>2014년3월</th>\n",
       "      <th>2014년4월</th>\n",
       "      <th>2014년5월</th>\n",
       "      <th>2014년6월</th>\n",
       "      <th>2014년7월</th>\n",
       "      <th>2014년8월</th>\n",
       "      <th>...</th>\n",
       "      <th>2014년11월</th>\n",
       "      <th>2014년12월</th>\n",
       "      <th>2015년1월</th>\n",
       "      <th>2015년2월</th>\n",
       "      <th>2015년3월</th>\n",
       "      <th>2015년4월</th>\n",
       "      <th>2015년5월</th>\n",
       "      <th>2015년6월</th>\n",
       "      <th>2015년7월</th>\n",
       "      <th>2015년8월</th>\n",
       "    </tr>\n",
       "  </thead>\n",
       "  <tbody>\n",
       "    <tr>\n",
       "      <th>0</th>\n",
       "      <td>서울</td>\n",
       "      <td>18189</td>\n",
       "      <td>17925</td>\n",
       "      <td>17925</td>\n",
       "      <td>18016</td>\n",
       "      <td>18098</td>\n",
       "      <td>19446</td>\n",
       "      <td>18867</td>\n",
       "      <td>18742</td>\n",
       "      <td>19274</td>\n",
       "      <td>...</td>\n",
       "      <td>20242</td>\n",
       "      <td>20269</td>\n",
       "      <td>20670</td>\n",
       "      <td>20670</td>\n",
       "      <td>19415</td>\n",
       "      <td>18842</td>\n",
       "      <td>18367</td>\n",
       "      <td>18374</td>\n",
       "      <td>18152</td>\n",
       "      <td>18443</td>\n",
       "    </tr>\n",
       "    <tr>\n",
       "      <th>1</th>\n",
       "      <td>부산</td>\n",
       "      <td>8111</td>\n",
       "      <td>8111</td>\n",
       "      <td>9078</td>\n",
       "      <td>8965</td>\n",
       "      <td>9402</td>\n",
       "      <td>9501</td>\n",
       "      <td>9453</td>\n",
       "      <td>9457</td>\n",
       "      <td>9411</td>\n",
       "      <td>...</td>\n",
       "      <td>9208</td>\n",
       "      <td>9208</td>\n",
       "      <td>9204</td>\n",
       "      <td>9235</td>\n",
       "      <td>9279</td>\n",
       "      <td>9327</td>\n",
       "      <td>9345</td>\n",
       "      <td>9515</td>\n",
       "      <td>9559</td>\n",
       "      <td>9581</td>\n",
       "    </tr>\n",
       "    <tr>\n",
       "      <th>2</th>\n",
       "      <td>대구</td>\n",
       "      <td>8080</td>\n",
       "      <td>8080</td>\n",
       "      <td>8077</td>\n",
       "      <td>8101</td>\n",
       "      <td>8267</td>\n",
       "      <td>8274</td>\n",
       "      <td>8360</td>\n",
       "      <td>8360</td>\n",
       "      <td>8370</td>\n",
       "      <td>...</td>\n",
       "      <td>8439</td>\n",
       "      <td>8253</td>\n",
       "      <td>8327</td>\n",
       "      <td>8416</td>\n",
       "      <td>8441</td>\n",
       "      <td>8446</td>\n",
       "      <td>8568</td>\n",
       "      <td>8542</td>\n",
       "      <td>8542</td>\n",
       "      <td>8795</td>\n",
       "    </tr>\n",
       "    <tr>\n",
       "      <th>3</th>\n",
       "      <td>인천</td>\n",
       "      <td>10204</td>\n",
       "      <td>10204</td>\n",
       "      <td>10408</td>\n",
       "      <td>10408</td>\n",
       "      <td>10000</td>\n",
       "      <td>9844</td>\n",
       "      <td>10058</td>\n",
       "      <td>9974</td>\n",
       "      <td>9973</td>\n",
       "      <td>...</td>\n",
       "      <td>10020</td>\n",
       "      <td>10020</td>\n",
       "      <td>10017</td>\n",
       "      <td>9876</td>\n",
       "      <td>9876</td>\n",
       "      <td>9938</td>\n",
       "      <td>10551</td>\n",
       "      <td>10443</td>\n",
       "      <td>10443</td>\n",
       "      <td>10449</td>\n",
       "    </tr>\n",
       "    <tr>\n",
       "      <th>4</th>\n",
       "      <td>광주</td>\n",
       "      <td>6098</td>\n",
       "      <td>7326</td>\n",
       "      <td>7611</td>\n",
       "      <td>7346</td>\n",
       "      <td>7346</td>\n",
       "      <td>7523</td>\n",
       "      <td>7659</td>\n",
       "      <td>7612</td>\n",
       "      <td>7622</td>\n",
       "      <td>...</td>\n",
       "      <td>7752</td>\n",
       "      <td>7748</td>\n",
       "      <td>7752</td>\n",
       "      <td>7756</td>\n",
       "      <td>7861</td>\n",
       "      <td>7914</td>\n",
       "      <td>7877</td>\n",
       "      <td>7881</td>\n",
       "      <td>8089</td>\n",
       "      <td>8231</td>\n",
       "    </tr>\n",
       "    <tr>\n",
       "      <th>5</th>\n",
       "      <td>대전</td>\n",
       "      <td>8321</td>\n",
       "      <td>8321</td>\n",
       "      <td>8321</td>\n",
       "      <td>8341</td>\n",
       "      <td>8341</td>\n",
       "      <td>8341</td>\n",
       "      <td>8333</td>\n",
       "      <td>8333</td>\n",
       "      <td>8333</td>\n",
       "      <td>...</td>\n",
       "      <td>8067</td>\n",
       "      <td>8067</td>\n",
       "      <td>8067</td>\n",
       "      <td>8067</td>\n",
       "      <td>8067</td>\n",
       "      <td>8145</td>\n",
       "      <td>8272</td>\n",
       "      <td>8079</td>\n",
       "      <td>8079</td>\n",
       "      <td>8079</td>\n",
       "    </tr>\n",
       "    <tr>\n",
       "      <th>6</th>\n",
       "      <td>울산</td>\n",
       "      <td>8090</td>\n",
       "      <td>8090</td>\n",
       "      <td>8090</td>\n",
       "      <td>8153</td>\n",
       "      <td>8153</td>\n",
       "      <td>8153</td>\n",
       "      <td>8153</td>\n",
       "      <td>8153</td>\n",
       "      <td>8493</td>\n",
       "      <td>...</td>\n",
       "      <td>8891</td>\n",
       "      <td>8891</td>\n",
       "      <td>8526</td>\n",
       "      <td>8526</td>\n",
       "      <td>8629</td>\n",
       "      <td>9380</td>\n",
       "      <td>9192</td>\n",
       "      <td>9190</td>\n",
       "      <td>9190</td>\n",
       "      <td>9215</td>\n",
       "    </tr>\n",
       "    <tr>\n",
       "      <th>7</th>\n",
       "      <td>경기</td>\n",
       "      <td>10855</td>\n",
       "      <td>10855</td>\n",
       "      <td>10791</td>\n",
       "      <td>10784</td>\n",
       "      <td>10876</td>\n",
       "      <td>10646</td>\n",
       "      <td>10266</td>\n",
       "      <td>10124</td>\n",
       "      <td>10134</td>\n",
       "      <td>...</td>\n",
       "      <td>10356</td>\n",
       "      <td>10379</td>\n",
       "      <td>10391</td>\n",
       "      <td>10355</td>\n",
       "      <td>10469</td>\n",
       "      <td>10684</td>\n",
       "      <td>10685</td>\n",
       "      <td>10573</td>\n",
       "      <td>10518</td>\n",
       "      <td>10573</td>\n",
       "    </tr>\n",
       "    <tr>\n",
       "      <th>8</th>\n",
       "      <td>세종</td>\n",
       "      <td>7601</td>\n",
       "      <td>7600</td>\n",
       "      <td>7532</td>\n",
       "      <td>7814</td>\n",
       "      <td>7908</td>\n",
       "      <td>7934</td>\n",
       "      <td>8067</td>\n",
       "      <td>8067</td>\n",
       "      <td>8141</td>\n",
       "      <td>...</td>\n",
       "      <td>8592</td>\n",
       "      <td>8560</td>\n",
       "      <td>8560</td>\n",
       "      <td>8560</td>\n",
       "      <td>8555</td>\n",
       "      <td>8546</td>\n",
       "      <td>8546</td>\n",
       "      <td>8671</td>\n",
       "      <td>8669</td>\n",
       "      <td>8695</td>\n",
       "    </tr>\n",
       "    <tr>\n",
       "      <th>9</th>\n",
       "      <td>강원</td>\n",
       "      <td>6230</td>\n",
       "      <td>6230</td>\n",
       "      <td>6230</td>\n",
       "      <td>6141</td>\n",
       "      <td>6373</td>\n",
       "      <td>6350</td>\n",
       "      <td>6350</td>\n",
       "      <td>6268</td>\n",
       "      <td>6268</td>\n",
       "      <td>...</td>\n",
       "      <td>6365</td>\n",
       "      <td>6365</td>\n",
       "      <td>6348</td>\n",
       "      <td>6350</td>\n",
       "      <td>6182</td>\n",
       "      <td>6924</td>\n",
       "      <td>6846</td>\n",
       "      <td>6986</td>\n",
       "      <td>7019</td>\n",
       "      <td>7008</td>\n",
       "    </tr>\n",
       "    <tr>\n",
       "      <th>10</th>\n",
       "      <td>충북</td>\n",
       "      <td>6589</td>\n",
       "      <td>6589</td>\n",
       "      <td>6611</td>\n",
       "      <td>6625</td>\n",
       "      <td>6678</td>\n",
       "      <td>6598</td>\n",
       "      <td>6587</td>\n",
       "      <td>6586</td>\n",
       "      <td>6586</td>\n",
       "      <td>...</td>\n",
       "      <td>6724</td>\n",
       "      <td>6743</td>\n",
       "      <td>6749</td>\n",
       "      <td>6747</td>\n",
       "      <td>6783</td>\n",
       "      <td>6790</td>\n",
       "      <td>6805</td>\n",
       "      <td>6682</td>\n",
       "      <td>6601</td>\n",
       "      <td>6603</td>\n",
       "    </tr>\n",
       "    <tr>\n",
       "      <th>11</th>\n",
       "      <td>충남</td>\n",
       "      <td>6365</td>\n",
       "      <td>6365</td>\n",
       "      <td>6379</td>\n",
       "      <td>6287</td>\n",
       "      <td>6552</td>\n",
       "      <td>6591</td>\n",
       "      <td>6644</td>\n",
       "      <td>6805</td>\n",
       "      <td>6914</td>\n",
       "      <td>...</td>\n",
       "      <td>6940</td>\n",
       "      <td>6989</td>\n",
       "      <td>6976</td>\n",
       "      <td>6980</td>\n",
       "      <td>7161</td>\n",
       "      <td>7017</td>\n",
       "      <td>6975</td>\n",
       "      <td>6939</td>\n",
       "      <td>6935</td>\n",
       "      <td>6942</td>\n",
       "    </tr>\n",
       "    <tr>\n",
       "      <th>12</th>\n",
       "      <td>전북</td>\n",
       "      <td>6282</td>\n",
       "      <td>6281</td>\n",
       "      <td>5946</td>\n",
       "      <td>5966</td>\n",
       "      <td>6277</td>\n",
       "      <td>6306</td>\n",
       "      <td>6351</td>\n",
       "      <td>6319</td>\n",
       "      <td>6436</td>\n",
       "      <td>...</td>\n",
       "      <td>6583</td>\n",
       "      <td>6583</td>\n",
       "      <td>6583</td>\n",
       "      <td>6583</td>\n",
       "      <td>6542</td>\n",
       "      <td>6551</td>\n",
       "      <td>6556</td>\n",
       "      <td>6601</td>\n",
       "      <td>6750</td>\n",
       "      <td>6580</td>\n",
       "    </tr>\n",
       "    <tr>\n",
       "      <th>13</th>\n",
       "      <td>전남</td>\n",
       "      <td>5678</td>\n",
       "      <td>5678</td>\n",
       "      <td>5678</td>\n",
       "      <td>5696</td>\n",
       "      <td>5736</td>\n",
       "      <td>5656</td>\n",
       "      <td>5609</td>\n",
       "      <td>5780</td>\n",
       "      <td>5685</td>\n",
       "      <td>...</td>\n",
       "      <td>5768</td>\n",
       "      <td>5784</td>\n",
       "      <td>5784</td>\n",
       "      <td>5833</td>\n",
       "      <td>5825</td>\n",
       "      <td>5940</td>\n",
       "      <td>6050</td>\n",
       "      <td>6243</td>\n",
       "      <td>6286</td>\n",
       "      <td>6289</td>\n",
       "    </tr>\n",
       "    <tr>\n",
       "      <th>14</th>\n",
       "      <td>경북</td>\n",
       "      <td>6168</td>\n",
       "      <td>6168</td>\n",
       "      <td>6234</td>\n",
       "      <td>6317</td>\n",
       "      <td>6412</td>\n",
       "      <td>6409</td>\n",
       "      <td>6554</td>\n",
       "      <td>6556</td>\n",
       "      <td>6563</td>\n",
       "      <td>...</td>\n",
       "      <td>6881</td>\n",
       "      <td>6989</td>\n",
       "      <td>6992</td>\n",
       "      <td>6953</td>\n",
       "      <td>6997</td>\n",
       "      <td>7006</td>\n",
       "      <td>6966</td>\n",
       "      <td>6887</td>\n",
       "      <td>7035</td>\n",
       "      <td>7037</td>\n",
       "    </tr>\n",
       "    <tr>\n",
       "      <th>15</th>\n",
       "      <td>경남</td>\n",
       "      <td>6473</td>\n",
       "      <td>6485</td>\n",
       "      <td>6502</td>\n",
       "      <td>6610</td>\n",
       "      <td>6599</td>\n",
       "      <td>6610</td>\n",
       "      <td>6615</td>\n",
       "      <td>6613</td>\n",
       "      <td>6606</td>\n",
       "      <td>...</td>\n",
       "      <td>7125</td>\n",
       "      <td>7332</td>\n",
       "      <td>7592</td>\n",
       "      <td>7588</td>\n",
       "      <td>7668</td>\n",
       "      <td>7683</td>\n",
       "      <td>7717</td>\n",
       "      <td>7715</td>\n",
       "      <td>7723</td>\n",
       "      <td>7665</td>\n",
       "    </tr>\n",
       "    <tr>\n",
       "      <th>16</th>\n",
       "      <td>제주</td>\n",
       "      <td>7674</td>\n",
       "      <td>7900</td>\n",
       "      <td>7900</td>\n",
       "      <td>7900</td>\n",
       "      <td>7900</td>\n",
       "      <td>7900</td>\n",
       "      <td>7914</td>\n",
       "      <td>7914</td>\n",
       "      <td>7914</td>\n",
       "      <td>...</td>\n",
       "      <td>7724</td>\n",
       "      <td>7739</td>\n",
       "      <td>7739</td>\n",
       "      <td>7739</td>\n",
       "      <td>7826</td>\n",
       "      <td>7285</td>\n",
       "      <td>7285</td>\n",
       "      <td>7343</td>\n",
       "      <td>7343</td>\n",
       "      <td>7343</td>\n",
       "    </tr>\n",
       "  </tbody>\n",
       "</table>\n",
       "<p>17 rows × 22 columns</p>\n",
       "</div>"
      ],
      "text/plain": [
       "    지역  2013년12월  2014년1월  2014년2월  2014년3월  2014년4월  2014년5월  2014년6월  \\\n",
       "0   서울     18189    17925    17925    18016    18098    19446    18867   \n",
       "1   부산      8111     8111     9078     8965     9402     9501     9453   \n",
       "2   대구      8080     8080     8077     8101     8267     8274     8360   \n",
       "3   인천     10204    10204    10408    10408    10000     9844    10058   \n",
       "4   광주      6098     7326     7611     7346     7346     7523     7659   \n",
       "5   대전      8321     8321     8321     8341     8341     8341     8333   \n",
       "6   울산      8090     8090     8090     8153     8153     8153     8153   \n",
       "7   경기     10855    10855    10791    10784    10876    10646    10266   \n",
       "8   세종      7601     7600     7532     7814     7908     7934     8067   \n",
       "9   강원      6230     6230     6230     6141     6373     6350     6350   \n",
       "10  충북      6589     6589     6611     6625     6678     6598     6587   \n",
       "11  충남      6365     6365     6379     6287     6552     6591     6644   \n",
       "12  전북      6282     6281     5946     5966     6277     6306     6351   \n",
       "13  전남      5678     5678     5678     5696     5736     5656     5609   \n",
       "14  경북      6168     6168     6234     6317     6412     6409     6554   \n",
       "15  경남      6473     6485     6502     6610     6599     6610     6615   \n",
       "16  제주      7674     7900     7900     7900     7900     7900     7914   \n",
       "\n",
       "    2014년7월  2014년8월  ...  2014년11월  2014년12월  2015년1월  2015년2월  2015년3월  \\\n",
       "0     18742    19274  ...     20242     20269    20670    20670    19415   \n",
       "1      9457     9411  ...      9208      9208     9204     9235     9279   \n",
       "2      8360     8370  ...      8439      8253     8327     8416     8441   \n",
       "3      9974     9973  ...     10020     10020    10017     9876     9876   \n",
       "4      7612     7622  ...      7752      7748     7752     7756     7861   \n",
       "5      8333     8333  ...      8067      8067     8067     8067     8067   \n",
       "6      8153     8493  ...      8891      8891     8526     8526     8629   \n",
       "7     10124    10134  ...     10356     10379    10391    10355    10469   \n",
       "8      8067     8141  ...      8592      8560     8560     8560     8555   \n",
       "9      6268     6268  ...      6365      6365     6348     6350     6182   \n",
       "10     6586     6586  ...      6724      6743     6749     6747     6783   \n",
       "11     6805     6914  ...      6940      6989     6976     6980     7161   \n",
       "12     6319     6436  ...      6583      6583     6583     6583     6542   \n",
       "13     5780     5685  ...      5768      5784     5784     5833     5825   \n",
       "14     6556     6563  ...      6881      6989     6992     6953     6997   \n",
       "15     6613     6606  ...      7125      7332     7592     7588     7668   \n",
       "16     7914     7914  ...      7724      7739     7739     7739     7826   \n",
       "\n",
       "    2015년4월  2015년5월  2015년6월  2015년7월  2015년8월  \n",
       "0     18842    18367    18374    18152    18443  \n",
       "1      9327     9345     9515     9559     9581  \n",
       "2      8446     8568     8542     8542     8795  \n",
       "3      9938    10551    10443    10443    10449  \n",
       "4      7914     7877     7881     8089     8231  \n",
       "5      8145     8272     8079     8079     8079  \n",
       "6      9380     9192     9190     9190     9215  \n",
       "7     10684    10685    10573    10518    10573  \n",
       "8      8546     8546     8671     8669     8695  \n",
       "9      6924     6846     6986     7019     7008  \n",
       "10     6790     6805     6682     6601     6603  \n",
       "11     7017     6975     6939     6935     6942  \n",
       "12     6551     6556     6601     6750     6580  \n",
       "13     5940     6050     6243     6286     6289  \n",
       "14     7006     6966     6887     7035     7037  \n",
       "15     7683     7717     7715     7723     7665  \n",
       "16     7285     7285     7343     7343     7343  \n",
       "\n",
       "[17 rows x 22 columns]"
      ]
     },
     "execution_count": 43,
     "metadata": {},
     "output_type": "execute_result"
    }
   ],
   "source": [
    "first_df"
   ]
  },
  {
   "cell_type": "code",
   "execution_count": 44,
   "id": "f2b77c96-9400-42dc-8e09-294adfdfe029",
   "metadata": {},
   "outputs": [],
   "source": [
    "first_df_melt = first_df.melt(id_vars='지역',var_name='기간',value_name='평당분양가격')"
   ]
  },
  {
   "cell_type": "code",
   "execution_count": 45,
   "id": "b30c2f5a-6462-4f7b-8bf4-2ae2eb1693f2",
   "metadata": {},
   "outputs": [
    {
     "data": {
      "text/html": [
       "<div>\n",
       "<style scoped>\n",
       "    .dataframe tbody tr th:only-of-type {\n",
       "        vertical-align: middle;\n",
       "    }\n",
       "\n",
       "    .dataframe tbody tr th {\n",
       "        vertical-align: top;\n",
       "    }\n",
       "\n",
       "    .dataframe thead th {\n",
       "        text-align: right;\n",
       "    }\n",
       "</style>\n",
       "<table border=\"1\" class=\"dataframe\">\n",
       "  <thead>\n",
       "    <tr style=\"text-align: right;\">\n",
       "      <th></th>\n",
       "      <th>지역</th>\n",
       "      <th>기간</th>\n",
       "      <th>평당분양가격</th>\n",
       "    </tr>\n",
       "  </thead>\n",
       "  <tbody>\n",
       "    <tr>\n",
       "      <th>0</th>\n",
       "      <td>서울</td>\n",
       "      <td>2013년12월</td>\n",
       "      <td>18189</td>\n",
       "    </tr>\n",
       "    <tr>\n",
       "      <th>1</th>\n",
       "      <td>부산</td>\n",
       "      <td>2013년12월</td>\n",
       "      <td>8111</td>\n",
       "    </tr>\n",
       "  </tbody>\n",
       "</table>\n",
       "</div>"
      ],
      "text/plain": [
       "   지역        기간  평당분양가격\n",
       "0  서울  2013년12월   18189\n",
       "1  부산  2013년12월    8111"
      ]
     },
     "execution_count": 45,
     "metadata": {},
     "output_type": "execute_result"
    }
   ],
   "source": [
    "first_df_melt.head(2)"
   ]
  },
  {
   "cell_type": "code",
   "execution_count": 46,
   "id": "12a5c3e7-67fb-483b-8cbb-edb8dc692aab",
   "metadata": {},
   "outputs": [
    {
     "data": {
      "text/plain": [
       "Index(['지역명', '연도', '월', '분양가격', '평당분양가격', '전용면적'], dtype='object')"
      ]
     },
     "execution_count": 46,
     "metadata": {},
     "output_type": "execute_result"
    }
   ],
   "source": [
    "last_df.columns"
   ]
  },
  {
   "cell_type": "code",
   "execution_count": 47,
   "id": "d2cad18c-bd1e-4062-81f9-9eed8c8295ca",
   "metadata": {
    "tags": []
   },
   "outputs": [
    {
     "name": "stdout",
     "output_type": "stream",
     "text": [
      "<class 'pandas.core.frame.DataFrame'>\n",
      "RangeIndex: 4335 entries, 0 to 4334\n",
      "Data columns (total 6 columns):\n",
      " #   Column  Non-Null Count  Dtype  \n",
      "---  ------  --------------  -----  \n",
      " 0   지역명     4335 non-null   object \n",
      " 1   연도      4335 non-null   int64  \n",
      " 2   월       4335 non-null   int64  \n",
      " 3   분양가격    3957 non-null   float64\n",
      " 4   평당분양가격  3957 non-null   float64\n",
      " 5   전용면적    4335 non-null   object \n",
      "dtypes: float64(2), int64(2), object(2)\n",
      "memory usage: 203.3+ KB\n"
     ]
    }
   ],
   "source": [
    "last_df.info()"
   ]
  },
  {
   "cell_type": "code",
   "execution_count": 48,
   "id": "676851b0-0d58-4a2f-bec9-fa9af70b482f",
   "metadata": {},
   "outputs": [
    {
     "data": {
      "text/plain": [
       "Index(['지역', '기간', '평당분양가격'], dtype='object')"
      ]
     },
     "execution_count": 48,
     "metadata": {},
     "output_type": "execute_result"
    }
   ],
   "source": [
    "first_df_melt.columns"
   ]
  },
  {
   "cell_type": "code",
   "execution_count": 49,
   "id": "72c2f5c1-0c6f-487b-89ec-000ba2c2a437",
   "metadata": {},
   "outputs": [],
   "source": [
    "first_df_melt['연도'] = first_df_melt['기간'].str.split('년').str.get(0).astype('int')"
   ]
  },
  {
   "cell_type": "code",
   "execution_count": 50,
   "id": "e8331329-5854-48e0-947c-fffa5f9a956b",
   "metadata": {},
   "outputs": [],
   "source": [
    "first_df_melt['월'] = first_df_melt['기간'].str.split('년').str.get(1).str.replace('월','').astype('int')"
   ]
  },
  {
   "cell_type": "code",
   "execution_count": 51,
   "id": "e5274626-54ba-4e6e-9dc9-5bda324aecef",
   "metadata": {
    "tags": []
   },
   "outputs": [],
   "source": [
    "first_df_melt.columns = ['지역명', '기간', '평당분양가격', '연도', '월']"
   ]
  },
  {
   "cell_type": "code",
   "execution_count": 52,
   "id": "d38599d2-6da4-4c8f-9180-375f9c9ec89f",
   "metadata": {},
   "outputs": [],
   "source": [
    "cols =['지역명', '연도', '월','평당분양가격']"
   ]
  },
  {
   "cell_type": "code",
   "execution_count": 53,
   "id": "144ee217-59dd-4044-a1e6-23893ae89aa4",
   "metadata": {},
   "outputs": [],
   "source": [
    "data_last = last_df.loc[last_df['전용면적']=='전체',cols]"
   ]
  },
  {
   "cell_type": "code",
   "execution_count": 54,
   "id": "a374ee6d-0af7-4a23-8803-234512f3125b",
   "metadata": {},
   "outputs": [],
   "source": [
    "data_first = first_df_melt[cols]"
   ]
  },
  {
   "cell_type": "code",
   "execution_count": 55,
   "id": "9b38383d-158c-40e8-9d4c-d3efa5cf80a2",
   "metadata": {},
   "outputs": [],
   "source": [
    "result = pd.concat([data_first,data_last])"
   ]
  },
  {
   "cell_type": "code",
   "execution_count": 56,
   "id": "6f199b96-5639-41d2-8af1-06e2a0d2447a",
   "metadata": {},
   "outputs": [
    {
     "data": {
      "text/html": [
       "<div>\n",
       "<style scoped>\n",
       "    .dataframe tbody tr th:only-of-type {\n",
       "        vertical-align: middle;\n",
       "    }\n",
       "\n",
       "    .dataframe tbody tr th {\n",
       "        vertical-align: top;\n",
       "    }\n",
       "\n",
       "    .dataframe thead th {\n",
       "        text-align: right;\n",
       "    }\n",
       "</style>\n",
       "<table border=\"1\" class=\"dataframe\">\n",
       "  <thead>\n",
       "    <tr style=\"text-align: right;\">\n",
       "      <th></th>\n",
       "      <th>지역명</th>\n",
       "      <th>연도</th>\n",
       "      <th>월</th>\n",
       "      <th>평당분양가격</th>\n",
       "    </tr>\n",
       "  </thead>\n",
       "  <tbody>\n",
       "    <tr>\n",
       "      <th>0</th>\n",
       "      <td>서울</td>\n",
       "      <td>2013</td>\n",
       "      <td>12</td>\n",
       "      <td>18189.0</td>\n",
       "    </tr>\n",
       "    <tr>\n",
       "      <th>1</th>\n",
       "      <td>부산</td>\n",
       "      <td>2013</td>\n",
       "      <td>12</td>\n",
       "      <td>8111.0</td>\n",
       "    </tr>\n",
       "    <tr>\n",
       "      <th>2</th>\n",
       "      <td>대구</td>\n",
       "      <td>2013</td>\n",
       "      <td>12</td>\n",
       "      <td>8080.0</td>\n",
       "    </tr>\n",
       "    <tr>\n",
       "      <th>3</th>\n",
       "      <td>인천</td>\n",
       "      <td>2013</td>\n",
       "      <td>12</td>\n",
       "      <td>10204.0</td>\n",
       "    </tr>\n",
       "    <tr>\n",
       "      <th>4</th>\n",
       "      <td>광주</td>\n",
       "      <td>2013</td>\n",
       "      <td>12</td>\n",
       "      <td>6098.0</td>\n",
       "    </tr>\n",
       "    <tr>\n",
       "      <th>...</th>\n",
       "      <td>...</td>\n",
       "      <td>...</td>\n",
       "      <td>...</td>\n",
       "      <td>...</td>\n",
       "    </tr>\n",
       "    <tr>\n",
       "      <th>4310</th>\n",
       "      <td>전북</td>\n",
       "      <td>2019</td>\n",
       "      <td>12</td>\n",
       "      <td>8144.4</td>\n",
       "    </tr>\n",
       "    <tr>\n",
       "      <th>4315</th>\n",
       "      <td>전남</td>\n",
       "      <td>2019</td>\n",
       "      <td>12</td>\n",
       "      <td>8091.6</td>\n",
       "    </tr>\n",
       "    <tr>\n",
       "      <th>4320</th>\n",
       "      <td>경북</td>\n",
       "      <td>2019</td>\n",
       "      <td>12</td>\n",
       "      <td>9616.2</td>\n",
       "    </tr>\n",
       "    <tr>\n",
       "      <th>4325</th>\n",
       "      <td>경남</td>\n",
       "      <td>2019</td>\n",
       "      <td>12</td>\n",
       "      <td>10107.9</td>\n",
       "    </tr>\n",
       "    <tr>\n",
       "      <th>4330</th>\n",
       "      <td>제주</td>\n",
       "      <td>2019</td>\n",
       "      <td>12</td>\n",
       "      <td>12810.6</td>\n",
       "    </tr>\n",
       "  </tbody>\n",
       "</table>\n",
       "<p>1224 rows × 4 columns</p>\n",
       "</div>"
      ],
      "text/plain": [
       "     지역명    연도   월   평당분양가격\n",
       "0     서울  2013  12  18189.0\n",
       "1     부산  2013  12   8111.0\n",
       "2     대구  2013  12   8080.0\n",
       "3     인천  2013  12  10204.0\n",
       "4     광주  2013  12   6098.0\n",
       "...   ..   ...  ..      ...\n",
       "4310  전북  2019  12   8144.4\n",
       "4315  전남  2019  12   8091.6\n",
       "4320  경북  2019  12   9616.2\n",
       "4325  경남  2019  12  10107.9\n",
       "4330  제주  2019  12  12810.6\n",
       "\n",
       "[1224 rows x 4 columns]"
      ]
     },
     "execution_count": 56,
     "metadata": {},
     "output_type": "execute_result"
    }
   ],
   "source": [
    "result"
   ]
  },
  {
   "cell_type": "code",
   "execution_count": null,
   "id": "469f4201-3527-4d30-baff-e548ab178fb9",
   "metadata": {},
   "outputs": [],
   "source": []
  }
 ],
 "metadata": {
  "kernelspec": {
   "display_name": "Python 3 (ipykernel)",
   "language": "python",
   "name": "python3"
  },
  "language_info": {
   "codemirror_mode": {
    "name": "ipython",
    "version": 3
   },
   "file_extension": ".py",
   "mimetype": "text/x-python",
   "name": "python",
   "nbconvert_exporter": "python",
   "pygments_lexer": "ipython3",
   "version": "3.9.13"
  }
 },
 "nbformat": 4,
 "nbformat_minor": 5
}
