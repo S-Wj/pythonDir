{
 "cells": [
  {
   "cell_type": "markdown",
   "id": "a489a594-5cde-4f61-b0ff-aebd2b158397",
   "metadata": {},
   "source": [
    "# 나만의 데이터 만들기"
   ]
  },
  {
   "cell_type": "code",
   "execution_count": 2,
   "id": "4aa2bd64-35d3-4e04-a1fc-a29d5acb4822",
   "metadata": {},
   "outputs": [],
   "source": [
    "import pandas as pd"
   ]
  },
  {
   "cell_type": "markdown",
   "id": "5f798734-a61b-49c2-b9ed-5445ddde7c2f",
   "metadata": {
    "tags": []
   },
   "source": [
    "## 1. 시리즈 만들기"
   ]
  },
  {
   "cell_type": "code",
   "execution_count": 4,
   "id": "9ad09ca9-1e29-436e-b975-f0977cd0f122",
   "metadata": {},
   "outputs": [],
   "source": [
    "s = pd.Series(['banana',42])"
   ]
  },
  {
   "cell_type": "code",
   "execution_count": 5,
   "id": "1bb95cc9-6379-4dd9-9a77-dadc3259c0e9",
   "metadata": {},
   "outputs": [
    {
     "data": {
      "text/plain": [
       "0    banana\n",
       "1        42\n",
       "dtype: object"
      ]
     },
     "execution_count": 5,
     "metadata": {},
     "output_type": "execute_result"
    }
   ],
   "source": [
    "s"
   ]
  },
  {
   "cell_type": "code",
   "execution_count": 6,
   "id": "99307dc9-c4a9-443a-b28a-d69cce3e9e56",
   "metadata": {},
   "outputs": [],
   "source": [
    "s = pd.Series(['Wes','pandas'],index=['Person','Who'])"
   ]
  },
  {
   "cell_type": "code",
   "execution_count": 7,
   "id": "ddf97e1f-4f47-490f-9a1a-f5cae6687839",
   "metadata": {},
   "outputs": [
    {
     "data": {
      "text/plain": [
       "Person       Wes\n",
       "Who       pandas\n",
       "dtype: object"
      ]
     },
     "execution_count": 7,
     "metadata": {},
     "output_type": "execute_result"
    }
   ],
   "source": [
    "s"
   ]
  },
  {
   "cell_type": "markdown",
   "id": "0e626bc3-2d65-4476-aa43-13a91d27a4b9",
   "metadata": {},
   "source": [
    "## 2. 데이터 프레임 만들기"
   ]
  },
  {
   "cell_type": "markdown",
   "id": "0d1330c9-27dc-458e-a60d-789634ff03e2",
   "metadata": {},
   "source": [
    "DF 형태로 데이터를 저장하는게 가장 많이 사용된다.\n",
    "\n",
    "저장되는 순서는 어차피 추출할때 원하는 순서로 추출하면 되기 때문에 \n",
    "\n",
    "별로 상관이 없어서 이런 형태로 가장 많이 사용된다."
   ]
  },
  {
   "cell_type": "code",
   "execution_count": 8,
   "id": "b5f842bd-a677-4034-bab8-b37dd82ceea1",
   "metadata": {},
   "outputs": [
    {
     "name": "stdout",
     "output_type": "stream",
     "text": [
      "                Name    Occupation        Born        Died  Age\n",
      "0  Rosaline Franklin       Chemist  1928-07-25  1958-04-16   37\n",
      "1     William Gosset  Statistician  1876-06-13  1937-10-16   61\n"
     ]
    }
   ],
   "source": [
    "scientists = pd.DataFrame({\n",
    "    'Name' : ['Rosaline Franklin', 'William Gosset'],\n",
    "    'Occupation' : ['Chemist', 'Statistician'],\n",
    "    'Born' : ['1928-07-25', '1876-06-13'],\n",
    "    'Died' : ['1958-04-16', '1937-10-16'],\n",
    "    'Age' : [37, 61],}\n",
    ")\n",
    "print(scientists)"
   ]
  },
  {
   "cell_type": "markdown",
   "id": "22855cf3-023a-497d-96f3-ad2632672196",
   "metadata": {},
   "source": [
    "이런 식으로 데이터 프레임을 선언해서 저장해주면 된다."
   ]
  },
  {
   "cell_type": "markdown",
   "id": "c792e90e-275c-4765-a0ad-6c545a972b79",
   "metadata": {},
   "source": [
    "- index=['', '']\n",
    "\n",
    "- columns=['', '']\n",
    "\n",
    "인덱스나 columns 를 따로 추가해서 넣는 것도 가능하긴 하다.\n",
    "\n",
    "둘 다 리스트 형태로 데이터를 넣는다.\n",
    "\n",
    "따라서 컬럼을 원하는 순서대로 추가할 때 이런식으로 삽입 가능하다."
   ]
  },
  {
   "cell_type": "markdown",
   "id": "bd8d2212-aa7c-4522-bddc-677e72a25b20",
   "metadata": {},
   "source": [
    "dictionery 형태로 저장하는 방법은 반드시 순서를 지켜서 데이터를 입력해야할 때 많이 사용하게 된다."
   ]
  },
  {
   "cell_type": "code",
   "execution_count": 16,
   "id": "4ea2d079-f433-4dd5-b08e-8a21cf315cad",
   "metadata": {},
   "outputs": [],
   "source": [
    "df = pd.read_csv('data/scientists.csv')"
   ]
  },
  {
   "cell_type": "code",
   "execution_count": 17,
   "id": "9971cdee-cb43-4583-a70a-e7b9f853c2bf",
   "metadata": {},
   "outputs": [
    {
     "data": {
      "text/plain": [
       "RangeIndex(start=0, stop=8, step=1)"
      ]
     },
     "execution_count": 17,
     "metadata": {},
     "output_type": "execute_result"
    }
   ],
   "source": [
    "df.index"
   ]
  },
  {
   "cell_type": "code",
   "execution_count": 18,
   "id": "93451576-ac9c-4a4e-ab81-ff7cf4b331c1",
   "metadata": {},
   "outputs": [
    {
     "data": {
      "text/plain": [
       "Index(['Name', 'Born', 'Died', 'Age', 'Occupation'], dtype='object')"
      ]
     },
     "execution_count": 18,
     "metadata": {},
     "output_type": "execute_result"
    }
   ],
   "source": [
    "df.columns\n",
    "# 여기선 괄호 안써도 되지만"
   ]
  },
  {
   "cell_type": "code",
   "execution_count": 19,
   "id": "fe4f8931-9999-4c47-867b-d2d8751c1327",
   "metadata": {},
   "outputs": [
    {
     "data": {
      "text/plain": [
       "array([['Rosaline Franklin', '1920-07-25', '1958-04-16', 37, 'Chemist'],\n",
       "       ['William Gosset', '1876-06-13', '1937-10-16', 61, 'Statistician'],\n",
       "       ['Florence Nightingale', '1820-05-12', '1910-08-13', 90, 'Nurse'],\n",
       "       ['Marie Curie', '1867-11-07', '1934-07-04', 66, 'Chemist'],\n",
       "       ['Rachel Carson', '1907-05-27', '1964-04-14', 56, 'Biologist'],\n",
       "       ['John Snow', '1813-03-15', '1858-06-16', 45, 'Physician'],\n",
       "       ['Alan Turing', '1912-06-23', '1954-06-07', 41,\n",
       "        'Computer Scientist'],\n",
       "       ['Johann Gauss', '1777-04-30', '1855-02-23', 77, 'Mathematician']],\n",
       "      dtype=object)"
      ]
     },
     "execution_count": 19,
     "metadata": {},
     "output_type": "execute_result"
    }
   ],
   "source": [
    "df.values"
   ]
  },
  {
   "cell_type": "code",
   "execution_count": 21,
   "id": "5d98ff12-568d-4cf6-b1c8-2b6d56d08db1",
   "metadata": {},
   "outputs": [
    {
     "data": {
      "text/plain": [
       "Index(['Name', 'Born', 'Died', 'Age', 'Occupation'], dtype='object')"
      ]
     },
     "execution_count": 21,
     "metadata": {},
     "output_type": "execute_result"
    }
   ],
   "source": [
    "df.keys()\n",
    "# 여기선 괄호를 써줘야 함."
   ]
  },
  {
   "cell_type": "code",
   "execution_count": 22,
   "id": "c0d6b96f-707c-4da5-b00b-c3b5b07ba422",
   "metadata": {},
   "outputs": [
    {
     "data": {
      "text/plain": [
       "0    37\n",
       "1    61\n",
       "2    90\n",
       "3    66\n",
       "4    56\n",
       "5    45\n",
       "6    41\n",
       "7    77\n",
       "Name: Age, dtype: int64"
      ]
     },
     "execution_count": 22,
     "metadata": {},
     "output_type": "execute_result"
    }
   ],
   "source": [
    "df['Age']"
   ]
  },
  {
   "cell_type": "code",
   "execution_count": 23,
   "id": "bacc1612-6681-46ba-8dc8-992d3766c0ac",
   "metadata": {},
   "outputs": [
    {
     "data": {
      "text/plain": [
       "59.125"
      ]
     },
     "execution_count": 23,
     "metadata": {},
     "output_type": "execute_result"
    }
   ],
   "source": [
    "df['Age'].mean()"
   ]
  },
  {
   "cell_type": "code",
   "execution_count": 24,
   "id": "2fb65666-f798-4d46-9f28-195903e81ec0",
   "metadata": {},
   "outputs": [
    {
     "data": {
      "text/plain": [
       "37"
      ]
     },
     "execution_count": 24,
     "metadata": {},
     "output_type": "execute_result"
    }
   ],
   "source": [
    "df['Age'].min()"
   ]
  },
  {
   "cell_type": "code",
   "execution_count": 25,
   "id": "274fdb5e-5c3a-411e-b5c9-d1771d757b83",
   "metadata": {},
   "outputs": [
    {
     "data": {
      "text/plain": [
       "90"
      ]
     },
     "execution_count": 25,
     "metadata": {},
     "output_type": "execute_result"
    }
   ],
   "source": [
    "df['Age'].max()"
   ]
  },
  {
   "cell_type": "code",
   "execution_count": 27,
   "id": "98d2f396-4d56-48b9-87d6-f9515380f989",
   "metadata": {},
   "outputs": [
    {
     "data": {
      "text/plain": [
       "18.325918413937288"
      ]
     },
     "execution_count": 27,
     "metadata": {},
     "output_type": "execute_result"
    }
   ],
   "source": [
    "df['Age'].std()\n",
    "# 표쥰 편차"
   ]
  },
  {
   "attachments": {
    "005390bb-a52e-4b8e-93ba-dfa9636cc150.png": {
     "image/png": "[encoded data removed]"
    },
    "c7f4051c-ee67-4edc-914d-389f7c09c39e.png": {
     "image/png": "[encoded data removed]"
    }
   },
   "cell_type": "markdown",
   "id": "db57ef99-5b40-4927-89e2-314dfa0e6d78",
   "metadata": {},
   "source": [
    "- 시리즈 메서드 정리\n",
    "\n",
    "![image.png](attachment:c7f4051c-ee67-4edc-914d-389f7c09c39e.png)\n",
    "![image.png](attachment:005390bb-a52e-4b8e-93ba-dfa9636cc150.png)\n",
    "\n",
    "- median : 위치 상에서 중간에 있는 데이터 값을 추출하는데\n",
    "\n",
    "추출하는 데이터의 개수가 짝수라면 중간에 있는 두개의 수의 평균 값을 계산해서 보여준다."
   ]
  },
  {
   "cell_type": "code",
   "execution_count": 30,
   "id": "b79be771-0c72-436d-8a05-dd0007fb1636",
   "metadata": {},
   "outputs": [
    {
     "data": {
      "text/html": [
       "<div>\n",
       "<style scoped>\n",
       "    .dataframe tbody tr th:only-of-type {\n",
       "        vertical-align: middle;\n",
       "    }\n",
       "\n",
       "    .dataframe tbody tr th {\n",
       "        vertical-align: top;\n",
       "    }\n",
       "\n",
       "    .dataframe thead th {\n",
       "        text-align: right;\n",
       "    }\n",
       "</style>\n",
       "<table border=\"1\" class=\"dataframe\">\n",
       "  <thead>\n",
       "    <tr style=\"text-align: right;\">\n",
       "      <th></th>\n",
       "      <th>Age</th>\n",
       "    </tr>\n",
       "  </thead>\n",
       "  <tbody>\n",
       "    <tr>\n",
       "      <th>count</th>\n",
       "      <td>8.000000</td>\n",
       "    </tr>\n",
       "    <tr>\n",
       "      <th>mean</th>\n",
       "      <td>59.125000</td>\n",
       "    </tr>\n",
       "    <tr>\n",
       "      <th>std</th>\n",
       "      <td>18.325918</td>\n",
       "    </tr>\n",
       "    <tr>\n",
       "      <th>min</th>\n",
       "      <td>37.000000</td>\n",
       "    </tr>\n",
       "    <tr>\n",
       "      <th>25%</th>\n",
       "      <td>44.000000</td>\n",
       "    </tr>\n",
       "    <tr>\n",
       "      <th>50%</th>\n",
       "      <td>58.500000</td>\n",
       "    </tr>\n",
       "    <tr>\n",
       "      <th>75%</th>\n",
       "      <td>68.750000</td>\n",
       "    </tr>\n",
       "    <tr>\n",
       "      <th>max</th>\n",
       "      <td>90.000000</td>\n",
       "    </tr>\n",
       "  </tbody>\n",
       "</table>\n",
       "</div>"
      ],
      "text/plain": [
       "             Age\n",
       "count   8.000000\n",
       "mean   59.125000\n",
       "std    18.325918\n",
       "min    37.000000\n",
       "25%    44.000000\n",
       "50%    58.500000\n",
       "75%    68.750000\n",
       "max    90.000000"
      ]
     },
     "execution_count": 30,
     "metadata": {},
     "output_type": "execute_result"
    }
   ],
   "source": [
    "df.describe()"
   ]
  },
  {
   "cell_type": "code",
   "execution_count": 29,
   "id": "e8437a15-7f2b-4cea-8a02-9ed301b4ac7f",
   "metadata": {},
   "outputs": [
    {
     "data": {
      "text/html": [
       "<div>\n",
       "<style scoped>\n",
       "    .dataframe tbody tr th:only-of-type {\n",
       "        vertical-align: middle;\n",
       "    }\n",
       "\n",
       "    .dataframe tbody tr th {\n",
       "        vertical-align: top;\n",
       "    }\n",
       "\n",
       "    .dataframe thead th {\n",
       "        text-align: right;\n",
       "    }\n",
       "</style>\n",
       "<table border=\"1\" class=\"dataframe\">\n",
       "  <thead>\n",
       "    <tr style=\"text-align: right;\">\n",
       "      <th></th>\n",
       "      <th>Name</th>\n",
       "      <th>Born</th>\n",
       "      <th>Died</th>\n",
       "      <th>Age</th>\n",
       "      <th>Occupation</th>\n",
       "    </tr>\n",
       "  </thead>\n",
       "  <tbody>\n",
       "    <tr>\n",
       "      <th>0</th>\n",
       "      <td>Rosaline Franklin</td>\n",
       "      <td>1920-07-25</td>\n",
       "      <td>1958-04-16</td>\n",
       "      <td>37</td>\n",
       "      <td>Chemist</td>\n",
       "    </tr>\n",
       "    <tr>\n",
       "      <th>1</th>\n",
       "      <td>William Gosset</td>\n",
       "      <td>1876-06-13</td>\n",
       "      <td>1937-10-16</td>\n",
       "      <td>61</td>\n",
       "      <td>Statistician</td>\n",
       "    </tr>\n",
       "    <tr>\n",
       "      <th>2</th>\n",
       "      <td>Florence Nightingale</td>\n",
       "      <td>1820-05-12</td>\n",
       "      <td>1910-08-13</td>\n",
       "      <td>90</td>\n",
       "      <td>Nurse</td>\n",
       "    </tr>\n",
       "    <tr>\n",
       "      <th>3</th>\n",
       "      <td>Marie Curie</td>\n",
       "      <td>1867-11-07</td>\n",
       "      <td>1934-07-04</td>\n",
       "      <td>66</td>\n",
       "      <td>Chemist</td>\n",
       "    </tr>\n",
       "    <tr>\n",
       "      <th>4</th>\n",
       "      <td>Rachel Carson</td>\n",
       "      <td>1907-05-27</td>\n",
       "      <td>1964-04-14</td>\n",
       "      <td>56</td>\n",
       "      <td>Biologist</td>\n",
       "    </tr>\n",
       "    <tr>\n",
       "      <th>5</th>\n",
       "      <td>John Snow</td>\n",
       "      <td>1813-03-15</td>\n",
       "      <td>1858-06-16</td>\n",
       "      <td>45</td>\n",
       "      <td>Physician</td>\n",
       "    </tr>\n",
       "    <tr>\n",
       "      <th>6</th>\n",
       "      <td>Alan Turing</td>\n",
       "      <td>1912-06-23</td>\n",
       "      <td>1954-06-07</td>\n",
       "      <td>41</td>\n",
       "      <td>Computer Scientist</td>\n",
       "    </tr>\n",
       "    <tr>\n",
       "      <th>7</th>\n",
       "      <td>Johann Gauss</td>\n",
       "      <td>1777-04-30</td>\n",
       "      <td>1855-02-23</td>\n",
       "      <td>77</td>\n",
       "      <td>Mathematician</td>\n",
       "    </tr>\n",
       "  </tbody>\n",
       "</table>\n",
       "</div>"
      ],
      "text/plain": [
       "                   Name        Born        Died  Age          Occupation\n",
       "0     Rosaline Franklin  1920-07-25  1958-04-16   37             Chemist\n",
       "1        William Gosset  1876-06-13  1937-10-16   61        Statistician\n",
       "2  Florence Nightingale  1820-05-12  1910-08-13   90               Nurse\n",
       "3           Marie Curie  1867-11-07  1934-07-04   66             Chemist\n",
       "4         Rachel Carson  1907-05-27  1964-04-14   56           Biologist\n",
       "5             John Snow  1813-03-15  1858-06-16   45           Physician\n",
       "6           Alan Turing  1912-06-23  1954-06-07   41  Computer Scientist\n",
       "7          Johann Gauss  1777-04-30  1855-02-23   77       Mathematician"
      ]
     },
     "execution_count": 29,
     "metadata": {},
     "output_type": "execute_result"
    }
   ],
   "source": [
    "df"
   ]
  }
 ],
 "metadata": {
  "kernelspec": {
   "display_name": "Python 3 (ipykernel)",
   "language": "python",
   "name": "python3"
  },
  "language_info": {
   "codemirror_mode": {
    "name": "ipython",
    "version": 3
   },
   "file_extension": ".py",
   "mimetype": "text/x-python",
   "name": "python",
   "nbconvert_exporter": "python",
   "pygments_lexer": "ipython3",
   "version": "3.9.13"
  }
 },
 "nbformat": 4,
 "nbformat_minor": 5
}
