{
 "cells": [
  {
   "cell_type": "markdown",
   "id": "cf0b376a-8dba-422d-8651-7c9c35221647",
   "metadata": {},
   "source": [
    "## 데이터 시각화가 필요한 이유\n",
    "\n",
    "[정리 사이트](https://m.blog.naver.com/PostView.naver?isHttpsRedirect=true&blogId=datageeks&logNo=221528927707)\n",
    "\n",
    "#### 장점\n",
    "- 수치 파악을 할 때 그림으로 나타낼 수 있어서 더 명확하고 정확하게 데이터의 인사이트를 알 수 있음.\n",
    "\n"
   ]
  },
  {
   "cell_type": "code",
   "execution_count": 1,
   "id": "aa3ac7c5-a0ef-4dda-9212-e441b54b4f98",
   "metadata": {},
   "outputs": [],
   "source": [
    "import seaborn as sns"
   ]
  },
  {
   "cell_type": "markdown",
   "id": "eae37d54-fa7e-484a-b63a-d503334019a5",
   "metadata": {},
   "source": [
    "사용하고싶은 데이터 있으면 여기 참고해서 사용가능.\n",
    "\n",
    ".load_dataset() + Tab 누르면 나오는 사이트.\n",
    "\n",
    "(https://github.com/mwaskom/seaborn-data)"
   ]
  },
  {
   "cell_type": "code",
   "execution_count": 2,
   "id": "482f4b51-de38-4b48-af22-0fef8e55245b",
   "metadata": {},
   "outputs": [],
   "source": [
    "df = sns.load_dataset('anscombe')"
   ]
  },
  {
   "cell_type": "code",
   "execution_count": 3,
   "id": "b77e4b1c-9fdc-4a26-b3d8-6f33688dcd4a",
   "metadata": {},
   "outputs": [
    {
     "data": {
      "text/plain": [
       "pandas.core.frame.DataFrame"
      ]
     },
     "execution_count": 3,
     "metadata": {},
     "output_type": "execute_result"
    }
   ],
   "source": [
    "type(df)"
   ]
  },
  {
   "cell_type": "code",
   "execution_count": 4,
   "id": "3ad63112-bbfa-4a29-95de-299172222cd2",
   "metadata": {},
   "outputs": [
    {
     "data": {
      "text/plain": [
       "array(['I', 'II', 'III', 'IV'], dtype=object)"
      ]
     },
     "execution_count": 4,
     "metadata": {},
     "output_type": "execute_result"
    }
   ],
   "source": [
    "df['dataset'].unique()\n",
    "# 일단 임의의 개성있는 데이터들 넣어주고"
   ]
  },
  {
   "cell_type": "code",
   "execution_count": 5,
   "id": "fb4c16cc-4d17-412d-b3e5-648e17ab9bee",
   "metadata": {},
   "outputs": [],
   "source": [
    "dataset1 = df[df['dataset']=='I']\n",
    "dataset2 = df[df['dataset']=='II']\n",
    "dataset3 = df[df['dataset']=='III']\n",
    "dataset4 = df[df['dataset']=='IV']\n",
    "# 이렇게 원하는 데이터만 볼 수 있게 추출한다음 출력하면 된다."
   ]
  },
  {
   "cell_type": "code",
   "execution_count": 6,
   "id": "9459f7ff-b6d1-43cc-b7c6-5b73578ab4cf",
   "metadata": {
    "tags": []
   },
   "outputs": [
    {
     "data": {
      "text/html": [
       "<div>\n",
       "<style scoped>\n",
       "    .dataframe tbody tr th:only-of-type {\n",
       "        vertical-align: middle;\n",
       "    }\n",
       "\n",
       "    .dataframe tbody tr th {\n",
       "        vertical-align: top;\n",
       "    }\n",
       "\n",
       "    .dataframe thead th {\n",
       "        text-align: right;\n",
       "    }\n",
       "</style>\n",
       "<table border=\"1\" class=\"dataframe\">\n",
       "  <thead>\n",
       "    <tr style=\"text-align: right;\">\n",
       "      <th></th>\n",
       "      <th>dataset</th>\n",
       "      <th>x</th>\n",
       "      <th>y</th>\n",
       "    </tr>\n",
       "  </thead>\n",
       "  <tbody>\n",
       "    <tr>\n",
       "      <th>0</th>\n",
       "      <td>I</td>\n",
       "      <td>10.0</td>\n",
       "      <td>8.04</td>\n",
       "    </tr>\n",
       "    <tr>\n",
       "      <th>1</th>\n",
       "      <td>I</td>\n",
       "      <td>8.0</td>\n",
       "      <td>6.95</td>\n",
       "    </tr>\n",
       "    <tr>\n",
       "      <th>2</th>\n",
       "      <td>I</td>\n",
       "      <td>13.0</td>\n",
       "      <td>7.58</td>\n",
       "    </tr>\n",
       "    <tr>\n",
       "      <th>3</th>\n",
       "      <td>I</td>\n",
       "      <td>9.0</td>\n",
       "      <td>8.81</td>\n",
       "    </tr>\n",
       "    <tr>\n",
       "      <th>4</th>\n",
       "      <td>I</td>\n",
       "      <td>11.0</td>\n",
       "      <td>8.33</td>\n",
       "    </tr>\n",
       "    <tr>\n",
       "      <th>5</th>\n",
       "      <td>I</td>\n",
       "      <td>14.0</td>\n",
       "      <td>9.96</td>\n",
       "    </tr>\n",
       "    <tr>\n",
       "      <th>6</th>\n",
       "      <td>I</td>\n",
       "      <td>6.0</td>\n",
       "      <td>7.24</td>\n",
       "    </tr>\n",
       "    <tr>\n",
       "      <th>7</th>\n",
       "      <td>I</td>\n",
       "      <td>4.0</td>\n",
       "      <td>4.26</td>\n",
       "    </tr>\n",
       "    <tr>\n",
       "      <th>8</th>\n",
       "      <td>I</td>\n",
       "      <td>12.0</td>\n",
       "      <td>10.84</td>\n",
       "    </tr>\n",
       "    <tr>\n",
       "      <th>9</th>\n",
       "      <td>I</td>\n",
       "      <td>7.0</td>\n",
       "      <td>4.82</td>\n",
       "    </tr>\n",
       "    <tr>\n",
       "      <th>10</th>\n",
       "      <td>I</td>\n",
       "      <td>5.0</td>\n",
       "      <td>5.68</td>\n",
       "    </tr>\n",
       "  </tbody>\n",
       "</table>\n",
       "</div>"
      ],
      "text/plain": [
       "   dataset     x      y\n",
       "0        I  10.0   8.04\n",
       "1        I   8.0   6.95\n",
       "2        I  13.0   7.58\n",
       "3        I   9.0   8.81\n",
       "4        I  11.0   8.33\n",
       "5        I  14.0   9.96\n",
       "6        I   6.0   7.24\n",
       "7        I   4.0   4.26\n",
       "8        I  12.0  10.84\n",
       "9        I   7.0   4.82\n",
       "10       I   5.0   5.68"
      ]
     },
     "execution_count": 6,
     "metadata": {},
     "output_type": "execute_result"
    }
   ],
   "source": [
    "dataset1"
   ]
  },
  {
   "cell_type": "code",
   "execution_count": 7,
   "id": "1e36b06c-1a48-4857-889c-a719fc91b5ab",
   "metadata": {
    "tags": []
   },
   "outputs": [
    {
     "data": {
      "text/html": [
       "<div>\n",
       "<style scoped>\n",
       "    .dataframe tbody tr th:only-of-type {\n",
       "        vertical-align: middle;\n",
       "    }\n",
       "\n",
       "    .dataframe tbody tr th {\n",
       "        vertical-align: top;\n",
       "    }\n",
       "\n",
       "    .dataframe thead th {\n",
       "        text-align: right;\n",
       "    }\n",
       "</style>\n",
       "<table border=\"1\" class=\"dataframe\">\n",
       "  <thead>\n",
       "    <tr style=\"text-align: right;\">\n",
       "      <th></th>\n",
       "      <th>dataset</th>\n",
       "      <th>x</th>\n",
       "      <th>y</th>\n",
       "    </tr>\n",
       "  </thead>\n",
       "  <tbody>\n",
       "    <tr>\n",
       "      <th>22</th>\n",
       "      <td>III</td>\n",
       "      <td>10.0</td>\n",
       "      <td>7.46</td>\n",
       "    </tr>\n",
       "    <tr>\n",
       "      <th>23</th>\n",
       "      <td>III</td>\n",
       "      <td>8.0</td>\n",
       "      <td>6.77</td>\n",
       "    </tr>\n",
       "    <tr>\n",
       "      <th>24</th>\n",
       "      <td>III</td>\n",
       "      <td>13.0</td>\n",
       "      <td>12.74</td>\n",
       "    </tr>\n",
       "    <tr>\n",
       "      <th>25</th>\n",
       "      <td>III</td>\n",
       "      <td>9.0</td>\n",
       "      <td>7.11</td>\n",
       "    </tr>\n",
       "    <tr>\n",
       "      <th>26</th>\n",
       "      <td>III</td>\n",
       "      <td>11.0</td>\n",
       "      <td>7.81</td>\n",
       "    </tr>\n",
       "    <tr>\n",
       "      <th>27</th>\n",
       "      <td>III</td>\n",
       "      <td>14.0</td>\n",
       "      <td>8.84</td>\n",
       "    </tr>\n",
       "    <tr>\n",
       "      <th>28</th>\n",
       "      <td>III</td>\n",
       "      <td>6.0</td>\n",
       "      <td>6.08</td>\n",
       "    </tr>\n",
       "    <tr>\n",
       "      <th>29</th>\n",
       "      <td>III</td>\n",
       "      <td>4.0</td>\n",
       "      <td>5.39</td>\n",
       "    </tr>\n",
       "    <tr>\n",
       "      <th>30</th>\n",
       "      <td>III</td>\n",
       "      <td>12.0</td>\n",
       "      <td>8.15</td>\n",
       "    </tr>\n",
       "    <tr>\n",
       "      <th>31</th>\n",
       "      <td>III</td>\n",
       "      <td>7.0</td>\n",
       "      <td>6.42</td>\n",
       "    </tr>\n",
       "    <tr>\n",
       "      <th>32</th>\n",
       "      <td>III</td>\n",
       "      <td>5.0</td>\n",
       "      <td>5.73</td>\n",
       "    </tr>\n",
       "  </tbody>\n",
       "</table>\n",
       "</div>"
      ],
      "text/plain": [
       "   dataset     x      y\n",
       "22     III  10.0   7.46\n",
       "23     III   8.0   6.77\n",
       "24     III  13.0  12.74\n",
       "25     III   9.0   7.11\n",
       "26     III  11.0   7.81\n",
       "27     III  14.0   8.84\n",
       "28     III   6.0   6.08\n",
       "29     III   4.0   5.39\n",
       "30     III  12.0   8.15\n",
       "31     III   7.0   6.42\n",
       "32     III   5.0   5.73"
      ]
     },
     "execution_count": 7,
     "metadata": {},
     "output_type": "execute_result"
    }
   ],
   "source": [
    "dataset3"
   ]
  },
  {
   "cell_type": "markdown",
   "id": "eaafdc16-8f23-4f2d-b6cf-b33c022a984e",
   "metadata": {},
   "source": [
    "## matplotlib 활용한 시각화"
   ]
  },
  {
   "cell_type": "code",
   "execution_count": 8,
   "id": "e95e39a3-fb09-4719-a8b0-7c77ce5556d0",
   "metadata": {},
   "outputs": [],
   "source": [
    "import matplotlib.pyplot as plt"
   ]
  },
  {
   "cell_type": "code",
   "execution_count": 9,
   "id": "ca1364a9-2880-45ef-b3b7-05716ef1bcaf",
   "metadata": {
    "tags": []
   },
   "outputs": [
    {
     "data": {
      "text/plain": [
       "[<matplotlib.lines.Line2D at 0x1fed8b66e20>]"
      ]
     },
     "execution_count": 9,
     "metadata": {},
     "output_type": "execute_result"
    },
    {
     "data": {
      "image/png": "[encoded data removed]",
      "text/plain": [
       "<Figure size 640x480 with 1 Axes>"
      ]
     },
     "metadata": {},
     "output_type": "display_data"
    }
   ],
   "source": [
    "plt.plot(dataset1['x'],dataset1['y'],'o')"
   ]
  },
  {
   "cell_type": "code",
   "execution_count": 10,
   "id": "a51c7661-14e0-4210-bd8b-9e5b47017e7c",
   "metadata": {},
   "outputs": [
    {
     "data": {
      "text/plain": [
       "[<matplotlib.lines.Line2D at 0x1fed9317400>]"
      ]
     },
     "execution_count": 10,
     "metadata": {},
     "output_type": "execute_result"
    },
    {
     "data": {
      "image/png": "[encoded data removed]",
      "text/plain": [
       "<Figure size 640x480 with 4 Axes>"
      ]
     },
     "metadata": {},
     "output_type": "display_data"
    }
   ],
   "source": [
    "fig = plt.figure()\n",
    "# 전체를 구성할 기본 틀을 만드는 것.\n",
    "\n",
    "a1 = fig.add_subplot(2,2,1)\n",
    "a2 = fig.add_subplot(2,2,2)\n",
    "a3 = fig.add_subplot(2,2,3)\n",
    "a4 = fig.add_subplot(2,2,4)\n",
    "\n",
    "a1.plot(dataset1['x'],dataset1['y'],'o')\n",
    "a2.plot(dataset2['x'],dataset2['y'],'o')\n",
    "a3.plot(dataset3['x'],dataset3['y'],'o')\n",
    "a4.plot(dataset4['x'],dataset4['y'],'o')\n",
    "\n",
    "#이렇게 시각화해서 보면 각각의 차이점을 명확하게 알 수 있다."
   ]
  },
  {
   "cell_type": "code",
   "execution_count": 11,
   "id": "d9b2f90e-9c71-421b-abec-eefce555b65d",
   "metadata": {},
   "outputs": [
    {
     "name": "stderr",
     "output_type": "stream",
     "text": [
      "C:\\Users\\user\\AppData\\Local\\Temp\\ipykernel_10816\\2922208036.py:1: FutureWarning: Dropping of nuisance columns in DataFrame reductions (with 'numeric_only=None') is deprecated; in a future version this will raise TypeError.  Select only valid columns before calling the reduction.\n",
      "  dataset1.mean()\n"
     ]
    },
    {
     "data": {
      "text/plain": [
       "x    9.000000\n",
       "y    7.500909\n",
       "dtype: float64"
      ]
     },
     "execution_count": 11,
     "metadata": {},
     "output_type": "execute_result"
    }
   ],
   "source": [
    "dataset1.mean()\n",
    "# 평균치 계산해서 보면 모두 같기 때문에 수치만 봐선 안된다는걸 알 수 있다."
   ]
  },
  {
   "cell_type": "code",
   "execution_count": 12,
   "id": "7de59f67-fd25-47f1-b4f3-66b8eccf01bf",
   "metadata": {},
   "outputs": [
    {
     "name": "stderr",
     "output_type": "stream",
     "text": [
      "C:\\Users\\user\\AppData\\Local\\Temp\\ipykernel_10816\\3349088152.py:1: FutureWarning: Dropping of nuisance columns in DataFrame reductions (with 'numeric_only=None') is deprecated; in a future version this will raise TypeError.  Select only valid columns before calling the reduction.\n",
      "  dataset2.mean()\n"
     ]
    },
    {
     "data": {
      "text/plain": [
       "x    9.000000\n",
       "y    7.500909\n",
       "dtype: float64"
      ]
     },
     "execution_count": 12,
     "metadata": {},
     "output_type": "execute_result"
    }
   ],
   "source": [
    "dataset2.mean()"
   ]
  },
  {
   "cell_type": "code",
   "execution_count": 13,
   "id": "297e0f89-5151-428f-9a47-04fa93804885",
   "metadata": {},
   "outputs": [
    {
     "name": "stderr",
     "output_type": "stream",
     "text": [
      "C:\\Users\\user\\AppData\\Local\\Temp\\ipykernel_10816\\2152253674.py:1: FutureWarning: Dropping of nuisance columns in DataFrame reductions (with 'numeric_only=None') is deprecated; in a future version this will raise TypeError.  Select only valid columns before calling the reduction.\n",
      "  dataset3.mean()\n"
     ]
    },
    {
     "data": {
      "text/plain": [
       "x    9.0\n",
       "y    7.5\n",
       "dtype: float64"
      ]
     },
     "execution_count": 13,
     "metadata": {},
     "output_type": "execute_result"
    }
   ],
   "source": [
    "dataset3.mean()"
   ]
  },
  {
   "cell_type": "code",
   "execution_count": 14,
   "id": "df60a45f-03d3-46ae-88f5-47528c33ffa1",
   "metadata": {},
   "outputs": [
    {
     "name": "stderr",
     "output_type": "stream",
     "text": [
      "C:\\Users\\user\\AppData\\Local\\Temp\\ipykernel_10816\\1693280217.py:1: FutureWarning: Dropping of nuisance columns in DataFrame reductions (with 'numeric_only=None') is deprecated; in a future version this will raise TypeError.  Select only valid columns before calling the reduction.\n",
      "  dataset4.mean()\n"
     ]
    },
    {
     "data": {
      "text/plain": [
       "x    9.000000\n",
       "y    7.500909\n",
       "dtype: float64"
      ]
     },
     "execution_count": 14,
     "metadata": {},
     "output_type": "execute_result"
    }
   ],
   "source": [
    "dataset4.mean()"
   ]
  },
  {
   "cell_type": "code",
   "execution_count": 15,
   "id": "468c32c2-5521-4e8e-a459-ba450f3f63dd",
   "metadata": {},
   "outputs": [
    {
     "name": "stderr",
     "output_type": "stream",
     "text": [
      "C:\\Users\\user\\AppData\\Local\\Temp\\ipykernel_10816\\817002492.py:1: FutureWarning: Dropping of nuisance columns in DataFrame reductions (with 'numeric_only=None') is deprecated; in a future version this will raise TypeError.  Select only valid columns before calling the reduction.\n",
      "  dataset1.std()\n"
     ]
    },
    {
     "data": {
      "text/plain": [
       "x    3.316625\n",
       "y    2.031568\n",
       "dtype: float64"
      ]
     },
     "execution_count": 15,
     "metadata": {},
     "output_type": "execute_result"
    }
   ],
   "source": [
    "dataset1.std()\n",
    "# 표쥰편차"
   ]
  },
  {
   "cell_type": "code",
   "execution_count": 16,
   "id": "7aa77fa8-3913-4397-8af0-7077487e0be9",
   "metadata": {},
   "outputs": [
    {
     "name": "stderr",
     "output_type": "stream",
     "text": [
      "C:\\Users\\user\\AppData\\Local\\Temp\\ipykernel_10816\\3942917409.py:1: FutureWarning: Dropping of nuisance columns in DataFrame reductions (with 'numeric_only=None') is deprecated; in a future version this will raise TypeError.  Select only valid columns before calling the reduction.\n",
      "  dataset2.std()\n"
     ]
    },
    {
     "data": {
      "text/plain": [
       "x    3.316625\n",
       "y    2.031657\n",
       "dtype: float64"
      ]
     },
     "execution_count": 16,
     "metadata": {},
     "output_type": "execute_result"
    }
   ],
   "source": [
    "dataset2.std()"
   ]
  },
  {
   "cell_type": "code",
   "execution_count": 17,
   "id": "5cb924fe-ccf8-448e-bcfb-669d09a2a813",
   "metadata": {},
   "outputs": [
    {
     "name": "stderr",
     "output_type": "stream",
     "text": [
      "C:\\Users\\user\\AppData\\Local\\Temp\\ipykernel_10816\\29971814.py:1: FutureWarning: Dropping of nuisance columns in DataFrame reductions (with 'numeric_only=None') is deprecated; in a future version this will raise TypeError.  Select only valid columns before calling the reduction.\n",
      "  dataset3.std()\n"
     ]
    },
    {
     "data": {
      "text/plain": [
       "x    3.316625\n",
       "y    2.030424\n",
       "dtype: float64"
      ]
     },
     "execution_count": 17,
     "metadata": {},
     "output_type": "execute_result"
    }
   ],
   "source": [
    "dataset3.std()"
   ]
  },
  {
   "cell_type": "code",
   "execution_count": 18,
   "id": "08aac81d-c989-448a-bc98-d1a84ec07cf5",
   "metadata": {},
   "outputs": [
    {
     "name": "stderr",
     "output_type": "stream",
     "text": [
      "C:\\Users\\user\\AppData\\Local\\Temp\\ipykernel_10816\\3961378170.py:1: FutureWarning: Dropping of nuisance columns in DataFrame reductions (with 'numeric_only=None') is deprecated; in a future version this will raise TypeError.  Select only valid columns before calling the reduction.\n",
      "  dataset4.std()\n"
     ]
    },
    {
     "data": {
      "text/plain": [
       "x    3.316625\n",
       "y    2.030579\n",
       "dtype: float64"
      ]
     },
     "execution_count": 18,
     "metadata": {},
     "output_type": "execute_result"
    }
   ],
   "source": [
    "dataset4.std()"
   ]
  },
  {
   "cell_type": "code",
   "execution_count": 19,
   "id": "3e1fae29-b6b5-49be-8d38-26f34f30a4a3",
   "metadata": {},
   "outputs": [
    {
     "data": {
      "text/html": [
       "<div>\n",
       "<style scoped>\n",
       "    .dataframe tbody tr th:only-of-type {\n",
       "        vertical-align: middle;\n",
       "    }\n",
       "\n",
       "    .dataframe tbody tr th {\n",
       "        vertical-align: top;\n",
       "    }\n",
       "\n",
       "    .dataframe thead th {\n",
       "        text-align: right;\n",
       "    }\n",
       "</style>\n",
       "<table border=\"1\" class=\"dataframe\">\n",
       "  <thead>\n",
       "    <tr style=\"text-align: right;\">\n",
       "      <th></th>\n",
       "      <th>x</th>\n",
       "      <th>y</th>\n",
       "    </tr>\n",
       "  </thead>\n",
       "  <tbody>\n",
       "    <tr>\n",
       "      <th>x</th>\n",
       "      <td>1.000000</td>\n",
       "      <td>0.816421</td>\n",
       "    </tr>\n",
       "    <tr>\n",
       "      <th>y</th>\n",
       "      <td>0.816421</td>\n",
       "      <td>1.000000</td>\n",
       "    </tr>\n",
       "  </tbody>\n",
       "</table>\n",
       "</div>"
      ],
      "text/plain": [
       "          x         y\n",
       "x  1.000000  0.816421\n",
       "y  0.816421  1.000000"
      ]
     },
     "execution_count": 19,
     "metadata": {},
     "output_type": "execute_result"
    }
   ],
   "source": [
    "dataset1.corr()\n",
    "# 상관관계 분석 메서드"
   ]
  },
  {
   "cell_type": "code",
   "execution_count": 20,
   "id": "1a7d10ce-e923-43d1-981e-7f14c0d2ac0d",
   "metadata": {},
   "outputs": [
    {
     "data": {
      "text/html": [
       "<div>\n",
       "<style scoped>\n",
       "    .dataframe tbody tr th:only-of-type {\n",
       "        vertical-align: middle;\n",
       "    }\n",
       "\n",
       "    .dataframe tbody tr th {\n",
       "        vertical-align: top;\n",
       "    }\n",
       "\n",
       "    .dataframe thead th {\n",
       "        text-align: right;\n",
       "    }\n",
       "</style>\n",
       "<table border=\"1\" class=\"dataframe\">\n",
       "  <thead>\n",
       "    <tr style=\"text-align: right;\">\n",
       "      <th></th>\n",
       "      <th>x</th>\n",
       "      <th>y</th>\n",
       "    </tr>\n",
       "  </thead>\n",
       "  <tbody>\n",
       "    <tr>\n",
       "      <th>x</th>\n",
       "      <td>1.000000</td>\n",
       "      <td>0.816237</td>\n",
       "    </tr>\n",
       "    <tr>\n",
       "      <th>y</th>\n",
       "      <td>0.816237</td>\n",
       "      <td>1.000000</td>\n",
       "    </tr>\n",
       "  </tbody>\n",
       "</table>\n",
       "</div>"
      ],
      "text/plain": [
       "          x         y\n",
       "x  1.000000  0.816237\n",
       "y  0.816237  1.000000"
      ]
     },
     "execution_count": 20,
     "metadata": {},
     "output_type": "execute_result"
    }
   ],
   "source": [
    "dataset2.corr()"
   ]
  },
  {
   "cell_type": "code",
   "execution_count": 21,
   "id": "95055855-32ef-49a8-9466-0668d2297f1c",
   "metadata": {},
   "outputs": [
    {
     "data": {
      "text/html": [
       "<div>\n",
       "<style scoped>\n",
       "    .dataframe tbody tr th:only-of-type {\n",
       "        vertical-align: middle;\n",
       "    }\n",
       "\n",
       "    .dataframe tbody tr th {\n",
       "        vertical-align: top;\n",
       "    }\n",
       "\n",
       "    .dataframe thead th {\n",
       "        text-align: right;\n",
       "    }\n",
       "</style>\n",
       "<table border=\"1\" class=\"dataframe\">\n",
       "  <thead>\n",
       "    <tr style=\"text-align: right;\">\n",
       "      <th></th>\n",
       "      <th>x</th>\n",
       "      <th>y</th>\n",
       "    </tr>\n",
       "  </thead>\n",
       "  <tbody>\n",
       "    <tr>\n",
       "      <th>x</th>\n",
       "      <td>1.000000</td>\n",
       "      <td>0.816287</td>\n",
       "    </tr>\n",
       "    <tr>\n",
       "      <th>y</th>\n",
       "      <td>0.816287</td>\n",
       "      <td>1.000000</td>\n",
       "    </tr>\n",
       "  </tbody>\n",
       "</table>\n",
       "</div>"
      ],
      "text/plain": [
       "          x         y\n",
       "x  1.000000  0.816287\n",
       "y  0.816287  1.000000"
      ]
     },
     "execution_count": 21,
     "metadata": {},
     "output_type": "execute_result"
    }
   ],
   "source": [
    "dataset3.corr()"
   ]
  },
  {
   "cell_type": "code",
   "execution_count": 22,
   "id": "d9194f26-27d5-47a5-9622-5e6b7da5721f",
   "metadata": {},
   "outputs": [
    {
     "name": "stderr",
     "output_type": "stream",
     "text": [
      "C:\\Users\\user\\AppData\\Local\\Temp\\ipykernel_10816\\3961378170.py:1: FutureWarning: Dropping of nuisance columns in DataFrame reductions (with 'numeric_only=None') is deprecated; in a future version this will raise TypeError.  Select only valid columns before calling the reduction.\n",
      "  dataset4.std()\n"
     ]
    },
    {
     "data": {
      "text/plain": [
       "x    3.316625\n",
       "y    2.030579\n",
       "dtype: float64"
      ]
     },
     "execution_count": 22,
     "metadata": {},
     "output_type": "execute_result"
    }
   ],
   "source": [
    "dataset4.std()"
   ]
  },
  {
   "cell_type": "markdown",
   "id": "d3346479-f7c5-49aa-a10c-0be87c2fe8ea",
   "metadata": {},
   "source": [
    "## matplolib 라이브러리 사용하기"
   ]
  },
  {
   "cell_type": "markdown",
   "id": "52992e06-91b3-4d58-abe2-1549898a124b",
   "metadata": {},
   "source": [
    "### 기초 그래프 그리기"
   ]
  },
  {
   "cell_type": "markdown",
   "id": "c928ef6c-2a31-432d-97c3-506a7063e9fd",
   "metadata": {},
   "source": [
    "#### seaborn 라이브러리 : tips(데이터집합)"
   ]
  },
  {
   "cell_type": "code",
   "execution_count": 23,
   "id": "31883784-f89f-403c-9a51-d52a5d5f71e7",
   "metadata": {},
   "outputs": [],
   "source": [
    "tips = sns.load_dataset('tips')"
   ]
  },
  {
   "cell_type": "code",
   "execution_count": 24,
   "id": "7656f231-de16-423c-b940-dd9a73e0924d",
   "metadata": {},
   "outputs": [
    {
     "data": {
      "text/html": [
       "<div>\n",
       "<style scoped>\n",
       "    .dataframe tbody tr th:only-of-type {\n",
       "        vertical-align: middle;\n",
       "    }\n",
       "\n",
       "    .dataframe tbody tr th {\n",
       "        vertical-align: top;\n",
       "    }\n",
       "\n",
       "    .dataframe thead th {\n",
       "        text-align: right;\n",
       "    }\n",
       "</style>\n",
       "<table border=\"1\" class=\"dataframe\">\n",
       "  <thead>\n",
       "    <tr style=\"text-align: right;\">\n",
       "      <th></th>\n",
       "      <th>total_bill</th>\n",
       "      <th>tip</th>\n",
       "      <th>sex</th>\n",
       "      <th>smoker</th>\n",
       "      <th>day</th>\n",
       "      <th>time</th>\n",
       "      <th>size</th>\n",
       "    </tr>\n",
       "  </thead>\n",
       "  <tbody>\n",
       "    <tr>\n",
       "      <th>0</th>\n",
       "      <td>16.99</td>\n",
       "      <td>1.01</td>\n",
       "      <td>Female</td>\n",
       "      <td>No</td>\n",
       "      <td>Sun</td>\n",
       "      <td>Dinner</td>\n",
       "      <td>2</td>\n",
       "    </tr>\n",
       "    <tr>\n",
       "      <th>1</th>\n",
       "      <td>10.34</td>\n",
       "      <td>1.66</td>\n",
       "      <td>Male</td>\n",
       "      <td>No</td>\n",
       "      <td>Sun</td>\n",
       "      <td>Dinner</td>\n",
       "      <td>3</td>\n",
       "    </tr>\n",
       "  </tbody>\n",
       "</table>\n",
       "</div>"
      ],
      "text/plain": [
       "   total_bill   tip     sex smoker  day    time  size\n",
       "0       16.99  1.01  Female     No  Sun  Dinner     2\n",
       "1       10.34  1.66    Male     No  Sun  Dinner     3"
      ]
     },
     "execution_count": 24,
     "metadata": {},
     "output_type": "execute_result"
    }
   ],
   "source": [
    "tips.head(2)"
   ]
  },
  {
   "cell_type": "code",
   "execution_count": 25,
   "id": "877a8f84-f464-423f-afa0-a6b802a1916b",
   "metadata": {},
   "outputs": [
    {
     "name": "stdout",
     "output_type": "stream",
     "text": [
      "<class 'pandas.core.frame.DataFrame'>\n",
      "RangeIndex: 244 entries, 0 to 243\n",
      "Data columns (total 7 columns):\n",
      " #   Column      Non-Null Count  Dtype   \n",
      "---  ------      --------------  -----   \n",
      " 0   total_bill  244 non-null    float64 \n",
      " 1   tip         244 non-null    float64 \n",
      " 2   sex         244 non-null    category\n",
      " 3   smoker      244 non-null    category\n",
      " 4   day         244 non-null    category\n",
      " 5   time        244 non-null    category\n",
      " 6   size        244 non-null    int64   \n",
      "dtypes: category(4), float64(2), int64(1)\n",
      "memory usage: 7.4 KB\n"
     ]
    }
   ],
   "source": [
    "tips.info()\n",
    "# 전반적인 데이터 상태 호출"
   ]
  },
  {
   "cell_type": "markdown",
   "id": "9a9ac79b-0d3f-44c0-ae84-f21cc9a008c7",
   "metadata": {},
   "source": [
    "- histogram\n",
    "\n",
    ": 어떤 구간에 데이터가 몰려있는지 분포도를 확인할 때 주로 사용한다."
   ]
  },
  {
   "cell_type": "code",
   "execution_count": 26,
   "id": "12622981-ea66-4238-b57f-bd4bcc0d698f",
   "metadata": {},
   "outputs": [
    {
     "data": {
      "text/plain": [
       "Text(0, 0.5, 'total bill')"
      ]
     },
     "execution_count": 26,
     "metadata": {},
     "output_type": "execute_result"
    },
    {
     "data": {
      "image/png": "[encoded data removed]",
      "text/plain": [
       "<Figure size 640x480 with 1 Axes>"
      ]
     },
     "metadata": {},
     "output_type": "display_data"
    }
   ],
   "source": [
    "fig = plt.figure()\n",
    "# histogram 그리겠다 선언\n",
    "# subplot(1,1,1) : 1행 1열 1개\n",
    "a1 = fig.add_subplot(1,1,1)\n",
    "a1.hist(tips['total_bill'])\n",
    "\n",
    "# 표 제목 삽입\n",
    "a1.set_title('Histgram of total bill')\n",
    "# 표 x축 명칭 삽입\n",
    "a1.set_xlabel('Frequency')\n",
    "# 표 y축 명칭 삽입\n",
    "a1.set_ylabel('total bill')"
   ]
  },
  {
   "cell_type": "markdown",
   "id": "0b6f65d8-e2e4-4c0f-865d-2da8ccf2eddd",
   "metadata": {},
   "source": [
    "- 산점도 \n",
    "\n",
    ": 점으로 데이터를 표시한다.\n",
    "변수 2개를 사용해서 만든다.\n",
    "그래서 이변량 그래프라고 부른다."
   ]
  },
  {
   "cell_type": "code",
   "execution_count": 27,
   "id": "0d63113a-388d-4e4e-b681-af367c337aed",
   "metadata": {},
   "outputs": [
    {
     "data": {
      "text/plain": [
       "Text(0, 0.5, 'tip')"
      ]
     },
     "execution_count": 27,
     "metadata": {},
     "output_type": "execute_result"
    },
    {
     "data": {
      "image/png": "[encoded data removed]",
      "text/plain": [
       "<Figure size 640x480 with 1 Axes>"
      ]
     },
     "metadata": {},
     "output_type": "display_data"
    }
   ],
   "source": [
    "fig1 = plt.figure()\n",
    "a1 = fig1.add_subplot(1,1,1)\n",
    "a1.scatter(tips['total_bill'],tips['tip'])\n",
    "\n",
    "# 표 제목 삽입\n",
    "a1.set_title('scatterplot of total bill vs tip')\n",
    "# 표 x축 명칭 삽입\n",
    "a1.set_xlabel('total bill')\n",
    "# 표 y축 명칭 삽입\n",
    "a1.set_ylabel('tip')"
   ]
  },
  {
   "cell_type": "markdown",
   "id": "56b5fc55-096e-4429-993c-561e7a07c9f5",
   "metadata": {},
   "source": [
    "- 박스 그래프\n",
    "\n",
    ": 이산형 변수와 연속형 변수를 함께 사용하는 그래프.\n",
    "이산형 변수란 성별과 같이 명확하게 구분되는 값을 의미한다.\n",
    "연속성 변수란\n",
    "\n",
    "[박스 플롯 참고 링크](https://school.coding-x.com/lesson/128)"
   ]
  },
  {
   "cell_type": "code",
   "execution_count": 28,
   "id": "bcc9ff59-b5dc-41d8-8867-6218406df809",
   "metadata": {},
   "outputs": [
    {
     "data": {
      "text/plain": [
       "Text(0, 0.5, 'tip')"
      ]
     },
     "execution_count": 28,
     "metadata": {},
     "output_type": "execute_result"
    },
    {
     "data": {
      "image/png": "[encoded data removed]",
      "text/plain": [
       "<Figure size 640x480 with 1 Axes>"
      ]
     },
     "metadata": {},
     "output_type": "display_data"
    }
   ],
   "source": [
    "fig2 = plt.figure()\n",
    "a1 = fig2.add_subplot(1,1,1)\n",
    "a1.boxplot([tips[tips['sex'] == 'Female']['tip'],\n",
    "            tips[tips['sex'] == 'Male']['tip']],\n",
    "          labels=['Female','Male'])\n",
    "\n",
    "# 표 제목 삽입\n",
    "a1.set_title('Boxplot of tips by sex')\n",
    "# 표 x축 명칭 삽입\n",
    "a1.set_xlabel('sex')\n",
    "# 표 y축 명칭 삽입\n",
    "a1.set_ylabel('tip')"
   ]
  },
  {
   "cell_type": "markdown",
   "id": "b3e84cda-9a3d-4cd4-9ceb-8aaebcde94ae",
   "metadata": {},
   "source": [
    "### 다변량 데이터로 다변량 그래프 그리기 - 산점도 그래프"
   ]
  },
  {
   "cell_type": "code",
   "execution_count": 29,
   "id": "7ea7219b-297b-42c4-ab29-7cee04ec39e1",
   "metadata": {},
   "outputs": [],
   "source": [
    "def recode_sex(sex):\n",
    "    if sex == 'Female':\n",
    "        return 0\n",
    "    else:\n",
    "        return 1"
   ]
  },
  {
   "cell_type": "code",
   "execution_count": 30,
   "id": "18d93300-a8e8-4681-abcf-16f4b066d061",
   "metadata": {},
   "outputs": [],
   "source": [
    "# 함수를 일괄 적용시키는 것이 가능하다.\n",
    "# tips['sex'] 대괄호 안의 값이 recode_sex(sex): 속 괄호 값에 들어가야 한다.\n",
    "# 칼럼을 하나 더 추가한다.\n",
    "tips['sex_color']=tips['sex'].apply(recode_sex)\n",
    "\n",
    "#결과는 시리즈로 출력된다"
   ]
  },
  {
   "cell_type": "code",
   "execution_count": 31,
   "id": "7caba1b9-2e01-47e4-8885-d302e143c97e",
   "metadata": {},
   "outputs": [
    {
     "data": {
      "text/html": [
       "<div>\n",
       "<style scoped>\n",
       "    .dataframe tbody tr th:only-of-type {\n",
       "        vertical-align: middle;\n",
       "    }\n",
       "\n",
       "    .dataframe tbody tr th {\n",
       "        vertical-align: top;\n",
       "    }\n",
       "\n",
       "    .dataframe thead th {\n",
       "        text-align: right;\n",
       "    }\n",
       "</style>\n",
       "<table border=\"1\" class=\"dataframe\">\n",
       "  <thead>\n",
       "    <tr style=\"text-align: right;\">\n",
       "      <th></th>\n",
       "      <th>total_bill</th>\n",
       "      <th>tip</th>\n",
       "      <th>sex</th>\n",
       "      <th>smoker</th>\n",
       "      <th>day</th>\n",
       "      <th>time</th>\n",
       "      <th>size</th>\n",
       "      <th>sex_color</th>\n",
       "    </tr>\n",
       "  </thead>\n",
       "  <tbody>\n",
       "    <tr>\n",
       "      <th>0</th>\n",
       "      <td>16.99</td>\n",
       "      <td>1.01</td>\n",
       "      <td>Female</td>\n",
       "      <td>No</td>\n",
       "      <td>Sun</td>\n",
       "      <td>Dinner</td>\n",
       "      <td>2</td>\n",
       "      <td>0</td>\n",
       "    </tr>\n",
       "    <tr>\n",
       "      <th>1</th>\n",
       "      <td>10.34</td>\n",
       "      <td>1.66</td>\n",
       "      <td>Male</td>\n",
       "      <td>No</td>\n",
       "      <td>Sun</td>\n",
       "      <td>Dinner</td>\n",
       "      <td>3</td>\n",
       "      <td>1</td>\n",
       "    </tr>\n",
       "    <tr>\n",
       "      <th>2</th>\n",
       "      <td>21.01</td>\n",
       "      <td>3.50</td>\n",
       "      <td>Male</td>\n",
       "      <td>No</td>\n",
       "      <td>Sun</td>\n",
       "      <td>Dinner</td>\n",
       "      <td>3</td>\n",
       "      <td>1</td>\n",
       "    </tr>\n",
       "    <tr>\n",
       "      <th>3</th>\n",
       "      <td>23.68</td>\n",
       "      <td>3.31</td>\n",
       "      <td>Male</td>\n",
       "      <td>No</td>\n",
       "      <td>Sun</td>\n",
       "      <td>Dinner</td>\n",
       "      <td>2</td>\n",
       "      <td>1</td>\n",
       "    </tr>\n",
       "    <tr>\n",
       "      <th>4</th>\n",
       "      <td>24.59</td>\n",
       "      <td>3.61</td>\n",
       "      <td>Female</td>\n",
       "      <td>No</td>\n",
       "      <td>Sun</td>\n",
       "      <td>Dinner</td>\n",
       "      <td>4</td>\n",
       "      <td>0</td>\n",
       "    </tr>\n",
       "    <tr>\n",
       "      <th>...</th>\n",
       "      <td>...</td>\n",
       "      <td>...</td>\n",
       "      <td>...</td>\n",
       "      <td>...</td>\n",
       "      <td>...</td>\n",
       "      <td>...</td>\n",
       "      <td>...</td>\n",
       "      <td>...</td>\n",
       "    </tr>\n",
       "    <tr>\n",
       "      <th>239</th>\n",
       "      <td>29.03</td>\n",
       "      <td>5.92</td>\n",
       "      <td>Male</td>\n",
       "      <td>No</td>\n",
       "      <td>Sat</td>\n",
       "      <td>Dinner</td>\n",
       "      <td>3</td>\n",
       "      <td>1</td>\n",
       "    </tr>\n",
       "    <tr>\n",
       "      <th>240</th>\n",
       "      <td>27.18</td>\n",
       "      <td>2.00</td>\n",
       "      <td>Female</td>\n",
       "      <td>Yes</td>\n",
       "      <td>Sat</td>\n",
       "      <td>Dinner</td>\n",
       "      <td>2</td>\n",
       "      <td>0</td>\n",
       "    </tr>\n",
       "    <tr>\n",
       "      <th>241</th>\n",
       "      <td>22.67</td>\n",
       "      <td>2.00</td>\n",
       "      <td>Male</td>\n",
       "      <td>Yes</td>\n",
       "      <td>Sat</td>\n",
       "      <td>Dinner</td>\n",
       "      <td>2</td>\n",
       "      <td>1</td>\n",
       "    </tr>\n",
       "    <tr>\n",
       "      <th>242</th>\n",
       "      <td>17.82</td>\n",
       "      <td>1.75</td>\n",
       "      <td>Male</td>\n",
       "      <td>No</td>\n",
       "      <td>Sat</td>\n",
       "      <td>Dinner</td>\n",
       "      <td>2</td>\n",
       "      <td>1</td>\n",
       "    </tr>\n",
       "    <tr>\n",
       "      <th>243</th>\n",
       "      <td>18.78</td>\n",
       "      <td>3.00</td>\n",
       "      <td>Female</td>\n",
       "      <td>No</td>\n",
       "      <td>Thur</td>\n",
       "      <td>Dinner</td>\n",
       "      <td>2</td>\n",
       "      <td>0</td>\n",
       "    </tr>\n",
       "  </tbody>\n",
       "</table>\n",
       "<p>244 rows × 8 columns</p>\n",
       "</div>"
      ],
      "text/plain": [
       "     total_bill   tip     sex smoker   day    time  size sex_color\n",
       "0         16.99  1.01  Female     No   Sun  Dinner     2         0\n",
       "1         10.34  1.66    Male     No   Sun  Dinner     3         1\n",
       "2         21.01  3.50    Male     No   Sun  Dinner     3         1\n",
       "3         23.68  3.31    Male     No   Sun  Dinner     2         1\n",
       "4         24.59  3.61  Female     No   Sun  Dinner     4         0\n",
       "..          ...   ...     ...    ...   ...     ...   ...       ...\n",
       "239       29.03  5.92    Male     No   Sat  Dinner     3         1\n",
       "240       27.18  2.00  Female    Yes   Sat  Dinner     2         0\n",
       "241       22.67  2.00    Male    Yes   Sat  Dinner     2         1\n",
       "242       17.82  1.75    Male     No   Sat  Dinner     2         1\n",
       "243       18.78  3.00  Female     No  Thur  Dinner     2         0\n",
       "\n",
       "[244 rows x 8 columns]"
      ]
     },
     "execution_count": 31,
     "metadata": {},
     "output_type": "execute_result"
    }
   ],
   "source": [
    "tips"
   ]
  },
  {
   "cell_type": "code",
   "execution_count": 32,
   "id": "1de471e5-ecac-4069-863c-5cc44653c518",
   "metadata": {},
   "outputs": [
    {
     "data": {
      "text/plain": [
       "Text(0, 0.5, 'tip')"
      ]
     },
     "execution_count": 32,
     "metadata": {},
     "output_type": "execute_result"
    },
    {
     "data": {
      "image/png": "[encoded data removed]",
      "text/plain": [
       "<Figure size 640x480 with 1 Axes>"
      ]
     },
     "metadata": {},
     "output_type": "display_data"
    }
   ],
   "source": [
    "fig3 = plt.figure()\n",
    "a1 = fig3.add_subplot(1,1,1)\n",
    "a1.scatter(tips['total_bill'],\n",
    "           tips['tip'],\n",
    "           s=tips['size']*10,c=tips['sex_color'],\n",
    "           alpha=0.5\n",
    "          )\n",
    "\n",
    "# 표 제목 삽입\n",
    "a1.set_title('scatterplot of total bill vs tip')\n",
    "# 표 x축 명칭 삽입\n",
    "a1.set_xlabel('total bill')\n",
    "# 표 y축 명칭 삽입\n",
    "a1.set_ylabel('tip')"
   ]
  },
  {
   "cell_type": "markdown",
   "id": "239b63d9-99a0-417b-926d-c5f9fcdf8495",
   "metadata": {},
   "source": [
    "## seaborn 라이브러리로 산점도 그래프 그리기\n",
    "\n",
    "최근에 많이 사용되는 라이브러리이다.\n"
   ]
  },
  {
   "cell_type": "code",
   "execution_count": 33,
   "id": "4bc7bfd2-fbe4-4351-bdc7-99974c1e23f2",
   "metadata": {
    "tags": []
   },
   "outputs": [
    {
     "data": {
      "text/plain": [
       "Text(0.5, 1.0, 'total bill histgram')"
      ]
     },
     "execution_count": 33,
     "metadata": {},
     "output_type": "execute_result"
    },
    {
     "data": {
      "image/png": "[encoded data removed]",
      "text/plain": [
       "<Figure size 640x480 with 1 Axes>"
      ]
     },
     "metadata": {},
     "output_type": "display_data"
    }
   ],
   "source": [
    "# ax 변수 선언하고\n",
    "ax = plt.subplots()\n",
    "# 만들어준걸 ax에 투입\n",
    "# 만약 여기서 밀집도 그래프를 추가하고 싶다면\n",
    "# ,kde=True 추가해주면 해당 컬럼(지금은 밀집도)에 대한 선 그래프 추가 됨.\n",
    "ax = sns.histplot(tips['total_bill'],kde=True)\n",
    "\n",
    "ax.set_title('total bill histgram')"
   ]
  },
  {
   "cell_type": "code",
   "execution_count": 34,
   "id": "97f24ca8-8b33-4c5d-a0ad-7edfa0f55882",
   "metadata": {
    "tags": []
   },
   "outputs": [
    {
     "data": {
      "text/plain": [
       "Text(0.5, 1.0, 'total bill histgram')"
      ]
     },
     "execution_count": 34,
     "metadata": {},
     "output_type": "execute_result"
    },
    {
     "data": {
      "image/png": "[encoded data removed]",
      "text/plain": [
       "<Figure size 640x480 with 1 Axes>"
      ]
     },
     "metadata": {},
     "output_type": "display_data"
    }
   ],
   "source": [
    "ax = plt.subplots()\n",
    "ax = sns.histplot(data=tips,x='total_bill',kde=True)\n",
    "ax.set_title('total bill histgram')"
   ]
  },
  {
   "cell_type": "code",
   "execution_count": 35,
   "id": "01edffcf-a688-4140-920a-951a6f9e9b37",
   "metadata": {
    "tags": []
   },
   "outputs": [
    {
     "data": {
      "text/plain": [
       "<AxesSubplot:xlabel='day', ylabel='count'>"
      ]
     },
     "execution_count": 35,
     "metadata": {},
     "output_type": "execute_result"
    },
    {
     "data": {
      "image/png": "[encoded data removed]",
      "text/plain": [
       "<Figure size 640x480 with 1 Axes>"
      ]
     },
     "metadata": {},
     "output_type": "display_data"
    }
   ],
   "source": [
    "sns.countplot(data=tips,x='day')"
   ]
  },
  {
   "cell_type": "code",
   "execution_count": 36,
   "id": "530e6e83-92a4-4128-876b-40e7fa32ec20",
   "metadata": {},
   "outputs": [
    {
     "data": {
      "text/plain": [
       "['Sun', 'Sat', 'Thur', 'Fri']\n",
       "Categories (4, object): ['Thur', 'Fri', 'Sat', 'Sun']"
      ]
     },
     "execution_count": 36,
     "metadata": {},
     "output_type": "execute_result"
    }
   ],
   "source": [
    "tips['day'].unique()"
   ]
  },
  {
   "cell_type": "code",
   "execution_count": 37,
   "id": "3326c48e-8444-4252-9638-1ab89f194747",
   "metadata": {},
   "outputs": [],
   "source": [
    "day_list = ['Sun', 'mon', 'Tues', 'wed', 'Thur', 'Fri', 'Sat']"
   ]
  },
  {
   "cell_type": "code",
   "execution_count": 38,
   "id": "ce8dfe6c-9917-47e3-8df2-7c2569b7983f",
   "metadata": {
    "tags": []
   },
   "outputs": [
    {
     "data": {
      "text/plain": [
       "<AxesSubplot:xlabel='day', ylabel='count'>"
      ]
     },
     "execution_count": 38,
     "metadata": {},
     "output_type": "execute_result"
    },
    {
     "data": {
      "image/png": "[encoded data removed]",
      "text/plain": [
       "<Figure size 640x480 with 1 Axes>"
      ]
     },
     "metadata": {},
     "output_type": "display_data"
    }
   ],
   "source": [
    "sns.countplot(data=tips,x='day',order=day_list)"
   ]
  }
 ],
 "metadata": {
  "kernelspec": {
   "display_name": "Python 3 (ipykernel)",
   "language": "python",
   "name": "python3"
  },
  "language_info": {
   "codemirror_mode": {
    "name": "ipython",
    "version": 3
   },
   "file_extension": ".py",
   "mimetype": "text/x-python",
   "name": "python",
   "nbconvert_exporter": "python",
   "pygments_lexer": "ipython3",
   "version": "3.9.13"
  }
 },
 "nbformat": 4,
 "nbformat_minor": 5
}
